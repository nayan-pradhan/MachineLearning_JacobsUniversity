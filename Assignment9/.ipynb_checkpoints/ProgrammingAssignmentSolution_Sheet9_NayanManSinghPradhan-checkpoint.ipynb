{
 "cells": [
  {
   "cell_type": "code",
   "execution_count": 229,
   "metadata": {},
   "outputs": [],
   "source": [
    "from sklearn.neighbors import KNeighborsClassifier\n",
    "# from sklearn.discriminant_analysis import LinearDiscriminantAnalysis\n",
    "import numpy as np\n",
    "import matplotlib.pyplot as plt\n",
    "from matplotlib.colors import ListedColormap\n",
    "import collections\n",
    "from numpy.linalg import inv"
   ]
  },
  {
   "cell_type": "code",
   "execution_count": 248,
   "metadata": {},
   "outputs": [],
   "source": [
    "def get_max_arg(g_fn):\n",
    "    \n",
    "    max_arg = 0\n",
    "    sum_list = [[] for i in range(len(g_fn))]\n",
    "    \n",
    "    for index_i, value_i in enumerate(g_fn):\n",
    "        sum_val = 0\n",
    "        for index_j, value_j in enumerate(value_i):\n",
    "            sum_val += value_j\n",
    "        sum_list[index_i].append(sum_val)\n",
    "    \n",
    "    max_sum = sum_list[0]\n",
    "    max_index = 0\n",
    "    for index_k, value_k in enumerate(sum_list):\n",
    "#         print(value_k)\n",
    "        if value_k > max_sum:\n",
    "            max_sum = value_k\n",
    "            max_index = index_k\n",
    "    \n",
    "    return max_index\n",
    "\n",
    "\n",
    "def LDA(X, predict_x):\n",
    "    \n",
    "    ###\n",
    "    \n",
    "    N_g_list = []\n",
    "    for i in range(len(X)):\n",
    "        ind = int(X[i][-1])\n",
    "        N_g_list.append(ind)\n",
    "    N_g = collections.Counter(N_g_list)\n",
    "    \n",
    "    ###\n",
    "    \n",
    "    p_g = []\n",
    "    for i in (N_g):\n",
    "        p_g.append((N_g[i])/len(N_g_list))\n",
    "\n",
    "    ###\n",
    "    \n",
    "    classes = []\n",
    "\n",
    "    for i in (N_g):\n",
    "        classes.append(i)\n",
    "\n",
    "    ###\n",
    "    \n",
    "    x_y_split = [] \n",
    "    x_list = [[] for i in range(len(N_g))]\n",
    "\n",
    "    for i in range(len(X)):\n",
    "        x_y_split.append(np.split(X[i], [-1]))\n",
    "\n",
    "    for j in range(len(X)):\n",
    "        for k in range(len(classes)):\n",
    "            if x_y_split[j][1] == classes[k]:\n",
    "                x_list[k].append(x_y_split[j][0])\n",
    "\n",
    "    x_list_store = x_list\n",
    "    \n",
    "    ###\n",
    "    \n",
    "    mean_list = []\n",
    "\n",
    "    for counter, value in enumerate(N_g):\n",
    "        mean = (1/N_g[value]) * (sum(x_list[counter]))\n",
    "        mean_list.append(mean)\n",
    "\n",
    "    ###\n",
    "    \n",
    "    coeff = 0\n",
    "\n",
    "    x_list = x_list_store\n",
    "\n",
    "    mean_list = np.array(mean_list)\n",
    "\n",
    "    denominator = len(X) - len(classes)\n",
    "\n",
    "    numerator = 0\n",
    "\n",
    "    for class_index, class_value in enumerate(classes):\n",
    "        x_minus_mean = []\n",
    "\n",
    "        for x_val in x_list[class_index]:\n",
    "            temp = x_val - mean_list[class_index]\n",
    "            x_minus_mean.append(temp)\n",
    "\n",
    "        x_minus_mean = np.array(x_minus_mean)\n",
    "        numerator += np.dot(x_minus_mean.T, x_minus_mean)\n",
    "\n",
    "    coeff = (numerator/denominator)\n",
    "    \n",
    "    ### \n",
    "    \n",
    "    g_fn = []\n",
    "\n",
    "#     predict_x = [0.5]\n",
    "    predict_x = np.array(predict_x)\n",
    "\n",
    "    for class_index, class_value in enumerate(classes):\n",
    "        _a = (np.log(p_g[class_index]))\n",
    "        _b = np.dot(np.dot(predict_x,inv(coeff)),mean_list[class_index])\n",
    "        _c = -(0.5*np.dot(np.dot((mean_list[class_index].T),(inv(coeff))), mean_list[class_index]))\n",
    "        g_fn_class = _a + _b + _c\n",
    "#         g_fn_class = (np.log(p_g[class_index])) + ((predict_x.T)*(inv(coeff))*mean_list[class_index]) - (0.5*(mean_list[class_index].T)*(inv(coeff))*mean_list[class_index])\n",
    "        g_fn.append(g_fn_class)\n",
    "    \n",
    "    g_fn = np.array(g_fn)\n",
    "\n",
    "#     argmax_val = get_max_arg(g_fn)\n",
    "    \n",
    "    print(g_fn)\n",
    "    argmax_val = g_fn.argmax()\n",
    "    \n",
    "#     print(\"g_fn:\", g_fn)\n",
    "#     print(\"argmax:\", argmax_val)\n",
    "    \n",
    "    return (classes[argmax_val])"
   ]
  },
  {
   "cell_type": "code",
   "execution_count": 249,
   "metadata": {},
   "outputs": [],
   "source": [
    "N = 30\n",
    "\n",
    "np.random.seed(123)\n",
    "X1 = np.random.multivariate_normal([1,1],[[1,0],[0,1]],N)\n",
    "X1 = np.concatenate((X1,1.0*np.ones((N,1))),axis=1)\n",
    "X2 = np.random.multivariate_normal([-1,-1],[[1,0],[0,1]],N)\n",
    "X2 = np.concatenate((X2,2.0*np.ones((N,1))),axis=1)\n",
    "X3 = np.random.multivariate_normal([2,0],[[1,0],[0,1]],N)\n",
    "X3 = np.concatenate((X3,3.0*np.ones((N,1))),axis=1)\n",
    "\n",
    "X = np.concatenate((X1,X2,X3));"
   ]
  },
  {
   "cell_type": "code",
   "execution_count": 250,
   "metadata": {},
   "outputs": [],
   "source": [
    "# X = np.array([(0,1), (1,2), (1.5,2), (2,2)])\n",
    "# x_pred = [0.5]\n",
    "\n",
    "# print(\"Predicted Class:\", LDA(X, x_pred))"
   ]
  },
  {
   "cell_type": "code",
   "execution_count": 252,
   "metadata": {},
   "outputs": [
    {
     "name": "stdout",
     "output_type": "stream",
     "text": [
      "[[ -9.59437825  -9.57461306  -9.55484787 ...   5.99178519   6.01155038\n",
      "    6.03131557]\n",
      " [  5.10068962   5.08649914   5.07230866 ...  -9.77444078  -9.78863126\n",
      "   -9.80282174]\n",
      " [-11.05776972 -11.0172711  -10.97677249 ...   5.34583285   5.38633147\n",
      "    5.42683009]]\n"
     ]
    },
    {
     "ename": "IndexError",
     "evalue": "list index out of range",
     "output_type": "error",
     "traceback": [
      "\u001b[0;31m---------------------------------------------------------------------------\u001b[0m",
      "\u001b[0;31mIndexError\u001b[0m                                Traceback (most recent call last)",
      "\u001b[0;32m<ipython-input-252-edafb4d23aec>\u001b[0m in \u001b[0;36m<module>\u001b[0;34m\u001b[0m\n\u001b[1;32m      4\u001b[0m xx, yy = np.meshgrid(np.arange(x_min, x_max, h),\n\u001b[1;32m      5\u001b[0m                      np.arange(y_min, y_max, h))\n\u001b[0;32m----> 6\u001b[0;31m \u001b[0mZ\u001b[0m \u001b[0;34m=\u001b[0m \u001b[0mLDA\u001b[0m\u001b[0;34m(\u001b[0m\u001b[0mX\u001b[0m\u001b[0;34m,\u001b[0m \u001b[0mnp\u001b[0m\u001b[0;34m.\u001b[0m\u001b[0mc_\u001b[0m\u001b[0;34m[\u001b[0m\u001b[0mxx\u001b[0m\u001b[0;34m.\u001b[0m\u001b[0mravel\u001b[0m\u001b[0;34m(\u001b[0m\u001b[0;34m)\u001b[0m\u001b[0;34m,\u001b[0m \u001b[0myy\u001b[0m\u001b[0;34m.\u001b[0m\u001b[0mravel\u001b[0m\u001b[0;34m(\u001b[0m\u001b[0;34m)\u001b[0m\u001b[0;34m]\u001b[0m\u001b[0;34m)\u001b[0m\u001b[0;34m\u001b[0m\u001b[0;34m\u001b[0m\u001b[0m\n\u001b[0m\u001b[1;32m      7\u001b[0m \u001b[0;31m# Z = Z.reshape(xx.shape)\u001b[0m\u001b[0;34m\u001b[0m\u001b[0;34m\u001b[0m\u001b[0;34m\u001b[0m\u001b[0m\n\u001b[1;32m      8\u001b[0m \u001b[0mplt\u001b[0m\u001b[0;34m.\u001b[0m\u001b[0mfigure\u001b[0m\u001b[0;34m(\u001b[0m\u001b[0mdpi\u001b[0m\u001b[0;34m=\u001b[0m\u001b[0;36m300\u001b[0m\u001b[0;34m)\u001b[0m\u001b[0;34m\u001b[0m\u001b[0;34m\u001b[0m\u001b[0m\n",
      "\u001b[0;32m<ipython-input-248-8c5758567177>\u001b[0m in \u001b[0;36mLDA\u001b[0;34m(X, predict_x)\u001b[0m\n\u001b[1;32m    116\u001b[0m \u001b[0;31m#     print(\"argmax:\", argmax_val)\u001b[0m\u001b[0;34m\u001b[0m\u001b[0;34m\u001b[0m\u001b[0;34m\u001b[0m\u001b[0m\n\u001b[1;32m    117\u001b[0m \u001b[0;34m\u001b[0m\u001b[0m\n\u001b[0;32m--> 118\u001b[0;31m     \u001b[0;32mreturn\u001b[0m \u001b[0;34m(\u001b[0m\u001b[0mclasses\u001b[0m\u001b[0;34m[\u001b[0m\u001b[0margmax_val\u001b[0m\u001b[0;34m]\u001b[0m\u001b[0;34m)\u001b[0m\u001b[0;34m\u001b[0m\u001b[0;34m\u001b[0m\u001b[0m\n\u001b[0m",
      "\u001b[0;31mIndexError\u001b[0m: list index out of range"
     ]
    }
   ],
   "source": [
    "h = 0.02\n",
    "x_min, x_max = X[:, 0].min() - 1, X[:, 0].max() + 1\n",
    "y_min, y_max = X[:, 1].min() - 1, X[:, 1].max() + 1\n",
    "xx, yy = np.meshgrid(np.arange(x_min, x_max, h),\n",
    "                     np.arange(y_min, y_max, h))\n",
    "Z = LDA(X, np.c_[xx.ravel(), yy.ravel()])\n",
    "# Z = Z.reshape(xx.shape)\n",
    "plt.figure(dpi=300)\n",
    "plt.pcolormesh(xx, yy, Z, cmap='Pastel2', shading='auto')\n",
    "\n",
    "plt.scatter(X[:,0],X[:,1],c=X[:,2],cmap='Set2');\n",
    "plt.title(\"Linear classifier (linear discriminant analysis)\")\n",
    "plt.show()"
   ]
  },
  {
   "cell_type": "markdown",
   "metadata": {},
   "source": [
    "## Step by step process"
   ]
  },
  {
   "cell_type": "code",
   "execution_count": 119,
   "metadata": {},
   "outputs": [
    {
     "name": "stdout",
     "output_type": "stream",
     "text": [
      "Counter({2: 3, 1: 1})\n"
     ]
    }
   ],
   "source": [
    "N_g_list = []\n",
    "\n",
    "for i in range(len(X)):\n",
    "    ind = int(X[i][-1])\n",
    "    N_g_list.append(ind)\n",
    "    \n",
    "N_g = collections.Counter(N_g_list)\n",
    "print(N_g)"
   ]
  },
  {
   "cell_type": "code",
   "execution_count": 120,
   "metadata": {},
   "outputs": [
    {
     "name": "stdout",
     "output_type": "stream",
     "text": [
      "[0.25, 0.75]\n"
     ]
    }
   ],
   "source": [
    "p_g = []\n",
    "\n",
    "for i in (N_g):\n",
    "    p_g.append((N_g[i])/len(N_g_list))\n",
    "\n",
    "print(p_g)"
   ]
  },
  {
   "cell_type": "code",
   "execution_count": 121,
   "metadata": {},
   "outputs": [
    {
     "name": "stdout",
     "output_type": "stream",
     "text": [
      "[1, 2]\n"
     ]
    }
   ],
   "source": [
    "classes = []\n",
    "\n",
    "for i in (N_g):\n",
    "    classes.append(i)\n",
    "    \n",
    "print(classes)"
   ]
  },
  {
   "cell_type": "code",
   "execution_count": 122,
   "metadata": {},
   "outputs": [],
   "source": [
    "x_y_split = [] \n",
    "x_list = [[] for i in range(len(N_g))]\n",
    "\n",
    "for i in range(len(X)):\n",
    "    x_y_split.append(np.split(X[i], [-1]))\n",
    "    \n",
    "for j in range(len(X)):\n",
    "    \n",
    "    for k in range(len(classes)):\n",
    "        \n",
    "        if x_y_split[j][1] == classes[k]:\n",
    "            x_list[k].append(x_y_split[j][0])\n",
    "\n",
    "x_list_store = x_list\n",
    "\n",
    "# print(x_y_split)\n",
    "# print(x_list)\n",
    "# print(x_list[0])\n",
    "# print(x_list[1])"
   ]
  },
  {
   "cell_type": "code",
   "execution_count": 123,
   "metadata": {},
   "outputs": [
    {
     "name": "stdout",
     "output_type": "stream",
     "text": [
      "[array([0.]), array([1.5])]\n"
     ]
    }
   ],
   "source": [
    "mean_list = []\n",
    "\n",
    "for counter, value in enumerate(N_g):\n",
    "    mean = (1/N_g[value]) * (sum(x_list[counter]))\n",
    "    mean_list.append(mean)\n",
    "    \n",
    "print(mean_list)"
   ]
  },
  {
   "cell_type": "code",
   "execution_count": 124,
   "metadata": {},
   "outputs": [
    {
     "name": "stdout",
     "output_type": "stream",
     "text": [
      "[[0.25]]\n"
     ]
    }
   ],
   "source": [
    "coeff = 0\n",
    "\n",
    "x_list = x_list_store\n",
    "\n",
    "mean_list = np.array(mean_list)\n",
    "\n",
    "denominator = len(X) - len(classes)\n",
    "\n",
    "numerator = 0\n",
    "\n",
    "for class_index, class_value in enumerate(classes):\n",
    "    x_minus_mean = []\n",
    "    \n",
    "    for x_val in x_list[class_index]:\n",
    "        temp = x_val - mean_list[class_index]\n",
    "        x_minus_mean.append(temp)\n",
    "        \n",
    "    x_minus_mean = np.array(x_minus_mean)\n",
    "    numerator += np.dot(x_minus_mean.T, x_minus_mean)\n",
    "    \n",
    "coeff = (numerator/denominator)\n",
    "print(coeff)"
   ]
  },
  {
   "cell_type": "code",
   "execution_count": 125,
   "metadata": {},
   "outputs": [
    {
     "name": "stdout",
     "output_type": "stream",
     "text": [
      "[[0.25]]\n"
     ]
    }
   ],
   "source": [
    "coeff_list = []\n",
    "\n",
    "for i in range(len(classes)):\n",
    "    x_minus_mean = x_list[i] - mean_list[i] \n",
    "    coeff_temp = np.dot(x_minus_mean.T, x_minus_mean)\n",
    "    coeff_list.append(coeff_temp)\n",
    "\n",
    "coeff = (1/(len(N_g_list)-len(classes)) * sum(coeff_list))\n",
    "print(coeff)"
   ]
  },
  {
   "cell_type": "code",
   "execution_count": 126,
   "metadata": {},
   "outputs": [
    {
     "name": "stdout",
     "output_type": "stream",
     "text": [
      "[array([[-1.38629436]]), array([[-1.78768207]])]\n",
      "[array([[-1.38629436]]), array([[-1.78768207]])]\n",
      "[[[-1.38629436]]\n",
      "\n",
      " [[-1.78768207]]]\n",
      "0\n",
      "Predicted Class =  1\n"
     ]
    }
   ],
   "source": [
    "g_fn = []\n",
    "\n",
    "# predict value is given \n",
    "predict_x = [0.5]\n",
    "predict_x = np.array(predict_x)\n",
    "\n",
    "for class_index, class_value in enumerate(classes):\n",
    "    g_fn_class = (np.log(p_g[class_index])) + ((predict_x.T)*(inv(coeff))*mean_list[class_index]) - (0.5*(mean_list[class_index].T)*(inv(coeff))*mean_list[class_index])\n",
    "    g_fn.append(g_fn_class)\n",
    "\n",
    "print(g_fn)\n",
    "    \n",
    "# find index of larges g_fn\n",
    "# max_index = 0\n",
    "# max_value = 0\n",
    "# for index, item in enumerate(g_fn):\n",
    "#     pass\n",
    "#     print(item)\n",
    "#     if item > max_value:\n",
    "#         max_value = item\n",
    "#         max_index = index \n",
    "print(g_fn)\n",
    "g_fn = np.array(g_fn)\n",
    "print(g_fn)\n",
    "argmax_val = g_fn.argmax()\n",
    "print(check)\n",
    "print(\"Predicted Class = \", classes[argmax_val])\n",
    "\n",
    "# predicted_class_output = classes[max_index]\n",
    "# print(predicted_class_output)"
   ]
  },
  {
   "cell_type": "code",
   "execution_count": 127,
   "metadata": {},
   "outputs": [],
   "source": [
    "# new_X = []\n",
    "# new_y = []\n",
    "\n",
    "# for i in X:\n",
    "#     temp_new_X = (i[:-1])\n",
    "#     new_X.append(temp_new_X)\n",
    "#     temp_new_y = (i[-1:])\n",
    "#     new_y.append(temp_new_y)\n",
    "\n",
    "# new_X = np.array(new_X)\n",
    "# new_y = np.array(new_y)"
   ]
  },
  {
   "cell_type": "code",
   "execution_count": 128,
   "metadata": {},
   "outputs": [],
   "source": [
    "# new_predict_x = predict_x\n",
    "# new_predict_x = new_predict_x.reshape(-1,1)\n",
    "\n",
    "# print(new_predict_x)\n",
    "# print(new_predict_x.shape)\n",
    "\n",
    "# from sklearn.discriminant_analysis import LinearDiscriminantAnalysis\n",
    "# clf = LinearDiscriminantAnalysis()\n",
    "# clf.fit(new_X, new_y)\n",
    "# print(clf.predict([new_predict_x]))"
   ]
  },
  {
   "cell_type": "code",
   "execution_count": null,
   "metadata": {},
   "outputs": [],
   "source": []
  }
 ],
 "metadata": {
  "kernelspec": {
   "display_name": "Python 3",
   "language": "python",
   "name": "python3"
  },
  "language_info": {
   "codemirror_mode": {
    "name": "ipython",
    "version": 3
   },
   "file_extension": ".py",
   "mimetype": "text/x-python",
   "name": "python",
   "nbconvert_exporter": "python",
   "pygments_lexer": "ipython3",
   "version": "3.7.6"
  }
 },
 "nbformat": 4,
 "nbformat_minor": 4
}
