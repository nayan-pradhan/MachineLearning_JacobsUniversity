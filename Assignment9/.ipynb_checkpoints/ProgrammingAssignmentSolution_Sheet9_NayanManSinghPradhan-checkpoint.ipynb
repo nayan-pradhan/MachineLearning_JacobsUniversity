{
 "cells": [
  {
   "cell_type": "code",
   "execution_count": 1,
   "metadata": {},
   "outputs": [],
   "source": [
    "from sklearn.neighbors import KNeighborsClassifier\n",
    "from sklearn.discriminant_analysis import LinearDiscriminantAnalysis\n",
    "import numpy as np\n",
    "import matplotlib.pyplot as plt\n",
    "from matplotlib.colors import ListedColormap\n",
    "import collections\n",
    "from numpy.linalg import inv"
   ]
  },
  {
   "cell_type": "code",
   "execution_count": 2,
   "metadata": {},
   "outputs": [],
   "source": [
    "N = 30\n",
    "\n",
    "np.random.seed(123)\n",
    "X1 = np.random.multivariate_normal([1,1],[[1,0],[0,1]],N)\n",
    "X1 = np.concatenate((X1,1.0*np.ones((N,1))),axis=1)\n",
    "X2 = np.random.multivariate_normal([-1,-1],[[1,0],[0,1]],N)\n",
    "X2 = np.concatenate((X2,2.0*np.ones((N,1))),axis=1)\n",
    "X3 = np.random.multivariate_normal([2,0],[[1,0],[0,1]],N)\n",
    "X3 = np.concatenate((X3,3.0*np.ones((N,1))),axis=1)\n",
    "\n",
    "X = np.concatenate((X1,X2,X3));"
   ]
  },
  {
   "cell_type": "code",
   "execution_count": 3,
   "metadata": {},
   "outputs": [
    {
     "name": "stdout",
     "output_type": "stream",
     "text": [
      "[[0.  1. ]\n",
      " [1.  2. ]\n",
      " [1.5 2. ]\n",
      " [2.  2. ]]\n"
     ]
    }
   ],
   "source": [
    "# print(X)\n",
    "X = np.array([(0,1), (1,2), (1.5,2), (2,2)])\n",
    "# X = np.array([(1,1,0), (2,3,0), (5,1,1), (5,2,2)])\n",
    "print(X)"
   ]
  },
  {
   "cell_type": "code",
   "execution_count": 4,
   "metadata": {},
   "outputs": [
    {
     "name": "stdout",
     "output_type": "stream",
     "text": [
      "Counter({2: 3, 1: 1})\n"
     ]
    }
   ],
   "source": [
    "N_g_list = []\n",
    "\n",
    "for i in range(len(X)):\n",
    "    ind = int(X[i][-1])\n",
    "    N_g_list.append(ind)\n",
    "    \n",
    "N_g = collections.Counter(N_g_list)\n",
    "print(N_g)"
   ]
  },
  {
   "cell_type": "code",
   "execution_count": 5,
   "metadata": {},
   "outputs": [
    {
     "name": "stdout",
     "output_type": "stream",
     "text": [
      "[0.25, 0.75]\n"
     ]
    }
   ],
   "source": [
    "p_g = []\n",
    "\n",
    "for i in (N_g):\n",
    "    p_g.append((N_g[i])/len(N_g_list))\n",
    "\n",
    "print(p_g)"
   ]
  },
  {
   "cell_type": "code",
   "execution_count": 7,
   "metadata": {},
   "outputs": [
    {
     "name": "stdout",
     "output_type": "stream",
     "text": [
      "[1, 2]\n"
     ]
    }
   ],
   "source": [
    "classes = []\n",
    "\n",
    "for i in (N_g):\n",
    "    classes.append(i)\n",
    "    \n",
    "print(classes)"
   ]
  },
  {
   "cell_type": "code",
   "execution_count": 14,
   "metadata": {},
   "outputs": [
    {
     "name": "stdout",
     "output_type": "stream",
     "text": [
      "[[array([0.]), array([1.])], [array([1.]), array([2.])], [array([1.5]), array([2.])], [array([2.]), array([2.])]]\n",
      "[[array([0.])], [array([1.]), array([1.5]), array([2.])]]\n",
      "[array([0.])]\n",
      "[array([1.]), array([1.5]), array([2.])]\n"
     ]
    }
   ],
   "source": [
    "x_y_split = [] \n",
    "x_list = [[] for i in range(len(N_g))]\n",
    "_x_class = []\n",
    "\n",
    "for i in range(len(X)):\n",
    "    x_y_split.append(np.split(X[i], [-1]))\n",
    "    \n",
    "# print(x_y_split)\n",
    "for j in range(len(X)):\n",
    "    \n",
    "    for k in range(len(classes)):\n",
    "        \n",
    "        if x_y_split[j][1] == classes[k]:\n",
    "            x_list[k].append(x_y_split[j][0])\n",
    "#         print(k)\n",
    "    \n",
    "#     print (x_y_split[j][1])\n",
    "print(x_y_split)\n",
    "print(x_list)\n",
    "print(x_list[0])\n",
    "print(x_list[1])"
   ]
  },
  {
   "cell_type": "code",
   "execution_count": 15,
   "metadata": {},
   "outputs": [
    {
     "name": "stdout",
     "output_type": "stream",
     "text": [
      "[array([0.]), array([1.5])]\n"
     ]
    }
   ],
   "source": [
    "mean_list = []\n",
    "\n",
    "for counter, value in enumerate(N_g):\n",
    "    mean = (1/N_g[value]) * (sum(x_list[counter]))\n",
    "    mean_list.append(mean)\n",
    "    \n",
    "print(mean_list)"
   ]
  },
  {
   "cell_type": "code",
   "execution_count": 28,
   "metadata": {},
   "outputs": [
    {
     "name": "stdout",
     "output_type": "stream",
     "text": [
      "[[0.  1.5]]\n"
     ]
    }
   ],
   "source": [
    "coeff = 0\n",
    "mean_list = np.array(mean_list)\n",
    "\n",
    "den = len(X) - len(classes)\n",
    "# print(den)\n",
    "\n",
    "for class_index, class_value in enumerate(classes):\n",
    "#     print(class_index, class_value)\n",
    "    \n",
    "    pass\n",
    "    "
   ]
  },
  {
   "cell_type": "code",
   "execution_count": 374,
   "metadata": {},
   "outputs": [
    {
     "name": "stdout",
     "output_type": "stream",
     "text": [
      "[[0.]]\n",
      "[[0.25]]\n",
      "[array([[0.]]), array([[0.25]])]\n",
      "[[0.25]]\n"
     ]
    }
   ],
   "source": [
    "# coeff_list = []\n",
    "\n",
    "# # print(x_list[3])\n",
    "\n",
    "# # print(x_minus_mean.shape)\n",
    "\n",
    "# for i in range(len(classes)):\n",
    "#     x_minus_mean = x_list[i] - mean_list[i] \n",
    "# #     print(x_minus_mean)\n",
    "#     coeff = (1/(len(N_g_list)-len(classes)) * np.dot(x_minus_mean.T, x_minus_mean))\n",
    "#     coeff_list.append(coeff)\n",
    "#     print(coeff)\n",
    "\n",
    "# print(coeff_list)\n",
    "\n",
    "# coeff_fin = sum(coeff_list)\n",
    "# print(coeff_fin)"
   ]
  },
  {
   "cell_type": "code",
   "execution_count": 404,
   "metadata": {},
   "outputs": [
    {
     "name": "stdout",
     "output_type": "stream",
     "text": [
      "[list([array([0.])]) list([array([1.]), array([1.5]), array([2.])])]\n"
     ]
    },
    {
     "ename": "TypeError",
     "evalue": "can't multiply sequence by non-int of type 'float'",
     "output_type": "error",
     "traceback": [
      "\u001b[0;31m---------------------------------------------------------------------------\u001b[0m",
      "\u001b[0;31mTypeError\u001b[0m                                 Traceback (most recent call last)",
      "\u001b[0;32m<ipython-input-404-2138aaa2cf4d>\u001b[0m in \u001b[0;36m<module>\u001b[0;34m\u001b[0m\n\u001b[1;32m     11\u001b[0m \u001b[0;32mfor\u001b[0m \u001b[0mx_ind\u001b[0m \u001b[0;32min\u001b[0m \u001b[0mx_list\u001b[0m\u001b[0;34m:\u001b[0m\u001b[0;34m\u001b[0m\u001b[0;34m\u001b[0m\u001b[0m\n\u001b[1;32m     12\u001b[0m     \u001b[0mprint\u001b[0m\u001b[0;34m(\u001b[0m\u001b[0mx_ind\u001b[0m\u001b[0;34m)\u001b[0m\u001b[0;34m\u001b[0m\u001b[0;34m\u001b[0m\u001b[0m\n\u001b[0;32m---> 13\u001b[0;31m     \u001b[0mt\u001b[0m \u001b[0;34m=\u001b[0m \u001b[0mx_ind\u001b[0m \u001b[0;34m*\u001b[0m \u001b[0;34m(\u001b[0m\u001b[0;36m1\u001b[0m\u001b[0;34m/\u001b[0m\u001b[0mcoeff_fin\u001b[0m\u001b[0;34m)\u001b[0m\u001b[0;34m\u001b[0m\u001b[0;34m\u001b[0m\u001b[0m\n\u001b[0m\u001b[1;32m     14\u001b[0m     \u001b[0mx_temp\u001b[0m\u001b[0;34m.\u001b[0m\u001b[0mappend\u001b[0m\u001b[0;34m(\u001b[0m\u001b[0mt\u001b[0m\u001b[0;34m)\u001b[0m\u001b[0;34m\u001b[0m\u001b[0;34m\u001b[0m\u001b[0m\n\u001b[1;32m     15\u001b[0m \u001b[0;34m\u001b[0m\u001b[0m\n",
      "\u001b[0;31mTypeError\u001b[0m: can't multiply sequence by non-int of type 'float'"
     ]
    }
   ],
   "source": [
    "# x_list = np.array(x_list)\n",
    "# x_list = x_list.reshape(1,-1)\n",
    "# coeff_fin = np.array(coeff_fin)\n",
    "# coeff_fin = coeff_fin.reshape(-1,1)\n",
    "# max_g = 0\n",
    "\n",
    "# # print(coeff_fin)\n",
    "# # temp = (1/(coeff_fin))\n",
    "\n",
    "# x_temp = []\n",
    "# for x_ind in x_list:\n",
    "#     print(x_ind)\n",
    "#     t = x_ind * (1/coeff_fin)\n",
    "#     x_temp.append(t)\n",
    "    \n",
    "# print(x_temp)\n",
    "\n",
    "# # t = x_ind * (1/coeff_fin) for {x_ind in x_list} \n",
    "\n",
    "# print(((x_list).T * (1/(coeff_fin))))\n",
    "\n",
    "# # for counter, g in enumerate(classes):\n",
    "# #     temp = np.log(g) + (np.dot(np.dot((x_list).T, 1/(coeff_fin)), mean_list[counter])) - ((1/2) *  np.dot(np.dot(mean_list[counter].T, 1/(coeff_fin)), mean_list[counter]))\n",
    "# #     if temp > max_g:\n",
    "# #         max_g = temp\n",
    "\n",
    "# # print(max_g)"
   ]
  },
  {
   "cell_type": "code",
   "execution_count": null,
   "metadata": {},
   "outputs": [],
   "source": []
  },
  {
   "cell_type": "code",
   "execution_count": null,
   "metadata": {},
   "outputs": [],
   "source": []
  }
 ],
 "metadata": {
  "kernelspec": {
   "display_name": "Python 3",
   "language": "python",
   "name": "python3"
  },
  "language_info": {
   "codemirror_mode": {
    "name": "ipython",
    "version": 3
   },
   "file_extension": ".py",
   "mimetype": "text/x-python",
   "name": "python",
   "nbconvert_exporter": "python",
   "pygments_lexer": "ipython3",
   "version": "3.7.6"
  }
 },
 "nbformat": 4,
 "nbformat_minor": 4
}
