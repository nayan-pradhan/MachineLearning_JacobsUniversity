{
 "cells": [
  {
   "cell_type": "code",
   "execution_count": 116,
   "metadata": {},
   "outputs": [],
   "source": [
    "from sklearn.neighbors import KNeighborsClassifier\n",
    "# from sklearn.discriminant_analysis import LinearDiscriminantAnalysis\n",
    "import numpy as np\n",
    "import matplotlib.pyplot as plt\n",
    "from matplotlib.colors import ListedColormap\n",
    "import collections\n",
    "from numpy.linalg import inv"
   ]
  },
  {
   "cell_type": "code",
   "execution_count": 117,
   "metadata": {},
   "outputs": [],
   "source": [
    "N = 30\n",
    "\n",
    "np.random.seed(123)\n",
    "X1 = np.random.multivariate_normal([1,1],[[1,0],[0,1]],N)\n",
    "X1 = np.concatenate((X1,1.0*np.ones((N,1))),axis=1)\n",
    "X2 = np.random.multivariate_normal([-1,-1],[[1,0],[0,1]],N)\n",
    "X2 = np.concatenate((X2,2.0*np.ones((N,1))),axis=1)\n",
    "X3 = np.random.multivariate_normal([2,0],[[1,0],[0,1]],N)\n",
    "X3 = np.concatenate((X3,3.0*np.ones((N,1))),axis=1)\n",
    "\n",
    "X = np.concatenate((X1,X2,X3));"
   ]
  },
  {
   "cell_type": "code",
   "execution_count": 118,
   "metadata": {},
   "outputs": [
    {
     "name": "stdout",
     "output_type": "stream",
     "text": [
      "[[0.  1. ]\n",
      " [1.  2. ]\n",
      " [1.5 2. ]\n",
      " [2.  2. ]]\n"
     ]
    }
   ],
   "source": [
    "# print(X)\n",
    "X = np.array([(0,1), (1,2), (1.5,2), (2,2)])\n",
    "print(X)"
   ]
  },
  {
   "cell_type": "code",
   "execution_count": 119,
   "metadata": {},
   "outputs": [
    {
     "name": "stdout",
     "output_type": "stream",
     "text": [
      "Counter({2: 3, 1: 1})\n"
     ]
    }
   ],
   "source": [
    "N_g_list = []\n",
    "\n",
    "for i in range(len(X)):\n",
    "    ind = int(X[i][-1])\n",
    "    N_g_list.append(ind)\n",
    "    \n",
    "N_g = collections.Counter(N_g_list)\n",
    "print(N_g)"
   ]
  },
  {
   "cell_type": "code",
   "execution_count": null,
   "metadata": {},
   "outputs": [],
   "source": [
    "def LDA(X):\n",
    "    \n",
    "    ###\n",
    "    \n",
    "    N_g_list = []\n",
    "    for i in range(len(X)):\n",
    "        ind = int(X[i][-1])\n",
    "        N_g_list.append(ind)\n",
    "    N_g = collections.Counter(N_g_list)\n",
    "    \n",
    "    ###\n",
    "    \n",
    "    p_g = []\n",
    "    for i in (N_g):\n",
    "        p_g.append((N_g[i])/len(N_g_list))\n",
    "\n",
    "    ###\n",
    "    \n",
    "    classes = []\n",
    "\n",
    "    for i in (N_g):\n",
    "        classes.append(i)\n",
    "\n",
    "    ###\n",
    "    \n",
    "    x_y_split = [] \n",
    "    x_list = [[] for i in range(len(N_g))]\n",
    "\n",
    "    for i in range(len(X)):\n",
    "        x_y_split.append(np.split(X[i], [-1]))\n",
    "\n",
    "    for j in range(len(X)):\n",
    "\n",
    "        for k in range(len(classes)):\n",
    "\n",
    "            if x_y_split[j][1] == classes[k]:\n",
    "                x_list[k].append(x_y_split[j][0])\n",
    "\n",
    "    x_list_store = x_list"
   ]
  },
  {
   "cell_type": "code",
   "execution_count": 120,
   "metadata": {},
   "outputs": [
    {
     "name": "stdout",
     "output_type": "stream",
     "text": [
      "[0.25, 0.75]\n"
     ]
    }
   ],
   "source": [
    "p_g = []\n",
    "\n",
    "for i in (N_g):\n",
    "    p_g.append((N_g[i])/len(N_g_list))\n",
    "\n",
    "print(p_g)"
   ]
  },
  {
   "cell_type": "code",
   "execution_count": 121,
   "metadata": {},
   "outputs": [
    {
     "name": "stdout",
     "output_type": "stream",
     "text": [
      "[1, 2]\n"
     ]
    }
   ],
   "source": [
    "classes = []\n",
    "\n",
    "for i in (N_g):\n",
    "    classes.append(i)\n",
    "    \n",
    "print(classes)"
   ]
  },
  {
   "cell_type": "code",
   "execution_count": 122,
   "metadata": {},
   "outputs": [],
   "source": [
    "x_y_split = [] \n",
    "x_list = [[] for i in range(len(N_g))]\n",
    "\n",
    "for i in range(len(X)):\n",
    "    x_y_split.append(np.split(X[i], [-1]))\n",
    "    \n",
    "for j in range(len(X)):\n",
    "    \n",
    "    for k in range(len(classes)):\n",
    "        \n",
    "        if x_y_split[j][1] == classes[k]:\n",
    "            x_list[k].append(x_y_split[j][0])\n",
    "\n",
    "x_list_store = x_list\n",
    "\n",
    "# print(x_y_split)\n",
    "# print(x_list)\n",
    "# print(x_list[0])\n",
    "# print(x_list[1])"
   ]
  },
  {
   "cell_type": "code",
   "execution_count": 123,
   "metadata": {},
   "outputs": [
    {
     "name": "stdout",
     "output_type": "stream",
     "text": [
      "[array([0.]), array([1.5])]\n"
     ]
    }
   ],
   "source": [
    "mean_list = []\n",
    "\n",
    "for counter, value in enumerate(N_g):\n",
    "    mean = (1/N_g[value]) * (sum(x_list[counter]))\n",
    "    mean_list.append(mean)\n",
    "    \n",
    "print(mean_list)"
   ]
  },
  {
   "cell_type": "code",
   "execution_count": 124,
   "metadata": {},
   "outputs": [
    {
     "name": "stdout",
     "output_type": "stream",
     "text": [
      "[[0.25]]\n"
     ]
    }
   ],
   "source": [
    "coeff = 0\n",
    "\n",
    "x_list = x_list_store\n",
    "\n",
    "mean_list = np.array(mean_list)\n",
    "\n",
    "denominator = len(X) - len(classes)\n",
    "\n",
    "numerator = 0\n",
    "\n",
    "for class_index, class_value in enumerate(classes):\n",
    "    x_minus_mean = []\n",
    "    \n",
    "    for x_val in x_list[class_index]:\n",
    "        temp = x_val - mean_list[class_index]\n",
    "        x_minus_mean.append(temp)\n",
    "        \n",
    "    x_minus_mean = np.array(x_minus_mean)\n",
    "    numerator += np.dot(x_minus_mean.T, x_minus_mean)\n",
    "    \n",
    "coeff = (numerator/denominator)\n",
    "print(coeff)"
   ]
  },
  {
   "cell_type": "code",
   "execution_count": 125,
   "metadata": {},
   "outputs": [
    {
     "name": "stdout",
     "output_type": "stream",
     "text": [
      "[[0.25]]\n"
     ]
    }
   ],
   "source": [
    "coeff_list = []\n",
    "\n",
    "for i in range(len(classes)):\n",
    "    x_minus_mean = x_list[i] - mean_list[i] \n",
    "    coeff_temp = np.dot(x_minus_mean.T, x_minus_mean)\n",
    "    coeff_list.append(coeff_temp)\n",
    "\n",
    "coeff = (1/(len(N_g_list)-len(classes)) * sum(coeff_list))\n",
    "print(coeff)"
   ]
  },
  {
   "cell_type": "code",
   "execution_count": 126,
   "metadata": {},
   "outputs": [
    {
     "name": "stdout",
     "output_type": "stream",
     "text": [
      "[array([[-1.38629436]]), array([[-1.78768207]])]\n",
      "[array([[-1.38629436]]), array([[-1.78768207]])]\n",
      "[[[-1.38629436]]\n",
      "\n",
      " [[-1.78768207]]]\n",
      "0\n",
      "Predicted Class =  1\n"
     ]
    }
   ],
   "source": [
    "g_fn = []\n",
    "\n",
    "# predict value is given \n",
    "predict_x = [0.5]\n",
    "predict_x = np.array(predict_x)\n",
    "\n",
    "for class_index, class_value in enumerate(classes):\n",
    "    g_fn_class = (np.log(p_g[class_index])) + ((predict_x.T)*(inv(coeff))*mean_list[class_index]) - (0.5*(mean_list[class_index].T)*(inv(coeff))*mean_list[class_index])\n",
    "    g_fn.append(g_fn_class)\n",
    "\n",
    "print(g_fn)\n",
    "    \n",
    "# find index of larges g_fn\n",
    "# max_index = 0\n",
    "# max_value = 0\n",
    "# for index, item in enumerate(g_fn):\n",
    "#     pass\n",
    "#     print(item)\n",
    "#     if item > max_value:\n",
    "#         max_value = item\n",
    "#         max_index = index \n",
    "print(g_fn)\n",
    "g_fn = np.array(g_fn)\n",
    "print(g_fn)\n",
    "argmax_val = g_fn.argmax()\n",
    "print(check)\n",
    "print(\"Predicted Class = \", classes[argmax_val])\n",
    "\n",
    "# predicted_class_output = classes[max_index]\n",
    "# print(predicted_class_output)"
   ]
  },
  {
   "cell_type": "code",
   "execution_count": 127,
   "metadata": {},
   "outputs": [],
   "source": [
    "# new_X = []\n",
    "# new_y = []\n",
    "\n",
    "# for i in X:\n",
    "#     temp_new_X = (i[:-1])\n",
    "#     new_X.append(temp_new_X)\n",
    "#     temp_new_y = (i[-1:])\n",
    "#     new_y.append(temp_new_y)\n",
    "\n",
    "# new_X = np.array(new_X)\n",
    "# new_y = np.array(new_y)"
   ]
  },
  {
   "cell_type": "code",
   "execution_count": 128,
   "metadata": {},
   "outputs": [],
   "source": [
    "# new_predict_x = predict_x\n",
    "# new_predict_x = new_predict_x.reshape(-1,1)\n",
    "\n",
    "# print(new_predict_x)\n",
    "# print(new_predict_x.shape)\n",
    "\n",
    "# from sklearn.discriminant_analysis import LinearDiscriminantAnalysis\n",
    "# clf = LinearDiscriminantAnalysis()\n",
    "# clf.fit(new_X, new_y)\n",
    "# print(clf.predict([new_predict_x]))"
   ]
  },
  {
   "cell_type": "code",
   "execution_count": null,
   "metadata": {},
   "outputs": [],
   "source": []
  }
 ],
 "metadata": {
  "kernelspec": {
   "display_name": "Python 3",
   "language": "python",
   "name": "python3"
  },
  "language_info": {
   "codemirror_mode": {
    "name": "ipython",
    "version": 3
   },
   "file_extension": ".py",
   "mimetype": "text/x-python",
   "name": "python",
   "nbconvert_exporter": "python",
   "pygments_lexer": "ipython3",
   "version": "3.7.6"
  }
 },
 "nbformat": 4,
 "nbformat_minor": 4
}
