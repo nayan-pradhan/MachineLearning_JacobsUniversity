{
 "cells": [
  {
   "cell_type": "code",
   "execution_count": 292,
   "metadata": {},
   "outputs": [],
   "source": [
    "from sklearn.neighbors import KNeighborsClassifier\n",
    "from sklearn.discriminant_analysis import LinearDiscriminantAnalysis\n",
    "import numpy as np\n",
    "import matplotlib.pyplot as plt\n",
    "from matplotlib.colors import ListedColormap\n",
    "import collections\n",
    "from numpy.linalg import inv"
   ]
  },
  {
   "cell_type": "code",
   "execution_count": 227,
   "metadata": {},
   "outputs": [],
   "source": [
    "N = 30\n",
    "\n",
    "np.random.seed(123)\n",
    "X1 = np.random.multivariate_normal([1,1],[[1,0],[0,1]],N)\n",
    "X1 = np.concatenate((X1,1.0*np.ones((N,1))),axis=1)\n",
    "X2 = np.random.multivariate_normal([-1,-1],[[1,0],[0,1]],N)\n",
    "X2 = np.concatenate((X2,2.0*np.ones((N,1))),axis=1)\n",
    "X3 = np.random.multivariate_normal([2,0],[[1,0],[0,1]],N)\n",
    "X3 = np.concatenate((X3,3.0*np.ones((N,1))),axis=1)\n",
    "\n",
    "X = np.concatenate((X1,X2,X3));"
   ]
  },
  {
   "cell_type": "code",
   "execution_count": 250,
   "metadata": {},
   "outputs": [
    {
     "name": "stdout",
     "output_type": "stream",
     "text": [
      "[[1 1 0]\n",
      " [2 3 0]\n",
      " [5 1 1]\n",
      " [5 2 2]]\n"
     ]
    }
   ],
   "source": [
    "# print(X)\n",
    "\n",
    "X = np.array([(1,1,0), (2,3,0), (5,1,1), (5,2,2)])\n",
    "print(X)"
   ]
  },
  {
   "cell_type": "code",
   "execution_count": 251,
   "metadata": {},
   "outputs": [
    {
     "name": "stdout",
     "output_type": "stream",
     "text": [
      "Counter({0: 2, 1: 1, 2: 1})\n"
     ]
    }
   ],
   "source": [
    "N_g_list = []\n",
    "\n",
    "for i in range(len(X)):\n",
    "    ind = int(X[i][-1])\n",
    "    N_g_list.append(ind)\n",
    "    \n",
    "N_g = collections.Counter(N_g_list)\n",
    "print(N_g)"
   ]
  },
  {
   "cell_type": "code",
   "execution_count": 252,
   "metadata": {},
   "outputs": [
    {
     "name": "stdout",
     "output_type": "stream",
     "text": [
      "[0.5, 0.25, 0.25]\n"
     ]
    }
   ],
   "source": [
    "p_g = []\n",
    "\n",
    "for i in (N_g):\n",
    "    p_g.append((N_g[i])/len(N_g_list))\n",
    "\n",
    "print(p_g)"
   ]
  },
  {
   "cell_type": "code",
   "execution_count": 255,
   "metadata": {},
   "outputs": [],
   "source": [
    "classes = []\n",
    "\n",
    "for i in (N_g):\n",
    "    classes.append(i)"
   ]
  },
  {
   "cell_type": "code",
   "execution_count": 259,
   "metadata": {},
   "outputs": [
    {
     "name": "stdout",
     "output_type": "stream",
     "text": [
      "[[array([1, 1]), array([2, 3])], [array([5, 1])], [array([5, 2])]]\n"
     ]
    }
   ],
   "source": [
    "x_y_split = [] \n",
    "x_list = [[] for i in range(len(N_g))]\n",
    "\n",
    "for i in range(len(X)):\n",
    "    x_y_split.append(np.split(X[i], [-1]))\n",
    "    \n",
    "# print(x_y_split)\n",
    "for j in range(len(X)):\n",
    "    \n",
    "    for k in range(len(classes)):\n",
    "        \n",
    "        if x_y_split[j][1] == classes[k]:\n",
    "            x_list[k].append(x_y_split[j][0])\n",
    "#         print(k)\n",
    "    \n",
    "#     print (x_y_split[j][1])\n",
    "print((x_list))"
   ]
  },
  {
   "cell_type": "code",
   "execution_count": 268,
   "metadata": {},
   "outputs": [
    {
     "name": "stdout",
     "output_type": "stream",
     "text": [
      "[array([1.5, 2. ]), array([5., 1.]), array([5., 2.])]\n"
     ]
    }
   ],
   "source": [
    "mean_list = []\n",
    "\n",
    "for counter, value in enumerate(N_g):\n",
    "    mean = (1/N_g[value]) * (sum(x_list[counter]))\n",
    "    mean_list.append(mean)\n",
    "    \n",
    "print(mean_list)"
   ]
  },
  {
   "cell_type": "code",
   "execution_count": 285,
   "metadata": {},
   "outputs": [
    {
     "name": "stdout",
     "output_type": "stream",
     "text": [
      "[array([[ 0.25, -0.5 ],\n",
      "       [-0.5 ,  1.  ]]), array([[0., 0.],\n",
      "       [0., 0.]]), array([[0., 0.],\n",
      "       [0., 0.]])]\n"
     ]
    }
   ],
   "source": [
    "coeff_list = []\n",
    "\n",
    "# print(x_list[3])\n",
    "\n",
    "for i in range(len(classes)):\n",
    "    x_minus_mean = x_list[i] - mean_list[i] \n",
    "#     print(x_minus_mean)\n",
    "    coeff = (1/(len(N_g_list)-len(classes)) * (x_minus_mean) * (x_minus_mean).T)\n",
    "    coeff_list.append(coeff)\n",
    "#     print(coeff)\n",
    "             \n",
    "print(coeff_list)"
   ]
  },
  {
   "cell_type": "code",
   "execution_count": 307,
   "metadata": {},
   "outputs": [
    {
     "name": "stdout",
     "output_type": "stream",
     "text": [
      "(3, 2, 2)\n",
      "[[[ 0.25 -0.5 ]\n",
      "  [-0.5   1.  ]]\n",
      "\n",
      " [[ 0.    0.  ]\n",
      "  [ 0.    0.  ]]\n",
      "\n",
      " [[ 0.    0.  ]\n",
      "  [ 0.    0.  ]]]\n"
     ]
    },
    {
     "ename": "LinAlgError",
     "evalue": "Singular matrix",
     "output_type": "error",
     "traceback": [
      "\u001b[0;31m---------------------------------------------------------------------------\u001b[0m",
      "\u001b[0;31mLinAlgError\u001b[0m                               Traceback (most recent call last)",
      "\u001b[0;32m<ipython-input-307-41fb44dca217>\u001b[0m in \u001b[0;36m<module>\u001b[0;34m\u001b[0m\n\u001b[1;32m     10\u001b[0m \u001b[0mprint\u001b[0m\u001b[0;34m(\u001b[0m\u001b[0mcoeff_list\u001b[0m\u001b[0;34m.\u001b[0m\u001b[0mshape\u001b[0m\u001b[0;34m)\u001b[0m\u001b[0;34m\u001b[0m\u001b[0;34m\u001b[0m\u001b[0m\n\u001b[1;32m     11\u001b[0m \u001b[0mprint\u001b[0m\u001b[0;34m(\u001b[0m\u001b[0mcoeff_list\u001b[0m\u001b[0;34m)\u001b[0m\u001b[0;34m\u001b[0m\u001b[0;34m\u001b[0m\u001b[0m\n\u001b[0;32m---> 12\u001b[0;31m \u001b[0minv\u001b[0m\u001b[0;34m(\u001b[0m\u001b[0mcoeff_list\u001b[0m\u001b[0;34m)\u001b[0m\u001b[0;34m\u001b[0m\u001b[0;34m\u001b[0m\u001b[0m\n\u001b[0m",
      "\u001b[0;32m<__array_function__ internals>\u001b[0m in \u001b[0;36minv\u001b[0;34m(*args, **kwargs)\u001b[0m\n",
      "\u001b[0;32m~/opt/anaconda3/lib/python3.7/site-packages/numpy/linalg/linalg.py\u001b[0m in \u001b[0;36minv\u001b[0;34m(a)\u001b[0m\n\u001b[1;32m    545\u001b[0m     \u001b[0msignature\u001b[0m \u001b[0;34m=\u001b[0m \u001b[0;34m'D->D'\u001b[0m \u001b[0;32mif\u001b[0m \u001b[0misComplexType\u001b[0m\u001b[0;34m(\u001b[0m\u001b[0mt\u001b[0m\u001b[0;34m)\u001b[0m \u001b[0;32melse\u001b[0m \u001b[0;34m'd->d'\u001b[0m\u001b[0;34m\u001b[0m\u001b[0;34m\u001b[0m\u001b[0m\n\u001b[1;32m    546\u001b[0m     \u001b[0mextobj\u001b[0m \u001b[0;34m=\u001b[0m \u001b[0mget_linalg_error_extobj\u001b[0m\u001b[0;34m(\u001b[0m\u001b[0m_raise_linalgerror_singular\u001b[0m\u001b[0;34m)\u001b[0m\u001b[0;34m\u001b[0m\u001b[0;34m\u001b[0m\u001b[0m\n\u001b[0;32m--> 547\u001b[0;31m     \u001b[0mainv\u001b[0m \u001b[0;34m=\u001b[0m \u001b[0m_umath_linalg\u001b[0m\u001b[0;34m.\u001b[0m\u001b[0minv\u001b[0m\u001b[0;34m(\u001b[0m\u001b[0ma\u001b[0m\u001b[0;34m,\u001b[0m \u001b[0msignature\u001b[0m\u001b[0;34m=\u001b[0m\u001b[0msignature\u001b[0m\u001b[0;34m,\u001b[0m \u001b[0mextobj\u001b[0m\u001b[0;34m=\u001b[0m\u001b[0mextobj\u001b[0m\u001b[0;34m)\u001b[0m\u001b[0;34m\u001b[0m\u001b[0;34m\u001b[0m\u001b[0m\n\u001b[0m\u001b[1;32m    548\u001b[0m     \u001b[0;32mreturn\u001b[0m \u001b[0mwrap\u001b[0m\u001b[0;34m(\u001b[0m\u001b[0mainv\u001b[0m\u001b[0;34m.\u001b[0m\u001b[0mastype\u001b[0m\u001b[0;34m(\u001b[0m\u001b[0mresult_t\u001b[0m\u001b[0;34m,\u001b[0m \u001b[0mcopy\u001b[0m\u001b[0;34m=\u001b[0m\u001b[0;32mFalse\u001b[0m\u001b[0;34m)\u001b[0m\u001b[0;34m)\u001b[0m\u001b[0;34m\u001b[0m\u001b[0;34m\u001b[0m\u001b[0m\n\u001b[1;32m    549\u001b[0m \u001b[0;34m\u001b[0m\u001b[0m\n",
      "\u001b[0;32m~/opt/anaconda3/lib/python3.7/site-packages/numpy/linalg/linalg.py\u001b[0m in \u001b[0;36m_raise_linalgerror_singular\u001b[0;34m(err, flag)\u001b[0m\n\u001b[1;32m     95\u001b[0m \u001b[0;34m\u001b[0m\u001b[0m\n\u001b[1;32m     96\u001b[0m \u001b[0;32mdef\u001b[0m \u001b[0m_raise_linalgerror_singular\u001b[0m\u001b[0;34m(\u001b[0m\u001b[0merr\u001b[0m\u001b[0;34m,\u001b[0m \u001b[0mflag\u001b[0m\u001b[0;34m)\u001b[0m\u001b[0;34m:\u001b[0m\u001b[0;34m\u001b[0m\u001b[0;34m\u001b[0m\u001b[0m\n\u001b[0;32m---> 97\u001b[0;31m     \u001b[0;32mraise\u001b[0m \u001b[0mLinAlgError\u001b[0m\u001b[0;34m(\u001b[0m\u001b[0;34m\"Singular matrix\"\u001b[0m\u001b[0;34m)\u001b[0m\u001b[0;34m\u001b[0m\u001b[0;34m\u001b[0m\u001b[0m\n\u001b[0m\u001b[1;32m     98\u001b[0m \u001b[0;34m\u001b[0m\u001b[0m\n\u001b[1;32m     99\u001b[0m \u001b[0;32mdef\u001b[0m \u001b[0m_raise_linalgerror_nonposdef\u001b[0m\u001b[0;34m(\u001b[0m\u001b[0merr\u001b[0m\u001b[0;34m,\u001b[0m \u001b[0mflag\u001b[0m\u001b[0;34m)\u001b[0m\u001b[0;34m:\u001b[0m\u001b[0;34m\u001b[0m\u001b[0;34m\u001b[0m\u001b[0m\n",
      "\u001b[0;31mLinAlgError\u001b[0m: Singular matrix"
     ]
    }
   ],
   "source": [
    "x_list = np.array(x_list)\n",
    "coeff_list = np.array(coeff_list)\n",
    "max_g = 0\n",
    "\n",
    "for counter, g in enumerate(classes):\n",
    "    temp = np.log(g) + ((x_list).T * inv(coeff_list) * mean_list[counter]) - ((1/2) *  mean_list[counter].T * inv(coeff_list) * mean_list[counter])\n",
    "    if temp > max_g:\n",
    "        max_g = temp\n"
   ]
  },
  {
   "cell_type": "code",
   "execution_count": null,
   "metadata": {},
   "outputs": [],
   "source": []
  }
 ],
 "metadata": {
  "kernelspec": {
   "display_name": "Python 3",
   "language": "python",
   "name": "python3"
  },
  "language_info": {
   "codemirror_mode": {
    "name": "ipython",
    "version": 3
   },
   "file_extension": ".py",
   "mimetype": "text/x-python",
   "name": "python",
   "nbconvert_exporter": "python",
   "pygments_lexer": "ipython3",
   "version": "3.7.6"
  }
 },
 "nbformat": 4,
 "nbformat_minor": 4
}
