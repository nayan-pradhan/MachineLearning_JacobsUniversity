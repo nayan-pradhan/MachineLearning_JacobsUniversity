{
 "cells": [
  {
   "cell_type": "code",
   "execution_count": 14,
   "metadata": {},
   "outputs": [],
   "source": [
    "from sklearn.neighbors import KNeighborsClassifier\n",
    "from sklearn.discriminant_analysis import LinearDiscriminantAnalysis\n",
    "import numpy as np\n",
    "import matplotlib.pyplot as plt\n",
    "from matplotlib.colors import ListedColormap\n",
    "import collections"
   ]
  },
  {
   "cell_type": "code",
   "execution_count": 2,
   "metadata": {},
   "outputs": [],
   "source": [
    "N = 30\n",
    "\n",
    "np.random.seed(123)\n",
    "X1 = np.random.multivariate_normal([1,1],[[1,0],[0,1]],N)\n",
    "X1 = np.concatenate((X1,1.0*np.ones((N,1))),axis=1)\n",
    "X2 = np.random.multivariate_normal([-1,-1],[[1,0],[0,1]],N)\n",
    "X2 = np.concatenate((X2,2.0*np.ones((N,1))),axis=1)\n",
    "X3 = np.random.multivariate_normal([2,0],[[1,0],[0,1]],N)\n",
    "X3 = np.concatenate((X3,3.0*np.ones((N,1))),axis=1)\n",
    "\n",
    "X = np.concatenate((X1,X2,X3));"
   ]
  },
  {
   "cell_type": "code",
   "execution_count": 141,
   "metadata": {},
   "outputs": [
    {
     "name": "stdout",
     "output_type": "stream",
     "text": [
      "[[-0.0856306   1.99734545  1.        ]\n",
      " [ 1.2829785  -0.50629471  1.        ]\n",
      " [ 0.42139975  2.65143654  1.        ]\n",
      " [-1.42667924  0.57108737  1.        ]\n",
      " [ 2.26593626  0.1332596   1.        ]\n",
      " [ 0.32111385  0.90529103  1.        ]\n",
      " [ 2.49138963  0.361098    1.        ]\n",
      " [ 0.55601804  0.56564872  1.        ]\n",
      " [ 3.20593008  3.18678609  1.        ]\n",
      " [ 2.0040539   1.3861864   1.        ]\n",
      " [ 1.73736858  2.49073203  1.        ]\n",
      " [ 0.06416613  2.17582904  1.        ]\n",
      " [-0.25388067  0.3622485   1.        ]\n",
      " [ 1.9071052  -0.4286807   1.        ]\n",
      " [ 0.85993128  0.1382451   1.        ]\n",
      " [ 0.74438063 -1.79858911  1.        ]\n",
      " [-0.7715331   0.30012277  1.        ]\n",
      " [ 1.92746243  0.82636432  1.        ]\n",
      " [ 1.00284592  1.68822271  1.        ]\n",
      " [ 0.12046366  1.28362732  1.        ]\n",
      " [ 0.19463348 -0.72766949  1.        ]\n",
      " [ 0.60910021  1.57380586  1.        ]\n",
      " [ 1.33858905  0.98816951  1.        ]\n",
      " [ 3.39236527  1.41291216  1.        ]\n",
      " [ 1.97873601  3.23814334  1.        ]\n",
      " [-0.29408532 -0.03878821  1.        ]\n",
      " [ 2.74371223  0.20193726  1.        ]\n",
      " [ 1.02968323  2.06931597  1.        ]\n",
      " [ 1.89070639  2.75488618  1.        ]\n",
      " [ 2.49564414  2.06939267  1.        ]\n",
      " [-1.77270871 -0.20513733  2.        ]\n",
      " [-0.68572801 -2.32626546  2.        ]\n",
      " [ 0.41729905 -0.19276347  2.        ]\n",
      " [-0.95450992 -1.23309206  2.        ]\n",
      " [-2.19830114 -0.80047593  2.        ]\n",
      " [-0.53156088 -1.83115498  2.        ]\n",
      " [ 0.16220405 -2.09720305  2.        ]\n",
      " [-3.12310035  0.03972709  2.        ]\n",
      " [-1.40336604 -1.12602959  2.        ]\n",
      " [-1.83751672 -2.60596276  2.        ]\n",
      " [ 0.25523737 -1.68886898  2.        ]\n",
      " [ 0.66095249 -0.19269181  2.        ]\n",
      " [-1.31475815 -2.0859024   2.        ]\n",
      " [-1.73246199 -2.21252313  2.        ]\n",
      " [ 1.08711336 -0.83555877  2.        ]\n",
      " [ 0.15020554 -2.26735205  2.        ]\n",
      " [-0.81896487  0.17786194  2.        ]\n",
      " [-1.33501076  0.03111446  2.        ]\n",
      " [-2.08456791 -2.36347154  2.        ]\n",
      " [-0.62059939 -1.37917643  2.        ]\n",
      " [-0.35794531 -2.97788793  2.        ]\n",
      " [-0.28773536  1.59830393  2.        ]\n",
      " [-1.02462598 -0.96585787  2.        ]\n",
      " [-0.82045052 -2.86197571  2.        ]\n",
      " [-0.57385336 -2.60540974  2.        ]\n",
      " [-1.4276796   0.24286955  2.        ]\n",
      " [-1.73521696 -0.49875101  2.        ]\n",
      " [ 0.01273905 -0.72125914  2.        ]\n",
      " [-2.37094847 -1.33247528  2.        ]\n",
      " [ 0.95941134 -3.02504576  2.        ]\n",
      " [ 1.72421399 -0.55210807  3.        ]\n",
      " [ 2.12074736  0.74821562  3.        ]\n",
      " [ 3.60869097 -0.27023239  3.        ]\n",
      " [ 2.81234133  0.49974014  3.        ]\n",
      " [ 2.4743473  -0.56392393  3.        ]\n",
      " [ 1.00267853 -1.10004311  3.        ]\n",
      " [ 1.24356279  0.32168658  3.        ]\n",
      " [ 2.76094939  0.32346885  3.        ]\n",
      " [ 1.4510449   1.80597011  3.        ]\n",
      " [ 3.51886562 -0.35400011  3.        ]\n",
      " [ 1.17656859  0.13021495  3.        ]\n",
      " [ 3.26729865  0.33276498  3.        ]\n",
      " [ 2.5565487  -0.21208012  3.        ]\n",
      " [ 2.4562709   1.54454445  3.        ]\n",
      " [ 1.76033122  0.14330773  3.        ]\n",
      " [ 2.25381648  0.28372536  3.        ]\n",
      " [ 0.58811112 -1.87686866  3.        ]\n",
      " [ 0.98034493  0.1679423   3.        ]\n",
      " [ 2.55385617 -0.53067456  3.        ]\n",
      " [ 3.37725748 -0.14317597  3.        ]\n",
      " [ 2.020316   -0.19396387  3.        ]\n",
      " [ 2.13402679  0.70447407  3.        ]\n",
      " [ 2.66565344 -0.89842294  3.        ]\n",
      " [ 3.52366378 -1.09502646  3.        ]\n",
      " [ 2.07922701 -0.27439657  3.        ]\n",
      " [ 0.95100832 -0.07512059  3.        ]\n",
      " [ 1.25918623  0.07290724  3.        ]\n",
      " [ 2.40308596  1.47192937  3.        ]\n",
      " [ 2.30738422 -0.61122534  3.        ]\n",
      " [ 1.60838019  0.13997811  3.        ]]\n"
     ]
    }
   ],
   "source": [
    "print(X)"
   ]
  },
  {
   "cell_type": "code",
   "execution_count": 162,
   "metadata": {},
   "outputs": [
    {
     "name": "stdout",
     "output_type": "stream",
     "text": [
      "Counter({1: 30, 2: 30, 3: 30})\n"
     ]
    }
   ],
   "source": [
    "N_g_list = []\n",
    "\n",
    "for i in range(len(X)):\n",
    "    ind = int(X[i][-1])\n",
    "    N_g_list.append(ind)\n",
    "    \n",
    "N_g = collections.Counter(N_g_list)\n",
    "print(N_g)"
   ]
  },
  {
   "cell_type": "code",
   "execution_count": 163,
   "metadata": {},
   "outputs": [
    {
     "name": "stdout",
     "output_type": "stream",
     "text": [
      "[0.3333333333333333, 0.3333333333333333, 0.3333333333333333]\n"
     ]
    }
   ],
   "source": [
    "p_g = []\n",
    "\n",
    "for i in (N_g):\n",
    "    p_g.append((N_g[i])/len(N_g_list))\n",
    "\n",
    "print(p_g)"
   ]
  },
  {
   "cell_type": "code",
   "execution_count": 174,
   "metadata": {},
   "outputs": [
    {
     "ename": "IndexError",
     "evalue": "list index out of range",
     "output_type": "error",
     "traceback": [
      "\u001b[0;31m---------------------------------------------------------------------------\u001b[0m",
      "\u001b[0;31mIndexError\u001b[0m                                Traceback (most recent call last)",
      "\u001b[0;32m<ipython-input-174-10a9a2da5659>\u001b[0m in \u001b[0;36m<module>\u001b[0;34m\u001b[0m\n\u001b[1;32m      6\u001b[0m \u001b[0;34m\u001b[0m\u001b[0m\n\u001b[1;32m      7\u001b[0m \u001b[0;32mfor\u001b[0m \u001b[0mi\u001b[0m \u001b[0;32min\u001b[0m \u001b[0mrange\u001b[0m\u001b[0;34m(\u001b[0m\u001b[0mlen\u001b[0m\u001b[0;34m(\u001b[0m\u001b[0mX\u001b[0m\u001b[0;34m)\u001b[0m\u001b[0;34m)\u001b[0m\u001b[0;34m:\u001b[0m\u001b[0;34m\u001b[0m\u001b[0;34m\u001b[0m\u001b[0m\n\u001b[0;32m----> 8\u001b[0;31m     \u001b[0mprint\u001b[0m\u001b[0;34m(\u001b[0m\u001b[0mx_list\u001b[0m\u001b[0;34m[\u001b[0m\u001b[0mlen\u001b[0m\u001b[0;34m(\u001b[0m\u001b[0mp_g\u001b[0m\u001b[0;34m)\u001b[0m\u001b[0;34m]\u001b[0m\u001b[0;34m)\u001b[0m\u001b[0;34m\u001b[0m\u001b[0;34m\u001b[0m\u001b[0m\n\u001b[0m\u001b[1;32m      9\u001b[0m \u001b[0;31m#     print(X[i][-1])\u001b[0m\u001b[0;34m\u001b[0m\u001b[0;34m\u001b[0m\u001b[0;34m\u001b[0m\u001b[0m\n\u001b[1;32m     10\u001b[0m \u001b[0;34m\u001b[0m\u001b[0m\n",
      "\u001b[0;31mIndexError\u001b[0m: list index out of range"
     ]
    }
   ],
   "source": [
    "x_list = [[] for i in range(len(N_g))]\n",
    "classes = []\n",
    "\n",
    "for i in (N_g):\n",
    "    classes.append(i)\n",
    "    \n",
    "for i in range(len(X)):\n",
    "    print(x_list[len(p_g)])\n",
    "#     print(X[i][-1])\n",
    "    \n",
    "    \n",
    "    \n",
    "#     if X[i][-1] == classes[i]:\n",
    "#         print('hi')\n",
    "#     print(X)"
   ]
  },
  {
   "cell_type": "code",
   "execution_count": 100,
   "metadata": {},
   "outputs": [
    {
     "name": "stdout",
     "output_type": "stream",
     "text": [
      "[-0.0856306   1.99734545]\n",
      "[ 1.2829785  -0.50629471]\n",
      "[0.42139975 2.65143654]\n"
     ]
    }
   ],
   "source": [
    "mean_list = []\n",
    "\n",
    "for counter, value in enumerate(N_g):\n",
    "#     print(x_list[counter])\n",
    "    mean = (1/N_g[value]) * sum(x_list[counter]) ## if x has class value"
   ]
  },
  {
   "cell_type": "code",
   "execution_count": 180,
   "metadata": {},
   "outputs": [
    {
     "name": "stdout",
     "output_type": "stream",
     "text": [
      "[array([1.60838019, 0.13997811]), array([3.])]\n"
     ]
    }
   ],
   "source": [
    "x_y_split = [] \n",
    "\n",
    "for i in range(len(X)):\n",
    "    x_y_split.append(np.split(X[i], [-1]))\n",
    "    \n",
    "print(x_y_split)"
   ]
  },
  {
   "cell_type": "code",
   "execution_count": null,
   "metadata": {},
   "outputs": [],
   "source": []
  }
 ],
 "metadata": {
  "kernelspec": {
   "display_name": "Python 3",
   "language": "python",
   "name": "python3"
  },
  "language_info": {
   "codemirror_mode": {
    "name": "ipython",
    "version": 3
   },
   "file_extension": ".py",
   "mimetype": "text/x-python",
   "name": "python",
   "nbconvert_exporter": "python",
   "pygments_lexer": "ipython3",
   "version": "3.7.6"
  }
 },
 "nbformat": 4,
 "nbformat_minor": 4
}
