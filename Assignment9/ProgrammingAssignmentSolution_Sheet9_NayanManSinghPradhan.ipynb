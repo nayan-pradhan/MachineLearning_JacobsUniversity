{
 "cells": [
  {
   "cell_type": "code",
   "execution_count": 1,
   "metadata": {},
   "outputs": [],
   "source": [
    "from sklearn.neighbors import KNeighborsClassifier\n",
    "from sklearn.discriminant_analysis import LinearDiscriminantAnalysis\n",
    "import numpy as np\n",
    "import matplotlib.pyplot as plt\n",
    "from matplotlib.colors import ListedColormap"
   ]
  },
  {
   "cell_type": "code",
   "execution_count": 2,
   "metadata": {},
   "outputs": [],
   "source": [
    "N = 30\n",
    "\n",
    "np.random.seed(123)\n",
    "X1 = np.random.multivariate_normal([1,1],[[1,0],[0,1]],N)\n",
    "X1 = np.concatenate((X1,1.0*np.ones((N,1))),axis=1)\n",
    "X2 = np.random.multivariate_normal([-1,-1],[[1,0],[0,1]],N)\n",
    "X2 = np.concatenate((X2,2.0*np.ones((N,1))),axis=1)\n",
    "X3 = np.random.multivariate_normal([2,0],[[1,0],[0,1]],N)\n",
    "X3 = np.concatenate((X3,3.0*np.ones((N,1))),axis=1)\n",
    "\n",
    "X = np.concatenate((X1,X2,X3));"
   ]
  },
  {
   "cell_type": "code",
   "execution_count": 7,
   "metadata": {},
   "outputs": [
    {
     "name": "stdout",
     "output_type": "stream",
     "text": [
      "90\n"
     ]
    }
   ],
   "source": [
    "print(X))"
   ]
  },
  {
   "cell_type": "code",
   "execution_count": null,
   "metadata": {},
   "outputs": [],
   "source": []
  }
 ],
 "metadata": {
  "kernelspec": {
   "display_name": "Python 3",
   "language": "python",
   "name": "python3"
  },
  "language_info": {
   "codemirror_mode": {
    "name": "ipython",
    "version": 3
   },
   "file_extension": ".py",
   "mimetype": "text/x-python",
   "name": "python",
   "nbconvert_exporter": "python",
   "pygments_lexer": "ipython3",
   "version": "3.7.6"
  }
 },
 "nbformat": 4,
 "nbformat_minor": 4
}
