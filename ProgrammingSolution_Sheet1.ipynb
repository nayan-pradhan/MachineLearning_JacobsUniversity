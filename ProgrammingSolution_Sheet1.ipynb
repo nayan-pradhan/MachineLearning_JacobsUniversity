{
 "cells": [
  {
   "cell_type": "code",
   "execution_count": 18,
   "metadata": {},
   "outputs": [],
   "source": [
    "## Done By: Nayan Man Singh Pradhan"
   ]
  },
  {
   "cell_type": "code",
   "execution_count": 19,
   "metadata": {},
   "outputs": [],
   "source": [
    "## Programming Exercise 1"
   ]
  },
  {
   "cell_type": "code",
   "execution_count": 3,
   "metadata": {},
   "outputs": [],
   "source": [
    "## Importing numpy\n",
    "import numpy as np"
   ]
  },
  {
   "cell_type": "code",
   "execution_count": 17,
   "metadata": {},
   "outputs": [
    {
     "name": "stdout",
     "output_type": "stream",
     "text": [
      "a =\n",
      " [[1]\n",
      " [1]\n",
      " [0]]\n",
      "b =\n",
      " [[-1]\n",
      " [ 2]\n",
      " [ 5]]\n",
      "M =\n",
      " [[ 2 -1  0]\n",
      " [-1  2 -1]\n",
      " [ 0 -1  2]]\n"
     ]
    }
   ],
   "source": [
    "## Creating vectors/matrices\n",
    "a = np.array([[1],[1],[0]])\n",
    "b = np.array([[-1],[2],[5]])\n",
    "M = np.array([[2,-1,0],[-1,2,-1],[0,-1,2]])\n",
    "\n",
    "## Printing to check\n",
    "print('a =\\n', a)\n",
    "print('b =\\n', b)\n",
    "print('M =\\n', M)"
   ]
  },
  {
   "cell_type": "code",
   "execution_count": 51,
   "metadata": {},
   "outputs": [],
   "source": [
    "## Defining function that computes inner product\n",
    "def inner_product_calc(a, b):\n",
    "    return np.inner(a,b)\n",
    "\n",
    "## Defining function that computes matrix vector product\n",
    "def matrix_vector_product_calc(M, b):\n",
    "    return np.dot(M, b)\n",
    "#     return M@b ## this works too\n",
    "\n",
    "## Defining function that computes vector norm\n",
    "def norm_calc(a):\n",
    "    return np.linalg.norm(a)"
   ]
  },
  {
   "cell_type": "code",
   "execution_count": 49,
   "metadata": {},
   "outputs": [
    {
     "name": "stdout",
     "output_type": "stream",
     "text": [
      "Inner Product =\n",
      " [[-1  2  5]\n",
      " [-1  2  5]\n",
      " [ 0  0  0]]\n"
     ]
    }
   ],
   "source": [
    "## a) Compute and print the inner product between a and b\n",
    "inner_product = inner_product_calc(a, b)\n",
    "print(\"Inner Product =\\n\", inner_product)"
   ]
  },
  {
   "cell_type": "code",
   "execution_count": 50,
   "metadata": {},
   "outputs": [
    {
     "name": "stdout",
     "output_type": "stream",
     "text": [
      "Matrix Vector Product = \n",
      " [[-4]\n",
      " [ 0]\n",
      " [ 8]]\n"
     ]
    }
   ],
   "source": [
    "## b) Compute and print the matrix-vector product between M and b\n",
    "matrix_vector_product = matrix_vector_product_calc(M, b)\n",
    "print(\"Matrix Vector Product = \\n\", matrix_vector_product)"
   ]
  },
  {
   "cell_type": "code",
   "execution_count": 57,
   "metadata": {},
   "outputs": [
    {
     "name": "stdout",
     "output_type": "stream",
     "text": [
      "Norm of vector \n",
      "[[-1]\n",
      " [ 2]\n",
      " [ 5]]\n",
      "==> 5.477225575051661\n"
     ]
    }
   ],
   "source": [
    "## c) Compute and print the l2 norm of b\n",
    "l2_norm = norm_calc(b)\n",
    "print(\"Norm of vector \\n{}\\n==>\".format(b), l2_norm)"
   ]
  },
  {
   "cell_type": "code",
   "execution_count": null,
   "metadata": {},
   "outputs": [],
   "source": []
  }
 ],
 "metadata": {
  "kernelspec": {
   "display_name": "Python 3",
   "language": "python",
   "name": "python3"
  },
  "language_info": {
   "codemirror_mode": {
    "name": "ipython",
    "version": 3
   },
   "file_extension": ".py",
   "mimetype": "text/x-python",
   "name": "python",
   "nbconvert_exporter": "python",
   "pygments_lexer": "ipython3",
   "version": "3.7.6"
  }
 },
 "nbformat": 4,
 "nbformat_minor": 4
}
