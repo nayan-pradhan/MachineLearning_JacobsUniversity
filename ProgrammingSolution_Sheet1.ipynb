{
 "cells": [
  {
   "cell_type": "code",
   "execution_count": 1,
   "metadata": {},
   "outputs": [],
   "source": [
    "## Done By: Nayan Man Singh Pradhan"
   ]
  },
  {
   "cell_type": "code",
   "execution_count": 3,
   "metadata": {},
   "outputs": [],
   "source": [
    "import numpy as np"
   ]
  },
  {
   "cell_type": "code",
   "execution_count": 16,
   "metadata": {},
   "outputs": [
    {
     "name": "stdout",
     "output_type": "stream",
     "text": [
      "a =\n",
      " [[1]\n",
      " [1]\n",
      " [0]]\n",
      "b =\n",
      " [[-1]\n",
      " [ 2]\n",
      " [ 5]]\n",
      "M =\n",
      " [[ 2 -1  0]\n",
      " [-1  2 -1]\n",
      " [ 0 -1  2]]\n"
     ]
    }
   ],
   "source": [
    "a = np.array([[1],[1],[0]])\n",
    "b = np.array([[-1],[2],[5]])\n",
    "M = np.array([[2,-1,0],[-1,2,-1],[0,-1,2]])\n",
    "print('a =\\n', a)\n",
    "print('b =\\n', b)\n",
    "print('M =\\n', M)"
   ]
  },
  {
   "cell_type": "code",
   "execution_count": null,
   "metadata": {},
   "outputs": [],
   "source": []
  }
 ],
 "metadata": {
  "kernelspec": {
   "display_name": "Python 3",
   "language": "python",
   "name": "python3"
  },
  "language_info": {
   "codemirror_mode": {
    "name": "ipython",
    "version": 3
   },
   "file_extension": ".py",
   "mimetype": "text/x-python",
   "name": "python",
   "nbconvert_exporter": "python",
   "pygments_lexer": "ipython3",
   "version": "3.7.6"
  }
 },
 "nbformat": 4,
 "nbformat_minor": 4
}
