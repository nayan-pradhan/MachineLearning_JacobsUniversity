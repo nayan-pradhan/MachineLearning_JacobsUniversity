{
 "cells": [
  {
   "cell_type": "markdown",
   "metadata": {},
   "source": [
    "In this programming exercise, you will implement the validation set approach and K-fold cross validation, while recalling that leave-one-out cross validation is K-fold cross validation for K = N , if N is the number of training samples. Implement the study carried out in Example 6.3 from the lecture notes. Note that due to randomization, you might get other results than the ones shown in the example. "
   ]
  },
  {
   "cell_type": "code",
   "execution_count": 38,
   "metadata": {},
   "outputs": [],
   "source": [
    "## Importing\n",
    "\n",
    "import numpy as np\n",
    "import pandas as pd\n",
    "import random\n",
    "from sklearn.neighbors import KNeighborsRegressor"
   ]
  },
  {
   "cell_type": "code",
   "execution_count": 126,
   "metadata": {},
   "outputs": [],
   "source": [
    "## loss function\n",
    "def L2_loss(pred, actual):\n",
    "    return (pred-actual)**2\n",
    "    \n",
    "    \n",
    "## Error estimation by validation set approach\n",
    "def err_validation_set(x, y):\n",
    "    \n",
    "    ## Splitting data into train and validate sets\n",
    "    split_size = random.randint(1, len(x)-1)\n",
    "    train_x = x[0:split_size]\n",
    "    train_y = y[0:split_size]\n",
    "    validate_x = x[split_size:]\n",
    "    validate_y = y[split_size:]\n",
    "    \n",
    "    ## Reshaping into np array\n",
    "    train_x = np.array(train_x)\n",
    "    validate_x = np.array(validate_x)\n",
    "    train_x = train_x.reshape(-1,1)\n",
    "    validate_x = validate_x.reshape(-1,1)\n",
    "    \n",
    "    ## Using KNN regressor to predict for single k\n",
    "#     k = 3\n",
    "#     clf = KNeighborsRegressor(n_neighbors = k)\n",
    "#     clf.fit(train_x, train_y)\n",
    "#     prediction = (clf.predict(validate_x))\n",
    "#     print(prediction, validate_y)\n",
    "#     Err = (1/len(validate_x)) * sum(L2_loss(prediction, validate_y))\n",
    "\n",
    "    ## Using KNN regressor to predict for range of k\n",
    "    Err = []\n",
    "    \n",
    "    for k in range(len(train_x), 0, -1):\n",
    "        print(k)\n",
    "        clf = KNeighborsRegressor(n_neighbors = k)\n",
    "        clf.fit(train_x, train_y)\n",
    "        prediction = (clf.predict(validate_x))\n",
    "        Err.append((1/len(validate_x)) * sum(L2_loss(prediction, validate_y)))\n",
    "    \n",
    "    return Err\n",
    "    "
   ]
  },
  {
   "cell_type": "code",
   "execution_count": 127,
   "metadata": {},
   "outputs": [
    {
     "name": "stdout",
     "output_type": "stream",
     "text": [
      "25\n",
      "24\n",
      "23\n",
      "22\n",
      "21\n",
      "20\n",
      "19\n",
      "18\n",
      "17\n",
      "16\n",
      "15\n",
      "14\n",
      "13\n",
      "12\n",
      "11\n",
      "10\n",
      "9\n",
      "8\n",
      "7\n",
      "6\n",
      "5\n",
      "4\n",
      "3\n",
      "2\n",
      "1\n"
     ]
    },
    {
     "data": {
      "text/plain": [
       "[array([43.87020706]),\n",
       " array([42.16986882]),\n",
       " array([40.67577077]),\n",
       " array([39.48107206]),\n",
       " array([38.02041577]),\n",
       " array([36.53870265]),\n",
       " array([33.66742964]),\n",
       " array([31.87081598]),\n",
       " array([28.39372086]),\n",
       " array([26.72240645]),\n",
       " array([24.40359849]),\n",
       " array([22.07340571]),\n",
       " array([19.01019888]),\n",
       " array([15.6239639]),\n",
       " array([11.02316882]),\n",
       " array([9.21671641]),\n",
       " array([8.33107219]),\n",
       " array([5.80850185]),\n",
       " array([4.92178493]),\n",
       " array([3.25836485]),\n",
       " array([2.19548522]),\n",
       " array([1.51386487]),\n",
       " array([3.11622148]),\n",
       " array([2.74152554]),\n",
       " array([3.65419112])]"
      ]
     },
     "execution_count": 127,
     "metadata": {},
     "output_type": "execute_result"
    }
   ],
   "source": [
    "## Generate random input sample\n",
    "N = 51\n",
    "x = []\n",
    "y = []\n",
    "\n",
    "for i in range(0, N):\n",
    "    mu, sigma = 0, 1.15 ## mean and standard deviation\n",
    "    noise = np.random.normal(mu, sigma, 1)\n",
    "    \n",
    "    temp_x = random.randint(-4,4)\n",
    "    temp_y = temp_x**2 + noise\n",
    "    \n",
    "    x.append(temp_x)\n",
    "    y.append(temp_y)\n",
    "    \n",
    "## Error Validation Set     \n",
    "err_validation_set(x, y)"
   ]
  },
  {
   "cell_type": "code",
   "execution_count": null,
   "metadata": {},
   "outputs": [],
   "source": []
  }
 ],
 "metadata": {
  "kernelspec": {
   "display_name": "Python 3",
   "language": "python",
   "name": "python3"
  },
  "language_info": {
   "codemirror_mode": {
    "name": "ipython",
    "version": 3
   },
   "file_extension": ".py",
   "mimetype": "text/x-python",
   "name": "python",
   "nbconvert_exporter": "python",
   "pygments_lexer": "ipython3",
   "version": "3.7.6"
  }
 },
 "nbformat": 4,
 "nbformat_minor": 4
}
