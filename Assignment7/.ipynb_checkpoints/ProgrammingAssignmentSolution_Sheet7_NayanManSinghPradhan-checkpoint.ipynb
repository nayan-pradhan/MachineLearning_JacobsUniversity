{
 "cells": [
  {
   "cell_type": "markdown",
   "metadata": {},
   "source": [
    "In this programming exercise, you will implement the validation set approach and K-fold cross validation, while recalling that leave-one-out cross validation is K-fold cross validation for K = N , if N is the number of training samples. Implement the study carried out in Example 6.3 from the lecture notes. Note that due to randomization, you might get other results than the ones shown in the example. "
   ]
  },
  {
   "cell_type": "code",
   "execution_count": 3,
   "metadata": {},
   "outputs": [],
   "source": [
    "## Importing\n",
    "\n",
    "import numpy as np\n",
    "import pandas as pd\n",
    "import random"
   ]
  },
  {
   "cell_type": "code",
   "execution_count": 29,
   "metadata": {},
   "outputs": [],
   "source": [
    "## Error estimation by validation set approach\n",
    "def err_validation_set(x, y):\n",
    "    \n",
    "    ## Splitting data into train and validate sets\n",
    "    split_size = random.randint(1, len(x)-1)\n",
    "    train_x = x[0:split_size]\n",
    "    train_y = y[0:split_size]\n",
    "    validate_x = x[split_size:]\n",
    "    validate_y = y[split_size:]\n",
    "\n",
    "    "
   ]
  },
  {
   "cell_type": "code",
   "execution_count": 30,
   "metadata": {},
   "outputs": [
    {
     "name": "stdout",
     "output_type": "stream",
     "text": [
      "size= 25\n",
      "[-3, -2, -1, 3, -1, -4, 3, -3, -3, 2, -4, 4, -4, 1, 4, 3, -3, -3, -3, -3, -3, -3, 4, -4, -4]\n",
      "[-3, 4, -3, -4, 2, 3, 2, -1, -3, -2, 4, -4, 4, 2, 4, -1, 1, -3, -3, 4, -3, -2, 1, 2, 4, 2]\n",
      "25 26\n",
      "[array([10.34579297]), array([1.72410794]), array([0.43886774]), array([7.21210512]), array([2.01173544]), array([16.35165498]), array([9.0240295]), array([9.88543758]), array([8.38030209]), array([3.05642965]), array([16.05518791]), array([15.62045129]), array([14.93194679]), array([1.13818241]), array([16.31447954]), array([8.86991533]), array([9.31423516]), array([8.19857962]), array([10.30633605]), array([9.29650519]), array([9.58406417]), array([6.74769399]), array([16.78009566]), array([18.29147867]), array([16.63017526])]\n"
     ]
    }
   ],
   "source": [
    "## Generate random input sample\n",
    "N = 51\n",
    "x = []\n",
    "y = []\n",
    "\n",
    "for i in range(0, N):\n",
    "    mu, sigma = 0, 1.15 ## mean and standard deviation\n",
    "    noise = np.random.normal(mu, sigma, 1)\n",
    "    \n",
    "    temp_x = random.randint(-4,4)\n",
    "    temp_y = temp_x**2 + noise\n",
    "    \n",
    "    \n",
    "    x.append(temp_x)\n",
    "    y.append(temp_y)\n",
    "    \n",
    "err_validation_set(x, y)"
   ]
  },
  {
   "cell_type": "code",
   "execution_count": null,
   "metadata": {},
   "outputs": [],
   "source": []
  }
 ],
 "metadata": {
  "kernelspec": {
   "display_name": "Python 3",
   "language": "python",
   "name": "python3"
  },
  "language_info": {
   "codemirror_mode": {
    "name": "ipython",
    "version": 3
   },
   "file_extension": ".py",
   "mimetype": "text/x-python",
   "name": "python",
   "nbconvert_exporter": "python",
   "pygments_lexer": "ipython3",
   "version": "3.7.6"
  }
 },
 "nbformat": 4,
 "nbformat_minor": 4
}
