{
 "cells": [
  {
   "cell_type": "markdown",
   "metadata": {},
   "source": [
    "In this programming exercise, you will implement the validation set approach and K-fold cross validation, while recalling that leave-one-out cross validation is K-fold cross validation for K = N , if N is the number of training samples. Implement the study carried out in Example 6.3 from the lecture notes. Note that due to randomization, you might get other results than the ones shown in the example. "
   ]
  },
  {
   "cell_type": "code",
   "execution_count": 369,
   "metadata": {},
   "outputs": [],
   "source": [
    "## Importing\n",
    "\n",
    "import numpy as np\n",
    "import pandas as pd\n",
    "import random\n",
    "from sklearn.neighbors import KNeighborsRegressor\n",
    "from matplotlib import cm\n",
    "import matplotlib.pyplot as plt"
   ]
  },
  {
   "cell_type": "code",
   "execution_count": 399,
   "metadata": {},
   "outputs": [],
   "source": [
    "## loss function\n",
    "def L2_loss(pred, actual):\n",
    "    return (pred-actual)**2\n",
    "    \n",
    "    \n",
    "## Error estimation by validation set approach\n",
    "def err_validation_set(train_x, train_y, validate_x, validate_y, k_for_KNN_reg):\n",
    "    \n",
    "    ## Using KNN regressor to predict for single k\n",
    "    clf = KNeighborsRegressor(n_neighbors = k_for_KNN_reg)\n",
    "    clf.fit(train_x, train_y)\n",
    "    prediction = (clf.predict(validate_x))\n",
    "    Err = (1/len(validate_x)) * sum(L2_loss(prediction, validate_y))\n",
    "\n",
    "    return Err\n",
    "\n",
    "\n",
    "## Error estimation by k fold cross validation\n",
    "def k_fold_cross_validation(x, y, k_folds, k_for_KNN_reg):\n",
    "    inp = list(zip(x, y))\n",
    "    folds = np.array_split(inp, (k_folds))\n",
    "    \n",
    "    Err = []\n",
    "    \n",
    "    for i in range(0, len(folds)):\n",
    "        Validate = []\n",
    "        Validate.append(folds[i])\n",
    "        Train = [z for j,z in enumerate(folds) if j!=i]\n",
    "        \n",
    "        print(Train)\n",
    "        \n",
    "#         x_Train = [t[0] for t in [u[0] for u in Train]]\n",
    "#         y_Train = [t[1] for t in [u[0] for u in Train]]\n",
    "#         print(x_Train)\n",
    "#         print(Train)\n",
    "#         x_Train = [t[0] for t in Train]\n",
    "#         y_Train = [t[1] for t in Train]\n",
    "#         x_Validate = [v[0] for v in Validate]\n",
    "#         y_Validate = [v[1] for v in Validate]\n",
    "        \n",
    "#         print(((Train[0])[0])[0])\n",
    "#         print((x_Train))\n",
    "\n",
    "        \n",
    "        clf = KNeighborsRegressor(n_neighbors = k_for_KNN_reg)\n",
    "        clf.fit(x_Train, y_Train)\n",
    "        prediction = (clf.predict(x_Validate))\n",
    "        Err.append((1/len(x_Validate)) * sum(L2_loss(prediction, y_Validate)))\n",
    "    \n",
    "    Avg_Err = (1/k_folds) * sum(sum(Err))\n",
    "    \n",
    "    return (Avg_Err[0])\n",
    "    "
   ]
  },
  {
   "cell_type": "code",
   "execution_count": 400,
   "metadata": {},
   "outputs": [
    {
     "data": {
      "image/png": "[encoded data removed]",
      "text/plain": [
       "<Figure size 432x288 with 1 Axes>"
      ]
     },
     "metadata": {
      "needs_background": "light"
     },
     "output_type": "display_data"
    },
    {
     "name": "stdout",
     "output_type": "stream",
     "text": [
      "We notice that the generalization error is the minimum when the neighborhood size is small, and is large when the neighboorhood size is large.\n"
     ]
    }
   ],
   "source": [
    "## Generate random input sample\n",
    "N = 51\n",
    "x = []\n",
    "y = []\n",
    "for i in range(0, N):\n",
    "    mu, sigma = 0, 1.15 ## mean and standard deviation\n",
    "    noise = np.random.normal(mu, sigma, 1)\n",
    "    \n",
    "    temp_x = random.randint(-4,4)\n",
    "    temp_y = temp_x**2 + noise\n",
    "    \n",
    "    x.append(temp_x)\n",
    "    y.append(temp_y)\n",
    "    \n",
    "## Just storing for future use\n",
    "x_store = x\n",
    "y_store = y\n",
    "    \n",
    "## Splitting data into train and validate sets\n",
    "split_size = random.randint(1, len(x)-1)\n",
    "train_x = x[0:split_size]\n",
    "train_y = y[0:split_size]\n",
    "validate_x = x[split_size:]\n",
    "validate_y = y[split_size:]\n",
    "    \n",
    "## Reshaping into np array\n",
    "train_x = np.array(train_x)\n",
    "validate_x = np.array(validate_x)\n",
    "train_x = train_x.reshape(-1,1)\n",
    "validate_x = validate_x.reshape(-1,1)\n",
    "    \n",
    "## Error Validation Set     \n",
    "for k in range(len(train_x), 0, -1):\n",
    "    result_validation_set = err_validation_set(train_x, train_y, validate_x, validate_y, k)\n",
    "    plt.plot(k, result_validation_set, color = 'c', label=\"knn regressor\")\n",
    "    plt.plot(k, result_validation_set, 'rs', markersize=10, color = 'r')\n",
    "    plt.title(\"neighborhood size k vs generalization error\")\n",
    "    plt.xlabel(\"neighborhood size k\")\n",
    "    plt.ylabel(\"generalization error\")\n",
    "\n",
    "plt.show()\n",
    "print(\"We notice that the generalization error is the minimum when the neighborhood size is small, and is large when the neighboorhood size is large.\")"
   ]
  },
  {
   "cell_type": "code",
   "execution_count": 401,
   "metadata": {},
   "outputs": [
    {
     "name": "stdout",
     "output_type": "stream",
     "text": [
      "[array([[-2, array([3.98288354])],\n",
      "       [-2, array([4.51139621])],\n",
      "       [-4, array([16.76065198])],\n",
      "       [3, array([8.40495906])],\n",
      "       [4, array([16.88063699])],\n",
      "       [0, array([-0.96233706])],\n",
      "       [-3, array([10.52876664])],\n",
      "       [0, array([-0.22892172])],\n",
      "       [0, array([1.89873542])],\n",
      "       [-2, array([5.98773415])],\n",
      "       [2, array([3.05918893])],\n",
      "       [4, array([16.22949566])],\n",
      "       [3, array([9.61303053])],\n",
      "       [1, array([0.14566131])],\n",
      "       [4, array([16.2304478])],\n",
      "       [-4, array([14.70171928])],\n",
      "       [-4, array([17.34966314])]], dtype=object), array([[1, array([-0.15828352])],\n",
      "       [-2, array([3.10226952])],\n",
      "       [0, array([-0.30640385])],\n",
      "       [4, array([16.24682386])],\n",
      "       [3, array([9.50307541])],\n",
      "       [-1, array([-0.45725682])],\n",
      "       [0, array([0.74834323])],\n",
      "       [-4, array([15.98312729])],\n",
      "       [1, array([0.88660918])],\n",
      "       [-2, array([4.36653215])],\n",
      "       [4, array([15.1611098])],\n",
      "       [1, array([3.31720623])],\n",
      "       [-2, array([2.67790128])],\n",
      "       [4, array([15.70231574])],\n",
      "       [0, array([-2.52276474])],\n",
      "       [2, array([2.40048694])],\n",
      "       [1, array([0.70979175])]], dtype=object)]\n"
     ]
    },
    {
     "ename": "NameError",
     "evalue": "name 'x_Train' is not defined",
     "output_type": "error",
     "traceback": [
      "\u001b[0;31m---------------------------------------------------------------------------\u001b[0m",
      "\u001b[0;31mNameError\u001b[0m                                 Traceback (most recent call last)",
      "\u001b[0;32m<ipython-input-401-eb0a15cc58e1>\u001b[0m in \u001b[0;36m<module>\u001b[0;34m\u001b[0m\n\u001b[1;32m      4\u001b[0m \u001b[0mk_for_knn_reg\u001b[0m \u001b[0;34m=\u001b[0m \u001b[0;36m3\u001b[0m\u001b[0;34m\u001b[0m\u001b[0;34m\u001b[0m\u001b[0m\n\u001b[1;32m      5\u001b[0m \u001b[0;34m\u001b[0m\u001b[0m\n\u001b[0;32m----> 6\u001b[0;31m \u001b[0mk_fold_cross_validation\u001b[0m\u001b[0;34m(\u001b[0m\u001b[0mx\u001b[0m\u001b[0;34m,\u001b[0m \u001b[0my\u001b[0m\u001b[0;34m,\u001b[0m \u001b[0mk_folds\u001b[0m\u001b[0;34m,\u001b[0m \u001b[0mk_for_knn_reg\u001b[0m\u001b[0;34m)\u001b[0m\u001b[0;34m\u001b[0m\u001b[0;34m\u001b[0m\u001b[0m\n\u001b[0m",
      "\u001b[0;32m<ipython-input-399-52a7942ef2ef>\u001b[0m in \u001b[0;36mk_fold_cross_validation\u001b[0;34m(x, y, k_folds, k_for_KNN_reg)\u001b[0m\n\u001b[1;32m     44\u001b[0m \u001b[0;34m\u001b[0m\u001b[0m\n\u001b[1;32m     45\u001b[0m         \u001b[0mclf\u001b[0m \u001b[0;34m=\u001b[0m \u001b[0mKNeighborsRegressor\u001b[0m\u001b[0;34m(\u001b[0m\u001b[0mn_neighbors\u001b[0m \u001b[0;34m=\u001b[0m \u001b[0mk_for_KNN_reg\u001b[0m\u001b[0;34m)\u001b[0m\u001b[0;34m\u001b[0m\u001b[0;34m\u001b[0m\u001b[0m\n\u001b[0;32m---> 46\u001b[0;31m         \u001b[0mclf\u001b[0m\u001b[0;34m.\u001b[0m\u001b[0mfit\u001b[0m\u001b[0;34m(\u001b[0m\u001b[0mx_Train\u001b[0m\u001b[0;34m,\u001b[0m \u001b[0my_Train\u001b[0m\u001b[0;34m)\u001b[0m\u001b[0;34m\u001b[0m\u001b[0;34m\u001b[0m\u001b[0m\n\u001b[0m\u001b[1;32m     47\u001b[0m         \u001b[0mprediction\u001b[0m \u001b[0;34m=\u001b[0m \u001b[0;34m(\u001b[0m\u001b[0mclf\u001b[0m\u001b[0;34m.\u001b[0m\u001b[0mpredict\u001b[0m\u001b[0;34m(\u001b[0m\u001b[0mx_Validate\u001b[0m\u001b[0;34m)\u001b[0m\u001b[0;34m)\u001b[0m\u001b[0;34m\u001b[0m\u001b[0;34m\u001b[0m\u001b[0m\n\u001b[1;32m     48\u001b[0m         \u001b[0mErr\u001b[0m\u001b[0;34m.\u001b[0m\u001b[0mappend\u001b[0m\u001b[0;34m(\u001b[0m\u001b[0;34m(\u001b[0m\u001b[0;36m1\u001b[0m\u001b[0;34m/\u001b[0m\u001b[0mlen\u001b[0m\u001b[0;34m(\u001b[0m\u001b[0mx_Validate\u001b[0m\u001b[0;34m)\u001b[0m\u001b[0;34m)\u001b[0m \u001b[0;34m*\u001b[0m \u001b[0msum\u001b[0m\u001b[0;34m(\u001b[0m\u001b[0mL2_loss\u001b[0m\u001b[0;34m(\u001b[0m\u001b[0mprediction\u001b[0m\u001b[0;34m,\u001b[0m \u001b[0my_Validate\u001b[0m\u001b[0;34m)\u001b[0m\u001b[0;34m)\u001b[0m\u001b[0;34m)\u001b[0m\u001b[0;34m\u001b[0m\u001b[0;34m\u001b[0m\u001b[0m\n",
      "\u001b[0;31mNameError\u001b[0m: name 'x_Train' is not defined"
     ]
    }
   ],
   "source": [
    "x = x_store\n",
    "y = y_store\n",
    "k_folds = 3\n",
    "k_for_knn_reg = 3\n",
    "\n",
    "k_fold_cross_validation(x, y, k_folds, k_for_knn_reg)"
   ]
  },
  {
   "cell_type": "code",
   "execution_count": null,
   "metadata": {},
   "outputs": [],
   "source": []
  },
  {
   "cell_type": "code",
   "execution_count": null,
   "metadata": {},
   "outputs": [],
   "source": []
  }
 ],
 "metadata": {
  "kernelspec": {
   "display_name": "Python 3",
   "language": "python",
   "name": "python3"
  },
  "language_info": {
   "codemirror_mode": {
    "name": "ipython",
    "version": 3
   },
   "file_extension": ".py",
   "mimetype": "text/x-python",
   "name": "python",
   "nbconvert_exporter": "python",
   "pygments_lexer": "ipython3",
   "version": "3.7.6"
  }
 },
 "nbformat": 4,
 "nbformat_minor": 4
}
