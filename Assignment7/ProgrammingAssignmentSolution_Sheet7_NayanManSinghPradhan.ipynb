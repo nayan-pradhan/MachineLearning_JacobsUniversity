{
 "cells": [
  {
   "cell_type": "markdown",
   "metadata": {},
   "source": [
    "# Assignment Sheet 7\n",
    "## Done by Nayan Man Singh Pradhan"
   ]
  },
  {
   "cell_type": "markdown",
   "metadata": {},
   "source": [
    "### Impoting libraries"
   ]
  },
  {
   "cell_type": "code",
   "execution_count": 8,
   "metadata": {},
   "outputs": [],
   "source": [
    "## Importing\n",
    "import numpy as np\n",
    "import pandas as pd\n",
    "import random\n",
    "from sklearn.neighbors import KNeighborsRegressor\n",
    "from matplotlib import cm\n",
    "import matplotlib.pyplot as plt"
   ]
  },
  {
   "cell_type": "markdown",
   "metadata": {},
   "source": [
    "### Functions"
   ]
  },
  {
   "cell_type": "code",
   "execution_count": 9,
   "metadata": {},
   "outputs": [],
   "source": [
    "## L2 Loss function\n",
    "\n",
    "def L2_loss(pred, actual):\n",
    "    temp = (pred-actual)\n",
    "    return np.dot(temp.T, temp)\n",
    "\n",
    "#------------------------------------------------------------------------------------------#\n",
    "\n",
    "## Error estimation by validation set approach\n",
    "\n",
    "def err_validation_set(x, y, k_for_KNN_reg):\n",
    "    \n",
    "    ## Splitting data into train and validate sets\n",
    "    split_size = random.randint(1, len(x)-1)\n",
    "    train_x = x[0:split_size]\n",
    "    train_y = y[0:split_size]\n",
    "    validate_x = x[split_size:]\n",
    "    validate_y = y[split_size:]\n",
    "    \n",
    "    ## Reshaping into np array\n",
    "    train_x = np.array(train_x)\n",
    "    validate_x = np.array(validate_x)\n",
    "    train_x = train_x.reshape(-1,1)\n",
    "    validate_x = validate_x.reshape(-1,1)\n",
    "    \n",
    "    ## Using KNN regressor to predict for single k\n",
    "    clf = KNeighborsRegressor(n_neighbors = k_for_KNN_reg)\n",
    "    clf.fit(train_x, train_y)\n",
    "    prediction = (clf.predict(validate_x))\n",
    "    Err = (1/len(validate_x)) * sum(L2_loss(prediction, validate_y))\n",
    "\n",
    "    return Err[0]\n",
    "\n",
    "#------------------------------------------------------------------------------------------#\n",
    "\n",
    "## Error estimation by k fold cross validation\n",
    "\n",
    "def k_fold_cross_validation(x, y, k_folds, k_for_KNN_reg):\n",
    "    inp = list(zip(x, y))\n",
    "    folds = np.array_split(inp, k_folds)\n",
    "    \n",
    "    Err = []\n",
    "    \n",
    "    for i in range(0, len(folds)):\n",
    "        x_Train = []\n",
    "        y_Train = []\n",
    "        x_Validate = []\n",
    "        y_Validate = []\n",
    "        Validate = []\n",
    "        \n",
    "        Validate.append(folds[i])\n",
    "        Train = [z for j, z in enumerate(folds) if j!=i]\n",
    "        \n",
    "        for train_datas in Train:\n",
    "            for train_data in train_datas:\n",
    "                x_Train.append(train_data[0])\n",
    "                y_Train.append(train_data[1])\n",
    "                \n",
    "        for validate_datas in Validate:\n",
    "            for validate_data in validate_datas:\n",
    "                x_Validate.append(validate_data[0])\n",
    "                y_Validate.append(validate_data[1])\n",
    "\n",
    "        x_Train = np.asarray(x_Train)\n",
    "        y_Train = np.asarray(y_Train)\n",
    "        x_Validate = np.asarray(x_Validate)\n",
    "        y_Validate = np.asarray(y_Validate)\n",
    "\n",
    "        x_Train = x_Train.reshape(-1, 1)\n",
    "        y_Train = y_Train.reshape(-1, 1)        \n",
    "        x_Validate = x_Validate.reshape(-1, 1)\n",
    "        y_Validate = y_Validate.reshape(-1, 1)\n",
    "        \n",
    "        clf = KNeighborsRegressor(n_neighbors = k_for_KNN_reg)\n",
    "        clf.fit(x_Train, y_Train)\n",
    "        prediction = (clf.predict(x_Validate))\n",
    "        Err.append((1/len(x_Validate)) * sum(L2_loss(prediction, y_Validate)))\n",
    "    \n",
    "    Avg_Err = (1/k_folds) * sum(sum(Err))\n",
    "    \n",
    "    return (Avg_Err)\n",
    "\n",
    "#------------------------------------------------------------------------------------------#\n",
    "    \n",
    "## Error estimation by validation set approach for graphing\n",
    "\n",
    "def err_validation_set_graph(train_x, train_y, validate_x, validate_y, k_for_KNN_reg):\n",
    "    \n",
    "    ## Using KNN regressor to predict for single k\n",
    "    clf = KNeighborsRegressor(n_neighbors = k_for_KNN_reg)\n",
    "    clf.fit(train_x, train_y)\n",
    "    prediction = (clf.predict(validate_x))\n",
    "    Err = (1/len(validate_x)) * sum(L2_loss(prediction, validate_y))\n",
    "\n",
    "    return Err\n",
    "\n",
    "#------------------------------------------------------------------------------------------#"
   ]
  },
  {
   "cell_type": "markdown",
   "metadata": {},
   "source": [
    "### Results"
   ]
  },
  {
   "cell_type": "code",
   "execution_count": 10,
   "metadata": {},
   "outputs": [
    {
     "name": "stdout",
     "output_type": "stream",
     "text": [
      "From Error Validation Set: 9.813389885887696\n",
      "From K-fold Validation Set: 2.9451177763135683\n"
     ]
    }
   ],
   "source": [
    "## Results\n",
    "\n",
    "## Generate random input sample\n",
    "N = 51\n",
    "x = []\n",
    "y = []\n",
    "\n",
    "for i in range(0, N):\n",
    "    mu, sigma = 0, 1.15 ## mean and standard deviation\n",
    "    noise = np.random.normal(mu, sigma, 1)\n",
    "    \n",
    "    temp_x = random.randint(-4,4)\n",
    "    temp_y = temp_x**2 + noise\n",
    "    \n",
    "    x.append(temp_x)\n",
    "    y.append(temp_y)\n",
    "    \n",
    "k_for_knn_reg = 3\n",
    "\n",
    "## Error in validation set for K_neighbors = 3\n",
    "err_val_set_result = err_validation_set(x, y, k_for_knn_reg)\n",
    "\n",
    "k_folds = 10\n",
    "## Error in k-fold validtiaon set for K_neighbors = 3 and K_folds = 10\n",
    "k_fold_result = k_fold_cross_validation(x, y, k_folds, k_for_knn_reg)\n",
    "\n",
    "print(\"From Error Validation Set:\", err_val_set_result)\n",
    "print(\"From K-fold Validation Set:\", k_fold_result)"
   ]
  },
  {
   "cell_type": "code",
   "execution_count": 13,
   "metadata": {},
   "outputs": [
    {
     "ename": "ValueError",
     "evalue": "Expected n_neighbors <= n_samples,  but n_samples = 45, n_neighbors = 47",
     "output_type": "error",
     "traceback": [
      "\u001b[0;31m---------------------------------------------------------------------------\u001b[0m",
      "\u001b[0;31mValueError\u001b[0m                                Traceback (most recent call last)",
      "\u001b[0;32m<ipython-input-13-3adb11abe969>\u001b[0m in \u001b[0;36m<module>\u001b[0;34m\u001b[0m\n\u001b[1;32m     34\u001b[0m     \u001b[0mplt\u001b[0m\u001b[0;34m.\u001b[0m\u001b[0mplot\u001b[0m\u001b[0;34m(\u001b[0m\u001b[0mk\u001b[0m\u001b[0;34m,\u001b[0m \u001b[0mresult_validation_set_graph\u001b[0m\u001b[0;34m,\u001b[0m \u001b[0;34m'rs'\u001b[0m\u001b[0;34m,\u001b[0m \u001b[0mmarkersize\u001b[0m\u001b[0;34m=\u001b[0m\u001b[0;36m10\u001b[0m\u001b[0;34m,\u001b[0m \u001b[0mcolor\u001b[0m \u001b[0;34m=\u001b[0m \u001b[0;34m'r'\u001b[0m\u001b[0;34m)\u001b[0m\u001b[0;34m\u001b[0m\u001b[0;34m\u001b[0m\u001b[0m\n\u001b[1;32m     35\u001b[0m \u001b[0;34m\u001b[0m\u001b[0m\n\u001b[0;32m---> 36\u001b[0;31m     \u001b[0mresult_k_fold_set_graph\u001b[0m \u001b[0;34m=\u001b[0m \u001b[0mk_fold_cross_validation\u001b[0m\u001b[0;34m(\u001b[0m\u001b[0mx\u001b[0m\u001b[0;34m,\u001b[0m \u001b[0my\u001b[0m\u001b[0;34m,\u001b[0m \u001b[0;36m10\u001b[0m\u001b[0;34m,\u001b[0m \u001b[0mk\u001b[0m\u001b[0;34m)\u001b[0m\u001b[0;34m\u001b[0m\u001b[0;34m\u001b[0m\u001b[0m\n\u001b[0m\u001b[1;32m     37\u001b[0m     \u001b[0mplt\u001b[0m\u001b[0;34m.\u001b[0m\u001b[0mplot\u001b[0m\u001b[0;34m(\u001b[0m\u001b[0mk\u001b[0m\u001b[0;34m,\u001b[0m \u001b[0mresult_k_fold_set_graph\u001b[0m\u001b[0;34m,\u001b[0m \u001b[0mcolor\u001b[0m \u001b[0;34m=\u001b[0m \u001b[0;34m'c'\u001b[0m\u001b[0;34m,\u001b[0m \u001b[0mlabel\u001b[0m\u001b[0;34m=\u001b[0m\u001b[0;34m\"knn regressor\"\u001b[0m\u001b[0;34m)\u001b[0m\u001b[0;34m\u001b[0m\u001b[0;34m\u001b[0m\u001b[0m\n\u001b[1;32m     38\u001b[0m     \u001b[0mplt\u001b[0m\u001b[0;34m.\u001b[0m\u001b[0mplot\u001b[0m\u001b[0;34m(\u001b[0m\u001b[0mk\u001b[0m\u001b[0;34m,\u001b[0m \u001b[0mresult_k_fold_set_graph\u001b[0m\u001b[0;34m,\u001b[0m \u001b[0;34m'rs'\u001b[0m\u001b[0;34m,\u001b[0m \u001b[0mmarkersize\u001b[0m\u001b[0;34m=\u001b[0m\u001b[0;36m10\u001b[0m\u001b[0;34m,\u001b[0m \u001b[0mcolor\u001b[0m \u001b[0;34m=\u001b[0m \u001b[0;34m'b'\u001b[0m\u001b[0;34m)\u001b[0m\u001b[0;34m\u001b[0m\u001b[0;34m\u001b[0m\u001b[0m\n",
      "\u001b[0;32m<ipython-input-9-2c21dadf1bdd>\u001b[0m in \u001b[0;36mk_fold_cross_validation\u001b[0;34m(x, y, k_folds, k_for_KNN_reg)\u001b[0m\n\u001b[1;32m     74\u001b[0m         \u001b[0mclf\u001b[0m \u001b[0;34m=\u001b[0m \u001b[0mKNeighborsRegressor\u001b[0m\u001b[0;34m(\u001b[0m\u001b[0mn_neighbors\u001b[0m \u001b[0;34m=\u001b[0m \u001b[0mk_for_KNN_reg\u001b[0m\u001b[0;34m)\u001b[0m\u001b[0;34m\u001b[0m\u001b[0;34m\u001b[0m\u001b[0m\n\u001b[1;32m     75\u001b[0m         \u001b[0mclf\u001b[0m\u001b[0;34m.\u001b[0m\u001b[0mfit\u001b[0m\u001b[0;34m(\u001b[0m\u001b[0mx_Train\u001b[0m\u001b[0;34m,\u001b[0m \u001b[0my_Train\u001b[0m\u001b[0;34m)\u001b[0m\u001b[0;34m\u001b[0m\u001b[0;34m\u001b[0m\u001b[0m\n\u001b[0;32m---> 76\u001b[0;31m         \u001b[0mprediction\u001b[0m \u001b[0;34m=\u001b[0m \u001b[0;34m(\u001b[0m\u001b[0mclf\u001b[0m\u001b[0;34m.\u001b[0m\u001b[0mpredict\u001b[0m\u001b[0;34m(\u001b[0m\u001b[0mx_Validate\u001b[0m\u001b[0;34m)\u001b[0m\u001b[0;34m)\u001b[0m\u001b[0;34m\u001b[0m\u001b[0;34m\u001b[0m\u001b[0m\n\u001b[0m\u001b[1;32m     77\u001b[0m         \u001b[0mErr\u001b[0m\u001b[0;34m.\u001b[0m\u001b[0mappend\u001b[0m\u001b[0;34m(\u001b[0m\u001b[0;34m(\u001b[0m\u001b[0;36m1\u001b[0m\u001b[0;34m/\u001b[0m\u001b[0mlen\u001b[0m\u001b[0;34m(\u001b[0m\u001b[0mx_Validate\u001b[0m\u001b[0;34m)\u001b[0m\u001b[0;34m)\u001b[0m \u001b[0;34m*\u001b[0m \u001b[0msum\u001b[0m\u001b[0;34m(\u001b[0m\u001b[0mL2_loss\u001b[0m\u001b[0;34m(\u001b[0m\u001b[0mprediction\u001b[0m\u001b[0;34m,\u001b[0m \u001b[0my_Validate\u001b[0m\u001b[0;34m)\u001b[0m\u001b[0;34m)\u001b[0m\u001b[0;34m)\u001b[0m\u001b[0;34m\u001b[0m\u001b[0;34m\u001b[0m\u001b[0m\n\u001b[1;32m     78\u001b[0m \u001b[0;34m\u001b[0m\u001b[0m\n",
      "\u001b[0;32m~/opt/anaconda3/lib/python3.7/site-packages/sklearn/neighbors/_regression.py\u001b[0m in \u001b[0;36mpredict\u001b[0;34m(self, X)\u001b[0m\n\u001b[1;32m    172\u001b[0m         \u001b[0mX\u001b[0m \u001b[0;34m=\u001b[0m \u001b[0mcheck_array\u001b[0m\u001b[0;34m(\u001b[0m\u001b[0mX\u001b[0m\u001b[0;34m,\u001b[0m \u001b[0maccept_sparse\u001b[0m\u001b[0;34m=\u001b[0m\u001b[0;34m'csr'\u001b[0m\u001b[0;34m)\u001b[0m\u001b[0;34m\u001b[0m\u001b[0;34m\u001b[0m\u001b[0m\n\u001b[1;32m    173\u001b[0m \u001b[0;34m\u001b[0m\u001b[0m\n\u001b[0;32m--> 174\u001b[0;31m         \u001b[0mneigh_dist\u001b[0m\u001b[0;34m,\u001b[0m \u001b[0mneigh_ind\u001b[0m \u001b[0;34m=\u001b[0m \u001b[0mself\u001b[0m\u001b[0;34m.\u001b[0m\u001b[0mkneighbors\u001b[0m\u001b[0;34m(\u001b[0m\u001b[0mX\u001b[0m\u001b[0;34m)\u001b[0m\u001b[0;34m\u001b[0m\u001b[0;34m\u001b[0m\u001b[0m\n\u001b[0m\u001b[1;32m    175\u001b[0m \u001b[0;34m\u001b[0m\u001b[0m\n\u001b[1;32m    176\u001b[0m         \u001b[0mweights\u001b[0m \u001b[0;34m=\u001b[0m \u001b[0m_get_weights\u001b[0m\u001b[0;34m(\u001b[0m\u001b[0mneigh_dist\u001b[0m\u001b[0;34m,\u001b[0m \u001b[0mself\u001b[0m\u001b[0;34m.\u001b[0m\u001b[0mweights\u001b[0m\u001b[0;34m)\u001b[0m\u001b[0;34m\u001b[0m\u001b[0;34m\u001b[0m\u001b[0m\n",
      "\u001b[0;32m~/opt/anaconda3/lib/python3.7/site-packages/sklearn/neighbors/_base.py\u001b[0m in \u001b[0;36mkneighbors\u001b[0;34m(self, X, n_neighbors, return_distance)\u001b[0m\n\u001b[1;32m    615\u001b[0m                 \u001b[0;34m\"Expected n_neighbors <= n_samples, \"\u001b[0m\u001b[0;34m\u001b[0m\u001b[0;34m\u001b[0m\u001b[0m\n\u001b[1;32m    616\u001b[0m                 \u001b[0;34m\" but n_samples = %d, n_neighbors = %d\"\u001b[0m \u001b[0;34m%\u001b[0m\u001b[0;34m\u001b[0m\u001b[0;34m\u001b[0m\u001b[0m\n\u001b[0;32m--> 617\u001b[0;31m                 \u001b[0;34m(\u001b[0m\u001b[0mn_samples_fit\u001b[0m\u001b[0;34m,\u001b[0m \u001b[0mn_neighbors\u001b[0m\u001b[0;34m)\u001b[0m\u001b[0;34m\u001b[0m\u001b[0;34m\u001b[0m\u001b[0m\n\u001b[0m\u001b[1;32m    618\u001b[0m             )\n\u001b[1;32m    619\u001b[0m \u001b[0;34m\u001b[0m\u001b[0m\n",
      "\u001b[0;31mValueError\u001b[0m: Expected n_neighbors <= n_samples,  but n_samples = 45, n_neighbors = 47"
     ]
    },
    {
     "data": {
      "image/png": "[encoded data removed]",
      "text/plain": [
       "<Figure size 432x288 with 1 Axes>"
      ]
     },
     "metadata": {
      "needs_background": "light"
     },
     "output_type": "display_data"
    }
   ],
   "source": [
    "## For graphing like example 6.3\n",
    "\n",
    "## Generate random input sample\n",
    "N = 51\n",
    "x = []\n",
    "y = []\n",
    "for i in range(0, N):\n",
    "    mu, sigma = 0, 1.15 ## mean and standard deviation\n",
    "    noise = np.random.normal(mu, sigma, 1)\n",
    "    \n",
    "    temp_x = random.randint(-4,4)\n",
    "    temp_y = temp_x**2 + noise\n",
    "    \n",
    "    x.append(temp_x)\n",
    "    y.append(temp_y)\n",
    "    \n",
    "## Splitting data into train and validate sets\n",
    "split_size = random.randint(1, len(x)-1)\n",
    "train_x = x[0:split_size]\n",
    "train_y = y[0:split_size]\n",
    "validate_x = x[split_size:]\n",
    "validate_y = y[split_size:]\n",
    "    \n",
    "## Reshaping into np array\n",
    "train_x = np.array(train_x)\n",
    "validate_x = np.array(validate_x)\n",
    "train_x = train_x.reshape(-1,1)\n",
    "validate_x = validate_x.reshape(-1,1)\n",
    "    \n",
    "## Error Validation Set     \n",
    "for k in range(len(train_x), 0, -1):\n",
    "    result_validation_set_graph = err_validation_set_graph(train_x, train_y, validate_x, validate_y, k)\n",
    "    plt.plot(k, result_validation_set_graph, color = 'c', label=\"knn regressor\")\n",
    "    plt.plot(k, result_validation_set_graph, 'rs', markersize=10, color = 'r')\n",
    "    \n",
    "    result_k_fold_set_graph = k_fold_cross_validation(x, y, 10, k)\n",
    "    plt.plot(k, result_k_fold_set_graph, color = 'c', label=\"knn regressor\")\n",
    "    plt.plot(k, result_k_fold_set_graph, 'rs', markersize=10, color = 'b')\n",
    "    \n",
    "    plt.title(\"neighborhood size k vs generalization error\")\n",
    "    plt.xlabel(\"neighborhood size k\")\n",
    "    plt.ylabel(\"generalization error\")\n",
    "plt.show()\n",
    "\n",
    "print(\"We notice that the generalization error is the minimum when the neighborhood size is small, and is large when the neighboorhood size is large.\")"
   ]
  },
  {
   "cell_type": "code",
   "execution_count": null,
   "metadata": {},
   "outputs": [],
   "source": []
  }
 ],
 "metadata": {
  "kernelspec": {
   "display_name": "Python 3",
   "language": "python",
   "name": "python3"
  },
  "language_info": {
   "codemirror_mode": {
    "name": "ipython",
    "version": 3
   },
   "file_extension": ".py",
   "mimetype": "text/x-python",
   "name": "python",
   "nbconvert_exporter": "python",
   "pygments_lexer": "ipython3",
   "version": "3.7.6"
  }
 },
 "nbformat": 4,
 "nbformat_minor": 4
}
