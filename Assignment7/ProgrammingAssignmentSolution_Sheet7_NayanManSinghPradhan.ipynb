{
 "cells": [
  {
   "cell_type": "markdown",
   "metadata": {},
   "source": [
    "In this programming exercise, you will implement the validation set approach and K-fold cross validation, while recalling that leave-one-out cross validation is K-fold cross validation for K = N , if N is the number of training samples. Implement the study carried out in Example 6.3 from the lecture notes. Note that due to randomization, you might get other results than the ones shown in the example. "
   ]
  },
  {
   "cell_type": "code",
   "execution_count": 3,
   "metadata": {},
   "outputs": [],
   "source": [
    "import numpy as np\n",
    "import pandas as pd\n",
    "import random"
   ]
  },
  {
   "cell_type": "code",
   "execution_count": 20,
   "metadata": {},
   "outputs": [
    {
     "name": "stdout",
     "output_type": "stream",
     "text": [
      "[2, 3, 1, 4, 3, -3, 3, 2, -3, 1, -3, -3, 3, 1, 1, 1, 3, -4, -3, -4, -2, 2, 1, -4, -1, 0, 0, -1, -3, -1, 4, 1, 2, -4, -1, -1, 4, -3, -1, -2, 3, -3, -2, -1, -4, -2, 0, 4, 4, 4, -1] [array([4.15812602]), array([8.35564254]), array([1.50404811]), array([15.69506044]), array([9.32723015]), array([9.59436017]), array([10.27650747]), array([5.96925745]), array([5.21067765]), array([0.04800366]), array([11.30750399]), array([8.39982439]), array([10.20500596]), array([1.7580854]), array([1.34174016]), array([-0.33652715]), array([7.82064715]), array([15.41374031]), array([8.57336155]), array([14.10541213]), array([4.39280979]), array([3.35449484]), array([2.75391545]), array([16.98316058]), array([3.38228223]), array([-1.62878915]), array([2.72240877]), array([0.29495396]), array([8.96008348]), array([1.6346621]), array([16.51947021]), array([0.08598866]), array([3.53456281]), array([16.58244586]), array([-0.65091069]), array([0.89462343]), array([17.90694149]), array([11.68519558]), array([0.70585634]), array([4.84257712]), array([8.97441095]), array([10.44709757]), array([2.39146593]), array([1.31216619]), array([16.19811065]), array([3.43074612]), array([-0.07838908]), array([15.85027674]), array([15.80548535]), array([15.66569956]), array([0.36133204])]\n"
     ]
    }
   ],
   "source": [
    "## Generate random input sample\n",
    "N = 51\n",
    "x = []\n",
    "y = []\n",
    "\n",
    "for i in range(0, N):\n",
    "    mu, sigma = 0, 1.15 ## mean and standard deviation\n",
    "    noise = np.random.normal(mu, sigma, 1)\n",
    "    \n",
    "    temp_x = random.randint(-4,4)\n",
    "    temp_y = temp_x**2 + noise\n",
    "    \n",
    "    \n",
    "    x.append(temp_x)\n",
    "    y.append(temp_y)\n",
    "\n"
   ]
  },
  {
   "cell_type": "code",
   "execution_count": null,
   "metadata": {},
   "outputs": [],
   "source": []
  },
  {
   "cell_type": "code",
   "execution_count": null,
   "metadata": {},
   "outputs": [],
   "source": []
  }
 ],
 "metadata": {
  "kernelspec": {
   "display_name": "Python 3",
   "language": "python",
   "name": "python3"
  },
  "language_info": {
   "codemirror_mode": {
    "name": "ipython",
    "version": 3
   },
   "file_extension": ".py",
   "mimetype": "text/x-python",
   "name": "python",
   "nbconvert_exporter": "python",
   "pygments_lexer": "ipython3",
   "version": "3.7.6"
  }
 },
 "nbformat": 4,
 "nbformat_minor": 4
}
