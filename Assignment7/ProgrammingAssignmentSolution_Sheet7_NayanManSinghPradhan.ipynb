{
 "cells": [
  {
   "cell_type": "markdown",
   "metadata": {},
   "source": [
    "In this programming exercise, you will implement the validation set approach and K-fold cross validation, while recalling that leave-one-out cross validation is K-fold cross validation for K = N , if N is the number of training samples. Implement the study carried out in Example 6.3 from the lecture notes. Note that due to randomization, you might get other results than the ones shown in the example. "
   ]
  },
  {
   "cell_type": "code",
   "execution_count": 134,
   "metadata": {},
   "outputs": [],
   "source": [
    "## Importing\n",
    "\n",
    "import numpy as np\n",
    "import pandas as pd\n",
    "import random\n",
    "from sklearn.neighbors import KNeighborsRegressor\n",
    "from matplotlib import cm\n",
    "import matplotlib.pyplot as plt\n",
    "\n"
   ]
  },
  {
   "cell_type": "code",
   "execution_count": 184,
   "metadata": {},
   "outputs": [],
   "source": [
    "## loss function\n",
    "def L2_loss(pred, actual):\n",
    "    return (pred-actual)**2\n",
    "    \n",
    "    \n",
    "## Error estimation by validation set approach\n",
    "def err_validation_set(train_x, train_y, validate_x, validate_y, k_for_KNN_reg):\n",
    "    \n",
    "    ## Using KNN regressor to predict for single k\n",
    "    clf = KNeighborsRegressor(n_neighbors = k_for_KNN_reg)\n",
    "    clf.fit(train_x, train_y)\n",
    "    prediction = (clf.predict(validate_x))\n",
    "    Err = (1/len(validate_x)) * sum(L2_loss(prediction, validate_y))\n",
    "\n",
    "#     ## Using KNN regressor to predict for range of k\n",
    "#     Err = []\n",
    "    \n",
    "#     for k in range(len(train_x), 0, -1):\n",
    "#         clf = KNeighborsRegressor(n_neighbors = k)\n",
    "#         clf.fit(train_x, train_y)\n",
    "#         prediction = (clf.predict(validate_x))\n",
    "#         Err.append((1/len(validate_x)) * sum(L2_loss(prediction, validate_y)))\n",
    "    \n",
    "    return Err\n",
    "    "
   ]
  },
  {
   "cell_type": "code",
   "execution_count": 190,
   "metadata": {},
   "outputs": [
    {
     "data": {
      "image/png": "[encoded data removed]",
      "text/plain": [
       "<Figure size 432x288 with 1 Axes>"
      ]
     },
     "metadata": {
      "needs_background": "light"
     },
     "output_type": "display_data"
    }
   ],
   "source": [
    "## Generate random input sample\n",
    "N = 51\n",
    "x = []\n",
    "y = []\n",
    "for i in range(0, N):\n",
    "    mu, sigma = 0, 1.15 ## mean and standard deviation\n",
    "    noise = np.random.normal(mu, sigma, 1)\n",
    "    \n",
    "    temp_x = random.randint(-4,4)\n",
    "    temp_y = temp_x**2 + noise\n",
    "    \n",
    "    x.append(temp_x)\n",
    "    y.append(temp_y)\n",
    "    \n",
    "## Splitting data into train and validate sets\n",
    "split_size = random.randint(1, len(x)-1)\n",
    "train_x = x[0:split_size]\n",
    "train_y = y[0:split_size]\n",
    "validate_x = x[split_size:]\n",
    "validate_y = y[split_size:]\n",
    "    \n",
    "## Reshaping into np array\n",
    "train_x = np.array(train_x)\n",
    "validate_x = np.array(validate_x)\n",
    "train_x = train_x.reshape(-1,1)\n",
    "validate_x = validate_x.reshape(-1,1)\n",
    "    \n",
    "## Error Validation Set     \n",
    "for k in range(len(train_x), 0, -1):\n",
    "    result_validation_set = err_validation_set(train_x, train_y, validate_x, validate_y, k)\n",
    "    plt.plot(k, result_validation_set, color = 'c', label=\"knn regressor\")\n",
    "    plt.plot(k, result_validation_set, 'rs', markersize=10, color = 'r')\n",
    "    plt.title(\"neighborhood size k vs generalization error\")\n",
    "    plt.xlabel(\"neighborhood size k\")\n",
    "    plt.ylabel(\"generalization error\")\n",
    "\n",
    "plt.show()"
   ]
  },
  {
   "cell_type": "code",
   "execution_count": null,
   "metadata": {},
   "outputs": [],
   "source": []
  },
  {
   "cell_type": "code",
   "execution_count": null,
   "metadata": {},
   "outputs": [],
   "source": []
  }
 ],
 "metadata": {
  "kernelspec": {
   "display_name": "Python 3",
   "language": "python",
   "name": "python3"
  },
  "language_info": {
   "codemirror_mode": {
    "name": "ipython",
    "version": 3
   },
   "file_extension": ".py",
   "mimetype": "text/x-python",
   "name": "python",
   "nbconvert_exporter": "python",
   "pygments_lexer": "ipython3",
   "version": "3.7.6"
  }
 },
 "nbformat": 4,
 "nbformat_minor": 4
}
