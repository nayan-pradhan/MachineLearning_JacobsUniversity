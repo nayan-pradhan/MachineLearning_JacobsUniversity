{
 "cells": [
  {
   "cell_type": "markdown",
   "metadata": {},
   "source": [
    "In this programming exercise, you will implement the validation set approach and K-fold cross validation, while recalling that leave-one-out cross validation is K-fold cross validation for K = N , if N is the number of training samples. Implement the study carried out in Example 6.3 from the lecture notes. Note that due to randomization, you might get other results than the ones shown in the example. "
   ]
  },
  {
   "cell_type": "code",
   "execution_count": 60,
   "metadata": {},
   "outputs": [],
   "source": [
    "## Importing\n",
    "\n",
    "import numpy as np\n",
    "import pandas as pd\n",
    "import random\n",
    "from sklearn.neighbors import KNeighborsRegressor\n",
    "from matplotlib import cm\n",
    "import matplotlib.pyplot as plt"
   ]
  },
  {
   "cell_type": "code",
   "execution_count": 107,
   "metadata": {},
   "outputs": [],
   "source": [
    "## loss function\n",
    "def L2_loss(pred, actual):\n",
    "    return (pred-actual)**2\n",
    "    \n",
    "    \n",
    "## Error estimation by validation set approach\n",
    "def err_validation_set(train_x, train_y, validate_x, validate_y, k_for_KNN_reg):\n",
    "    \n",
    "    ## Using KNN regressor to predict for single k\n",
    "    clf = KNeighborsRegressor(n_neighbors = k_for_KNN_reg)\n",
    "    clf.fit(train_x, train_y)\n",
    "    prediction = (clf.predict(validate_x))\n",
    "    Err = (1/len(validate_x)) * sum(L2_loss(prediction, validate_y))\n",
    "\n",
    "    return Err\n",
    "\n",
    "\n",
    "## Error estimation by k fold cross validation\n",
    "def k_fold_cross_validation(x, y, k_folds, k_for_KNN_reg):\n",
    "    inp = list(zip(x, y))\n",
    "    folds = np.array_split(inp, k_folds)\n",
    "    \n",
    "    Err = []\n",
    "    \n",
    "    for i in range(0, len(folds)):\n",
    "        x_Train = []\n",
    "        y_Train = []\n",
    "        x_Validate = []\n",
    "        y_Validate = []\n",
    "        Validate = []\n",
    "        \n",
    "        Validate.append(folds[i])\n",
    "        Train = [z for j, z in enumerate(folds) if j!=i]\n",
    "        \n",
    "        for train_datas in Train:\n",
    "            for train_data in train_datas:\n",
    "                x_Train.append(train_data[0])\n",
    "                y_Train.append(train_data[1])\n",
    "                \n",
    "        for validate_datas in Validate:\n",
    "            for validate_data in validate_datas:\n",
    "                x_Validate.append(validate_data[0])\n",
    "                y_Validate.append(validate_data[1])\n",
    "\n",
    "        x_Train = np.asarray(x_Train)\n",
    "        y_Train = np.asarray(y_Train)\n",
    "        x_Validate = np.asarray(x_Validate)\n",
    "        y_Validate = np.asarray(y_Validate)\n",
    "\n",
    "        x_Train = x_Train.reshape(-1, 1)\n",
    "        y_Train = y_Train.reshape(-1, 1)        \n",
    "        x_Validate = x_Validate.reshape(-1, 1)\n",
    "        y_Validate = y_Validate.reshape(-1, 1)\n",
    "        \n",
    "        clf = KNeighborsRegressor(n_neighbors = k_for_KNN_reg)\n",
    "        clf.fit(x_Train, y_Train)\n",
    "        prediction = (clf.predict(x_Validate))\n",
    "        Err.append((1/len(x_Validate)) * sum(L2_loss(prediction, y_Validate)))\n",
    "    \n",
    "    Avg_Err = (1/k_folds) * sum(sum(Err))\n",
    "    \n",
    "    return (Avg_Err)\n",
    "    "
   ]
  },
  {
   "cell_type": "code",
   "execution_count": 108,
   "metadata": {},
   "outputs": [
    {
     "data": {
      "image/png": "[encoded data removed]",
      "text/plain": [
       "<Figure size 432x288 with 1 Axes>"
      ]
     },
     "metadata": {
      "needs_background": "light"
     },
     "output_type": "display_data"
    },
    {
     "name": "stdout",
     "output_type": "stream",
     "text": [
      "We notice that the generalization error is the minimum when the neighborhood size is small, and is large when the neighboorhood size is large.\n"
     ]
    }
   ],
   "source": [
    "## Generate random input sample\n",
    "N = 51\n",
    "x = []\n",
    "y = []\n",
    "for i in range(0, N):\n",
    "    mu, sigma = 0, 1.15 ## mean and standard deviation\n",
    "    noise = np.random.normal(mu, sigma, 1)\n",
    "    \n",
    "    temp_x = random.randint(-4,4)\n",
    "    temp_y = temp_x**2 + noise\n",
    "    \n",
    "    x.append(temp_x)\n",
    "    y.append(temp_y)\n",
    "    \n",
    "## Just storing for future use\n",
    "x_store = x\n",
    "y_store = y\n",
    "    \n",
    "## Splitting data into train and validate sets\n",
    "split_size = random.randint(1, len(x)-1)\n",
    "train_x = x[0:split_size]\n",
    "train_y = y[0:split_size]\n",
    "validate_x = x[split_size:]\n",
    "validate_y = y[split_size:]\n",
    "    \n",
    "## Reshaping into np array\n",
    "train_x = np.array(train_x)\n",
    "validate_x = np.array(validate_x)\n",
    "train_x = train_x.reshape(-1,1)\n",
    "validate_x = validate_x.reshape(-1,1)\n",
    "    \n",
    "## Error Validation Set     \n",
    "for k in range(len(train_x), 0, -1):\n",
    "    result_validation_set = err_validation_set(train_x, train_y, validate_x, validate_y, k)\n",
    "    plt.plot(k, result_validation_set, color = 'c', label=\"knn regressor\")\n",
    "    plt.plot(k, result_validation_set, 'rs', markersize=10, color = 'r')\n",
    "    plt.title(\"neighborhood size k vs generalization error\")\n",
    "    plt.xlabel(\"neighborhood size k\")\n",
    "    plt.ylabel(\"generalization error\")\n",
    "\n",
    "plt.show()\n",
    "print(\"We notice that the generalization error is the minimum when the neighborhood size is small, and is large when the neighboorhood size is large.\")"
   ]
  },
  {
   "cell_type": "code",
   "execution_count": 111,
   "metadata": {},
   "outputs": [
    {
     "data": {
      "text/plain": [
       "1.8713406532314325"
      ]
     },
     "execution_count": 111,
     "metadata": {},
     "output_type": "execute_result"
    }
   ],
   "source": [
    "x = x_store\n",
    "y = y_store\n",
    "\n",
    "k_folds = \n",
    "k_for_knn_reg = 3\n",
    "\n",
    "k_fold_cross_validation(x, y, k_folds, k_for_knn_reg)"
   ]
  },
  {
   "cell_type": "code",
   "execution_count": null,
   "metadata": {},
   "outputs": [],
   "source": []
  },
  {
   "cell_type": "code",
   "execution_count": null,
   "metadata": {},
   "outputs": [],
   "source": []
  }
 ],
 "metadata": {
  "kernelspec": {
   "display_name": "Python 3",
   "language": "python",
   "name": "python3"
  },
  "language_info": {
   "codemirror_mode": {
    "name": "ipython",
    "version": 3
   },
   "file_extension": ".py",
   "mimetype": "text/x-python",
   "name": "python",
   "nbconvert_exporter": "python",
   "pygments_lexer": "ipython3",
   "version": "3.7.6"
  }
 },
 "nbformat": 4,
 "nbformat_minor": 4
}
