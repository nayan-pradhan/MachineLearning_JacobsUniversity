{
 "cells": [
  {
   "cell_type": "code",
   "execution_count": 1,
   "metadata": {},
   "outputs": [],
   "source": [
    "## Done By: Nayan Man Singh Pradhan"
   ]
  },
  {
   "cell_type": "code",
   "execution_count": null,
   "metadata": {},
   "outputs": [],
   "source": [
    "## Importing\n",
    "import numpy as np "
   ]
  }
 ],
 "metadata": {
  "kernelspec": {
   "name": "python3",
   "display_name": "Python 3.7.6 64-bit ('base': conda)",
   "metadata": {
    "interpreter": {
     "hash": "d2065a0e4e40ef0b4f1639d5f9e6ad7518e944343b6ffc12c782a76e5d817ae5"
    }
   }
  }
 },
 "nbformat": 4,
 "nbformat_minor": 4
}