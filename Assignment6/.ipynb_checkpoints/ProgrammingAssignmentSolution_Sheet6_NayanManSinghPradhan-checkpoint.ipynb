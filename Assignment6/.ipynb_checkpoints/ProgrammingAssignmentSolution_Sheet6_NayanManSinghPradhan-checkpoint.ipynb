{
 "cells": [
  {
   "cell_type": "code",
   "execution_count": 171,
   "metadata": {},
   "outputs": [],
   "source": [
    "## Importing\n",
    "\n",
    "import numpy as np\n",
    "import pandas as pd\n",
    "import matplotlib.pyplot as plt\n",
    "from mpl_toolkits.mplot3d import Axes3D\n",
    "import scipy.linalg as linalg\n",
    "from sklearn import linear_model\n",
    "from matplotlib import cm\n",
    "import random"
   ]
  },
  {
   "cell_type": "code",
   "execution_count": 172,
   "metadata": {},
   "outputs": [],
   "source": [
    "## Functions\n",
    "\n",
    "## Cholesky equation solver\n",
    "def Cholesky_solver(M, b):\n",
    "    c, low = linalg.cho_factor(M)\n",
    "    return (linalg.cho_solve((c, low), b))\n",
    "\n",
    "## For solving linear equation\n",
    "def linear_eqn_solver(m, X, c):\n",
    "    return (np.dot(X, m) + c)\n",
    "    \n",
    "## Main linear regression\n",
    "def lin_reg(x, y, test):\n",
    "    \n",
    "    ## Build matrix X\n",
    "    x = np.array(x)\n",
    "    y = np.array(y)\n",
    "    x_of1 = np.ones((x.shape[0], 1))\n",
    "    X = np.hstack((x_of1, x))\n",
    "    \n",
    "    ## b <-- X.T y\n",
    "    b = np.dot(X.T, y)\n",
    "    \n",
    "    ## A <-- X.T X\n",
    "    A = np.dot(X.T, X)\n",
    "    \n",
    "    ## Solve AB = b using Cholesky factorization\n",
    "    B_hat = Cholesky_solver(A, b)\n",
    "    \n",
    "    ## Predict\n",
    "    lin_reg_pred = linear_eqn_solver(B_hat[1:], test, B_hat[0])\n",
    "    \n",
    "    return lin_reg_pred, B_hat"
   ]
  },
  {
   "cell_type": "code",
   "execution_count": 203,
   "metadata": {},
   "outputs": [],
   "source": [
    "def J(x, y, test):\n",
    "#     x = np.array(x)\n",
    "#     y = np.array(y)\n",
    "    x_of1 = np.ones((x.shape[0], 1))\n",
    "    X = np.hstack((x_of1, x))\n",
    "\n",
    "    nabla_B = lin_reg(x, y, test)[1]\n",
    "    output = -2*(np.dot(X.T, (y-np.dot(X,nabla_B))))\n",
    "    return (output)\n",
    "    \n",
    "def minibatch_gradient_descent(x, y, test, initial_guess, batch_size, learning_rate, tolerance):\n",
    "    x = np.asarray(x)\n",
    "    y = np.asarray(y)\n",
    "    train = list(zip(x,y))\n",
    "    n = 0\n",
    "    w_n = initial_guess\n",
    "    mini_batches = []\n",
    "    mini_batches_temp = np.array_split(train, (len(x)/batch_size))\n",
    "#     print(mini_batches_temp)\n",
    "    \n",
    "    for val in mini_batches_temp:\n",
    "        mini_batches.append(val)\n",
    "    print(mini_batches)\n",
    "    \n",
    "    shuffeled_mini_batches = random.shuffle(mini_batches)[0]\n",
    "    print(shuffeled_mini_batches)\n",
    "    \n",
    "    print(np.linalg.norm(J(x, y, w_n)))\n",
    "    \n",
    "    while(np.linalg.norm(J(x, y, w_n)) > tolerance):\n",
    "        mini_batch = shuffeled_mini_batches[n]\n",
    "        mini_batch_x = [x_val[0] for x_val in mini_batch]\n",
    "        w_n = w_n - learning_rate*(J(x, y, mini_batch_x))\n",
    "        \n",
    "        n+=1\n",
    "        \n",
    "    return w_n"
   ]
  },
  {
   "cell_type": "code",
   "execution_count": 204,
   "metadata": {},
   "outputs": [
    {
     "name": "stdout",
     "output_type": "stream",
     "text": [
      "[array([[array([0]), 0.0],\n",
      "       [array([1]), 0.3],\n",
      "       [array([2]), 0.75]], dtype=object), array([[array([3]), 1.0],\n",
      "       [array([4]), 2.0]], dtype=object)]\n"
     ]
    },
    {
     "ename": "TypeError",
     "evalue": "'NoneType' object is not subscriptable",
     "output_type": "error",
     "traceback": [
      "\u001b[0;31m---------------------------------------------------------------------------\u001b[0m",
      "\u001b[0;31mTypeError\u001b[0m                                 Traceback (most recent call last)",
      "\u001b[0;32m<ipython-input-204-1a7fecdd8ff9>\u001b[0m in \u001b[0;36m<module>\u001b[0;34m\u001b[0m\n\u001b[1;32m      9\u001b[0m \u001b[0mtolerance\u001b[0m \u001b[0;34m=\u001b[0m \u001b[0;36m0.0000000000000001\u001b[0m\u001b[0;34m\u001b[0m\u001b[0;34m\u001b[0m\u001b[0m\n\u001b[1;32m     10\u001b[0m \u001b[0;34m\u001b[0m\u001b[0m\n\u001b[0;32m---> 11\u001b[0;31m \u001b[0mpred\u001b[0m \u001b[0;34m=\u001b[0m \u001b[0mminibatch_gradient_descent\u001b[0m\u001b[0;34m(\u001b[0m\u001b[0mX\u001b[0m\u001b[0;34m,\u001b[0m \u001b[0my\u001b[0m\u001b[0;34m,\u001b[0m \u001b[0mtest\u001b[0m\u001b[0;34m,\u001b[0m \u001b[0minitial_guess\u001b[0m\u001b[0;34m,\u001b[0m \u001b[0mbatch_size\u001b[0m\u001b[0;34m,\u001b[0m \u001b[0mlearning_rate\u001b[0m\u001b[0;34m,\u001b[0m \u001b[0mtolerance\u001b[0m\u001b[0;34m)\u001b[0m\u001b[0;34m\u001b[0m\u001b[0;34m\u001b[0m\u001b[0m\n\u001b[0m\u001b[1;32m     12\u001b[0m \u001b[0mprint\u001b[0m\u001b[0;34m(\u001b[0m\u001b[0;34m'prediction:'\u001b[0m\u001b[0;34m,\u001b[0m\u001b[0mpred\u001b[0m\u001b[0;34m)\u001b[0m\u001b[0;34m\u001b[0m\u001b[0;34m\u001b[0m\u001b[0m\n\u001b[1;32m     13\u001b[0m \u001b[0;31m# train = [list(a) for a in zip(x, y)]\u001b[0m\u001b[0;34m\u001b[0m\u001b[0;34m\u001b[0m\u001b[0;34m\u001b[0m\u001b[0m\n",
      "\u001b[0;32m<ipython-input-203-396de8639606>\u001b[0m in \u001b[0;36mminibatch_gradient_descent\u001b[0;34m(x, y, test, initial_guess, batch_size, learning_rate, tolerance)\u001b[0m\n\u001b[1;32m     23\u001b[0m     \u001b[0mprint\u001b[0m\u001b[0;34m(\u001b[0m\u001b[0mmini_batches\u001b[0m\u001b[0;34m)\u001b[0m\u001b[0;34m\u001b[0m\u001b[0;34m\u001b[0m\u001b[0m\n\u001b[1;32m     24\u001b[0m \u001b[0;34m\u001b[0m\u001b[0m\n\u001b[0;32m---> 25\u001b[0;31m     \u001b[0mshuffeled_mini_batches\u001b[0m \u001b[0;34m=\u001b[0m \u001b[0mrandom\u001b[0m\u001b[0;34m.\u001b[0m\u001b[0mshuffle\u001b[0m\u001b[0;34m(\u001b[0m\u001b[0mmini_batches\u001b[0m\u001b[0;34m)\u001b[0m\u001b[0;34m[\u001b[0m\u001b[0;36m0\u001b[0m\u001b[0;34m]\u001b[0m\u001b[0;34m\u001b[0m\u001b[0;34m\u001b[0m\u001b[0m\n\u001b[0m\u001b[1;32m     26\u001b[0m     \u001b[0mprint\u001b[0m\u001b[0;34m(\u001b[0m\u001b[0mshuffeled_mini_batches\u001b[0m\u001b[0;34m)\u001b[0m\u001b[0;34m\u001b[0m\u001b[0;34m\u001b[0m\u001b[0m\n\u001b[1;32m     27\u001b[0m \u001b[0;34m\u001b[0m\u001b[0m\n",
      "\u001b[0;31mTypeError\u001b[0m: 'NoneType' object is not subscriptable"
     ]
    }
   ],
   "source": [
    "X = [[0], [1], [2], [3], [4]]\n",
    "x = np.asarray(X)\n",
    "# x = X\n",
    "y = [0, 0.3, 0.75, 1, 2]\n",
    "test = np.array([2])\n",
    "initial_guess = 4\n",
    "batch_size = 2\n",
    "learning_rate = 0.1\n",
    "tolerance = 0.0000000000000001\n",
    "\n",
    "pred = minibatch_gradient_descent(X, y, test, initial_guess, batch_size, learning_rate, tolerance)\n",
    "print('prediction:',pred)\n",
    "# train = [list(a) for a in zip(x, y)]\n",
    "\n",
    "# print(np.shape(train))\n",
    "# train = list(zip(x,y))\n",
    "# mini_batches = np.array_split(train, 2)\n",
    "# print(mini_batches)\n",
    "# mini_batches = np.split(train, (len(x)/batch_size))"
   ]
  },
  {
   "cell_type": "code",
   "execution_count": null,
   "metadata": {},
   "outputs": [],
   "source": []
  },
  {
   "cell_type": "code",
   "execution_count": null,
   "metadata": {},
   "outputs": [],
   "source": []
  }
 ],
 "metadata": {
  "kernelspec": {
   "display_name": "Python 3",
   "language": "python",
   "name": "python3"
  },
  "language_info": {
   "codemirror_mode": {
    "name": "ipython",
    "version": 3
   },
   "file_extension": ".py",
   "mimetype": "text/x-python",
   "name": "python",
   "nbconvert_exporter": "python",
   "pygments_lexer": "ipython3",
   "version": "3.7.6"
  }
 },
 "nbformat": 4,
 "nbformat_minor": 4
}
