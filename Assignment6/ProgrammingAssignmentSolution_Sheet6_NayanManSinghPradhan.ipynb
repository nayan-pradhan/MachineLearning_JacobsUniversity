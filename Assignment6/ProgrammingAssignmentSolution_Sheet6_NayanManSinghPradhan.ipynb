{
 "cells": [
  {
   "cell_type": "code",
   "execution_count": 1,
   "metadata": {},
   "outputs": [],
   "source": [
    "## Importing\n",
    "\n",
    "import numpy as np\n",
    "import pandas as pd\n",
    "import matplotlib.pyplot as plt\n",
    "from mpl_toolkits.mplot3d import Axes3D\n",
    "import scipy.linalg as linalg\n",
    "from sklearn import linear_model\n",
    "from matplotlib import cm\n",
    "import random"
   ]
  },
  {
   "cell_type": "code",
   "execution_count": 2,
   "metadata": {},
   "outputs": [],
   "source": [
    "## Functions\n",
    "\n",
    "## Cholesky equation solver\n",
    "def Cholesky_solver(M, b):\n",
    "    c, low = linalg.cho_factor(M)\n",
    "    return (linalg.cho_solve((c, low), b))\n",
    "\n",
    "## For solving linear equation\n",
    "def linear_eqn_solver(m, X, c):\n",
    "    return (np.dot(X, m) + c)\n",
    "    \n",
    "## Main linear regression\n",
    "def lin_reg(x, y, test):\n",
    "    \n",
    "    ## Build matrix X\n",
    "    x_of1 = np.ones((x.shape[0], 1))\n",
    "    X = np.hstack((x_of1, x))\n",
    "    \n",
    "    ## b <-- X.T y\n",
    "    b = np.dot(X.T, y)\n",
    "    \n",
    "    ## A <-- X.T X\n",
    "    A = np.dot(X.T, X)\n",
    "    \n",
    "    ## Solve AB = b using Cholesky factorization\n",
    "    B_hat = Cholesky_solver(A, b)\n",
    "    \n",
    "    ## Predict\n",
    "    lin_reg_pred = linear_eqn_solver(B_hat[1:], test, B_hat[0])\n",
    "    \n",
    "    return lin_reg_pred, B_hat"
   ]
  },
  {
   "cell_type": "code",
   "execution_count": 3,
   "metadata": {},
   "outputs": [],
   "source": [
    "## Nabla of J\n",
    "def nabla_J(w_n, x, y):\n",
    "    x = np.array(x)\n",
    "    y = np.array(y)\n",
    "    x_of1 = np.ones((x.shape[0], 1))\n",
    "    X = np.hstack((x_of1, x))\n",
    "    nabla_B = (lin_reg(x, y, w_n))[1]\n",
    "    ## Vectorizing the eqn\n",
    "    output = -2*(np.dot(X.T, (y-np.dot(X,nabla_B))))\n",
    "    return output\n",
    "\n",
    "## mini batch gradient descent\n",
    "def mini_batch_gd(x, y, initial_guess, batch_size, learning_rate, tolerance):\n",
    "    \n",
    "    ## Making x, y, and zipping into train list\n",
    "    x = np.asarray(x)\n",
    "    y = np.asarray(y)\n",
    "    train = list(zip(x,y))\n",
    "    \n",
    "    ## Starting with n = 0\n",
    "    n = 0\n",
    "    \n",
    "    ## w_n is the initial guess passed by the user\n",
    "    w_n = initial_guess\n",
    "    \n",
    "    ## Creating our list of mini_batches \n",
    "    mini_batches = [] \n",
    "    ## splitting the list of training data into arrays with required batch_size\n",
    "    mini_batches_temp = np.array_split(train, (len(x)/batch_size)) \n",
    "    ## randomizing the array of split training data so we can just iterate through them to get random training batch\n",
    "    shuffeled_mini_batches = random.sample(mini_batches_temp, len(mini_batches_temp)) \n",
    "    \n",
    "    ## while loop (as per algorithm) + keeping restriction that n must be smaller than (or equal to) the number of split arrays\n",
    "    while((np.linalg.norm(nabla_J(w_n, x, y)) > tolerance) and (n<len(shuffeled_mini_batches))):\n",
    "        ## picking first element of random array\n",
    "        mini_batch = shuffeled_mini_batches[n]\n",
    "        ## seperating x and y component\n",
    "        mini_batch_x = [x_val[0] for x_val in mini_batch]\n",
    "        mini_batch_y = [y_val[1] for y_val in mini_batch]\n",
    "        ## passing seperated x and y and updating value of w_n\n",
    "        w_n = w_n + (learning_rate * np.sum(nabla_J(w_n, mini_batch_x, mini_batch_y)))\n",
    "        ## increasing n\n",
    "        n = n + 1\n",
    "        \n",
    "    return(w_n)"
   ]
  },
  {
   "cell_type": "code",
   "execution_count": 6,
   "metadata": {},
   "outputs": [
    {
     "name": "stdout",
     "output_type": "stream",
     "text": [
      "1.9000000000007908\n"
     ]
    }
   ],
   "source": [
    "X = [[0], [1], [2], [3], [4]]\n",
    "x = np.asarray(X)\n",
    "y = [0, 0.3, 0.75, 1, 2]\n",
    "\n",
    "initial_guess = 1.9\n",
    "batch_size = 2\n",
    "learning_rate = 500\n",
    "tolerance = 1e-20\n",
    "\n",
    "print(mini_batch_gd(x, y, initial_guess, batch_size, learning_rate, tolerance))"
   ]
  },
  {
   "cell_type": "code",
   "execution_count": 5,
   "metadata": {},
   "outputs": [
    {
     "name": "stdout",
     "output_type": "stream",
     "text": [
      "Energy Efficiency Data Set from UCI Machine Learning\n",
      "\n",
      "       X1     X2     X3      X4   X5  X6   X7  X8\n",
      "1    0.98  514.5  294.0  110.25  7.0   3  0.0   0\n",
      "2    0.98  514.5  294.0  110.25  7.0   4  0.0   0\n",
      "3    0.98  514.5  294.0  110.25  7.0   5  0.0   0\n",
      "4    0.90  563.5  318.5  122.50  7.0   2  0.0   0\n",
      "5    0.90  563.5  318.5  122.50  7.0   3  0.0   0\n",
      "..    ...    ...    ...     ...  ...  ..  ...  ..\n",
      "763  0.64  784.0  343.0  220.50  3.5   5  0.4   5\n",
      "764  0.62  808.5  367.5  220.50  3.5   2  0.4   5\n",
      "765  0.62  808.5  367.5  220.50  3.5   3  0.4   5\n",
      "766  0.62  808.5  367.5  220.50  3.5   4  0.4   5\n",
      "767  0.62  808.5  367.5  220.50  3.5   5  0.4   5\n",
      "\n",
      "[767 rows x 8 columns]\n",
      "Actual Value\n",
      "       Y1     Y2\n",
      "0  15.55  21.33\n",
      "\n",
      "x-x-x-x-x-x-x-x-x-x-x-x-x-x-x-x-x-x-x-x-x-x-x-x-x-x-x\n",
      "\n"
     ]
    }
   ],
   "source": [
    "## Energy Efficiency Data Set from UCI Machine Learning\n",
    "\n",
    "print(\"Energy Efficiency Data Set from UCI Machine Learning\\n\")\n",
    "df = pd.read_excel('ENB2012_data.xlsx')\n",
    "\n",
    "## Predict the first three samples of the dataset\n",
    "\n",
    "X = df.iloc[1:,:-2]\n",
    "y = df.iloc[1:,-2:]\n",
    "Actual_y = df.iloc[:1,-2:]\n",
    "test = df.iloc[:1,:-2]\n",
    "\n",
    "print(X)\n",
    "\n",
    "initial_guess = np.array([[12, 20]])\n",
    "batch_size = 10\n",
    "learning_rate = 500\n",
    "tolerance = 1e-20\n",
    "\n",
    "print(\"Actual Value\\n\", Actual_y)\n",
    "print(\"\\nx-x-x-x-x-x-x-x-x-x-x-x-x-x-x-x-x-x-x-x-x-x-x-x-x-x-x\\n\")\n",
    "\n",
    "# print(mini_batch_gd(X, y, initial_guess, batch_size, learning_rate, tolerance))"
   ]
  },
  {
   "cell_type": "code",
   "execution_count": null,
   "metadata": {},
   "outputs": [],
   "source": []
  }
 ],
 "metadata": {
  "kernelspec": {
   "display_name": "Python 3",
   "language": "python",
   "name": "python3"
  },
  "language_info": {
   "codemirror_mode": {
    "name": "ipython",
    "version": 3
   },
   "file_extension": ".py",
   "mimetype": "text/x-python",
   "name": "python",
   "nbconvert_exporter": "python",
   "pygments_lexer": "ipython3",
   "version": "3.7.6"
  }
 },
 "nbformat": 4,
 "nbformat_minor": 4
}
