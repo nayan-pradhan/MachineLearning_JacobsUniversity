{
 "cells": [
  {
   "cell_type": "markdown",
   "metadata": {},
   "source": [
    "# Assignment Sheet 5\n",
    "## Done by Nayan Man Singh Pradhan"
   ]
  },
  {
   "cell_type": "code",
   "execution_count": 16,
   "metadata": {},
   "outputs": [],
   "source": [
    "import numpy as np\n",
    "import pandas as pd\n",
    "import matplotlib.pyplot as plt\n",
    "from mpl_toolkits.mplot3d import Axes3D\n",
    "import scipy.linalg as linalg\n",
    "from sklearn import linear_model"
   ]
  },
  {
   "cell_type": "code",
   "execution_count": 335,
   "metadata": {},
   "outputs": [],
   "source": [
    "## y = mx + c"
   ]
  },
  {
   "cell_type": "code",
   "execution_count": 113,
   "metadata": {},
   "outputs": [],
   "source": [
    "# ## Covariance\n",
    "# def get_cov(x, y):\n",
    "#     mean_x = np.mean(x)\n",
    "#     mean_y = np.mean(y)\n",
    "#     covar = 0.0\n",
    "#     for i in range(len(x)):\n",
    "#         covar += (x[i] - mean_x) * (y[i] - mean_y)\n",
    "#     return covar\n",
    "\n",
    "# ## Variance\n",
    "# def get_var(a):\n",
    "#     mean = np.mean(a)\n",
    "#     return sum([(x - mean)**2 for x in a])\n",
    "\n",
    "# ## For coefficients m and c\n",
    "# def get_coeff(data):\n",
    "#     x = [row[0] for row in data]\n",
    "#     y = [row[1] for row in data]\n",
    "# #     print (\"x=\",x)\n",
    "# #     print (\"y=\",y)\n",
    "#     x_mean, y_mean = np.mean(x), np.mean(y)\n",
    "# #     print(x_mean)\n",
    "#     m = get_cov(x, y)/ get_var(x)\n",
    "#     c = y_mean - m * x_mean\n",
    "#     return [m, c]\n",
    "\n",
    "# ## Linear Regression\n",
    "# def linear_reg(train, test):\n",
    "# #     output_pred = []\n",
    "#     m, c = get_coeff(train)\n",
    "#     print (m, c)\n",
    "# #     for t in test:\n",
    "# #         y_pred = m * t[0] + c\n",
    "# #         output_pred.append(y_pred)\n",
    "# #     return output_pred\n",
    "#     return m*test + c"
   ]
  },
  {
   "cell_type": "code",
   "execution_count": 114,
   "metadata": {},
   "outputs": [],
   "source": [
    "# test_X = ([1,2,4,4])\n",
    "# test_Y = ([4,6,7,8])\n",
    "\n",
    "# mean_x = get_mean(test_X)\n",
    "# mean_y = get_mean(test_Y)\n",
    "\n",
    "# print(get_var(test_X))\n",
    "\n",
    "# dataset = [[1, 1], [2, 3], [4, 3], [3, 2], [5, 5]]\n",
    "# print(linear_reg(dataset))"
   ]
  },
  {
   "cell_type": "code",
   "execution_count": 115,
   "metadata": {},
   "outputs": [
    {
     "name": "stdout",
     "output_type": "stream",
     "text": [
      "[ 0.44976077 -0.00600858] [0.0454067  0.82021459]\n",
      "[[0.0454067  0.79618026]]\n"
     ]
    }
   ],
   "source": [
    "# X = np.array([[0, 0], [1,2], [2,4], [3,0], [4,1]])\n",
    "# y = np.array([0, 0.3, 0.75, 1, 2])\n",
    "\n",
    "# ziped = list(zip(X,y))\n",
    "\n",
    "# # coef = get_coeff(ziped)\n",
    "# # print(coef)\n",
    "\n",
    "# # test = (np.array([[-1, -1, 5, 5], [-1, 5, -1, 5]]).T).reshape((2,2))\n",
    "# # test = (np.array([[-1, -1, 5, 5], [-1, 5, -1, 5]]).T).reshape((2, 2))\n",
    "# test = np.array([[0,4]])\n",
    "\n",
    "# predictor = linear_reg(ziped, test)\n",
    "\n",
    "# print(predictor)"
   ]
  },
  {
   "cell_type": "code",
   "execution_count": 284,
   "metadata": {},
   "outputs": [],
   "source": [
    "# fig = plt.figure(figsize=(6, 5))\n",
    "# ax = Axes3D(fig, elev=45, azim=-120)\n",
    "# ax.scatter(X[:, 0], X[:, 1], y, c='r', marker='o', label='training set')\n",
    "# # ax.plot_surface(np.array([[-1, -1], [5, 5]]), np.array([[-1, 5], [-1, 5]]), lin_regr.predict(np.array([[-1, -1, 5, 5], [-1, 5, -1, 5]]).T).reshape((2, 2)), alpha=.5, label='linear regression predictor')\n",
    "# # ax.plot_surface(X[:, 0], X[:, 1], predictor)\n",
    "# ax.set_xlabel('input X_1')\n",
    "# ax.set_ylabel('input X_2')\n",
    "# ax.set_zlabel('output Y')\n",
    "# plt.title(\"Simplistic test of linear regression on 2d input\")\n",
    "# plt.show()\n",
    "\n",
    "\n",
    "\n",
    "\n",
    "#     ## z\n",
    "#     temp_1 = np.ones((1,1))\n",
    "#     z = np.vstack((temp_1, B_hat))\n",
    "#     print(\"z=\", z)\n",
    "    \n",
    "#     ## y_pred <-- zT B_hat\n",
    "#     print(z.T.shape)\n",
    "#     print(B_hat.shape)\n",
    "    \n",
    "#     y_pred = np.dot(z.T, B_hat)\n",
    "#     print(y_pred)"
   ]
  },
  {
   "cell_type": "code",
   "execution_count": null,
   "metadata": {},
   "outputs": [],
   "source": []
  },
  {
   "cell_type": "code",
   "execution_count": 63,
   "metadata": {},
   "outputs": [],
   "source": [
    "def Cholesky_solver(M, b):\n",
    "    c, low = linalg.cho_factor(M)\n",
    "    return (linalg.cho_solve((c, low), b))\n",
    "\n",
    "def lin_reg(train, test):\n",
    "    x = [i[0] for i in train]\n",
    "    y = [i[1] for i in train]\n",
    "    \n",
    "    ## Build matrix X\n",
    "    x = np.array(x)\n",
    "    y = np.array(y)\n",
    "    \n",
    "    x_of1 = np.ones((x.shape[0], 1))\n",
    "#     print(x_of1)\n",
    "#     print(x)\n",
    "    X = np.hstack((x_of1, x))\n",
    "#     print(\"X=\", X)\n",
    "    \n",
    "    ## b <-- X.T y\n",
    "    b = np.dot(X.T, y)\n",
    "\n",
    "#     print(\"b=\", b)\n",
    "    \n",
    "    ## A <-- X.T X\n",
    "    A = np.dot(X.T, X)\n",
    "#     print(\"A=\", A)\n",
    "    \n",
    "    ## Solve AB = b using Cholesky factorization\n",
    "    B_hat = Cholesky_solver(A, b)\n",
    "#     B_hat = B_hat[np.newaxis, :].T\n",
    "#     print(\"B_hat=\", B_hat)\n",
    "    \n",
    "    return B_hat"
   ]
  },
  {
   "cell_type": "code",
   "execution_count": 64,
   "metadata": {},
   "outputs": [
    {
     "name": "stdout",
     "output_type": "stream",
     "text": [
      "Example 4.1\n",
      "\n",
      "Result from self implementation:\n",
      "Intercept:  0.6666666666666665\n",
      "Coefficient:  [0.66666667 1.        ]\n",
      "-x-x-x-x-x-x-x-x-x-x-x-x-x-x-x-x-x-x-x-x-x-x-x-x-x-\n",
      "Result from library:\n",
      "Intercept:  0.6666666666666674\n",
      "Coefficient:  [0.66666667 1.        ]\n"
     ]
    }
   ],
   "source": [
    "## Example 4.1\n",
    "print(\"Example 4.1\\n\")\n",
    "X = np.array([[1,0],[1,1],[2,1],[4,2]])\n",
    "y = np.array([1,2,4,5])\n",
    "\n",
    "train = list(zip(X, y))\n",
    "test = np.array([[0,4]])\n",
    "\n",
    "## Predict using self implemented function\n",
    "predictor_function = lin_reg(train, test)\n",
    "print(\"Result from self implementation:\")\n",
    "print(\"Intercept: \", predictor_function[0])\n",
    "print(\"Coefficient: \", predictor_function[1:])\n",
    "\n",
    "print(\"-x-x-x-x-x-x-x-x-x-x-x-x-x-x-x-x-x-x-x-x-x-x-x-x-x-\")\n",
    "\n",
    "## Library to check\n",
    "lin_reg_library = linear_model.LinearRegression()\n",
    "lin_reg_library.fit(X, y)\n",
    "lib_pred = lin_reg_library.predict(test)\n",
    "print(\"Result from library:\")\n",
    "print(\"Intercept: \", lin_reg_library.intercept_)\n",
    "print(\"Coefficient: \", lin_reg_library.coef_)"
   ]
  },
  {
   "cell_type": "code",
   "execution_count": 66,
   "metadata": {},
   "outputs": [
    {
     "name": "stdout",
     "output_type": "stream",
     "text": [
      "Example 4.1\n",
      "\n",
      "Result from self implementation:\n",
      "Intercept:  -0.1300000000000005\n",
      "Coefficient:  [0.47]\n",
      "-x-x-x-x-x-x-x-x-x-x-x-x-x-x-x-x-x-x-x-x-x-x-x-x-x-\n"
     ]
    },
    {
     "ename": "ValueError",
     "evalue": "Expected 2D array, got 1D array instead:\narray=[3].\nReshape your data either using array.reshape(-1, 1) if your data has a single feature or array.reshape(1, -1) if it contains a single sample.",
     "output_type": "error",
     "traceback": [
      "\u001b[0;31m---------------------------------------------------------------------------\u001b[0m",
      "\u001b[0;31mValueError\u001b[0m                                Traceback (most recent call last)",
      "\u001b[0;32m<ipython-input-66-e5e47742cbfe>\u001b[0m in \u001b[0;36m<module>\u001b[0;34m()\u001b[0m\n\u001b[1;32m     18\u001b[0m \u001b[0mlin_reg_library\u001b[0m \u001b[0;34m=\u001b[0m \u001b[0mlinear_model\u001b[0m\u001b[0;34m.\u001b[0m\u001b[0mLinearRegression\u001b[0m\u001b[0;34m(\u001b[0m\u001b[0;34m)\u001b[0m\u001b[0;34m\u001b[0m\u001b[0;34m\u001b[0m\u001b[0m\n\u001b[1;32m     19\u001b[0m \u001b[0mlin_reg_library\u001b[0m\u001b[0;34m.\u001b[0m\u001b[0mfit\u001b[0m\u001b[0;34m(\u001b[0m\u001b[0mX\u001b[0m\u001b[0;34m,\u001b[0m \u001b[0my\u001b[0m\u001b[0;34m)\u001b[0m\u001b[0;34m\u001b[0m\u001b[0;34m\u001b[0m\u001b[0m\n\u001b[0;32m---> 20\u001b[0;31m \u001b[0mlib_pred\u001b[0m \u001b[0;34m=\u001b[0m \u001b[0mlin_reg_library\u001b[0m\u001b[0;34m.\u001b[0m\u001b[0mpredict\u001b[0m\u001b[0;34m(\u001b[0m\u001b[0mtest\u001b[0m\u001b[0;34m)\u001b[0m\u001b[0;34m\u001b[0m\u001b[0;34m\u001b[0m\u001b[0m\n\u001b[0m\u001b[1;32m     21\u001b[0m \u001b[0mprint\u001b[0m\u001b[0;34m(\u001b[0m\u001b[0;34m\"Result from library:\"\u001b[0m\u001b[0;34m)\u001b[0m\u001b[0;34m\u001b[0m\u001b[0;34m\u001b[0m\u001b[0m\n\u001b[1;32m     22\u001b[0m \u001b[0mprint\u001b[0m\u001b[0;34m(\u001b[0m\u001b[0;34m\"Intercept: \"\u001b[0m\u001b[0;34m,\u001b[0m \u001b[0mlin_reg_library\u001b[0m\u001b[0;34m.\u001b[0m\u001b[0mintercept_\u001b[0m\u001b[0;34m)\u001b[0m\u001b[0;34m\u001b[0m\u001b[0;34m\u001b[0m\u001b[0m\n",
      "\u001b[0;32m~/opt/anaconda3/lib/python3.7/site-packages/sklearn/linear_model/_base.py\u001b[0m in \u001b[0;36mpredict\u001b[0;34m(self, X)\u001b[0m\n\u001b[1;32m    223\u001b[0m             \u001b[0mReturns\u001b[0m \u001b[0mpredicted\u001b[0m \u001b[0mvalues\u001b[0m\u001b[0;34m.\u001b[0m\u001b[0;34m\u001b[0m\u001b[0;34m\u001b[0m\u001b[0m\n\u001b[1;32m    224\u001b[0m         \"\"\"\n\u001b[0;32m--> 225\u001b[0;31m         \u001b[0;32mreturn\u001b[0m \u001b[0mself\u001b[0m\u001b[0;34m.\u001b[0m\u001b[0m_decision_function\u001b[0m\u001b[0;34m(\u001b[0m\u001b[0mX\u001b[0m\u001b[0;34m)\u001b[0m\u001b[0;34m\u001b[0m\u001b[0;34m\u001b[0m\u001b[0m\n\u001b[0m\u001b[1;32m    226\u001b[0m \u001b[0;34m\u001b[0m\u001b[0m\n\u001b[1;32m    227\u001b[0m     \u001b[0m_preprocess_data\u001b[0m \u001b[0;34m=\u001b[0m \u001b[0mstaticmethod\u001b[0m\u001b[0;34m(\u001b[0m\u001b[0m_preprocess_data\u001b[0m\u001b[0;34m)\u001b[0m\u001b[0;34m\u001b[0m\u001b[0;34m\u001b[0m\u001b[0m\n",
      "\u001b[0;32m~/opt/anaconda3/lib/python3.7/site-packages/sklearn/linear_model/_base.py\u001b[0m in \u001b[0;36m_decision_function\u001b[0;34m(self, X)\u001b[0m\n\u001b[1;32m    205\u001b[0m         \u001b[0mcheck_is_fitted\u001b[0m\u001b[0;34m(\u001b[0m\u001b[0mself\u001b[0m\u001b[0;34m)\u001b[0m\u001b[0;34m\u001b[0m\u001b[0;34m\u001b[0m\u001b[0m\n\u001b[1;32m    206\u001b[0m \u001b[0;34m\u001b[0m\u001b[0m\n\u001b[0;32m--> 207\u001b[0;31m         \u001b[0mX\u001b[0m \u001b[0;34m=\u001b[0m \u001b[0mcheck_array\u001b[0m\u001b[0;34m(\u001b[0m\u001b[0mX\u001b[0m\u001b[0;34m,\u001b[0m \u001b[0maccept_sparse\u001b[0m\u001b[0;34m=\u001b[0m\u001b[0;34m[\u001b[0m\u001b[0;34m'csr'\u001b[0m\u001b[0;34m,\u001b[0m \u001b[0;34m'csc'\u001b[0m\u001b[0;34m,\u001b[0m \u001b[0;34m'coo'\u001b[0m\u001b[0;34m]\u001b[0m\u001b[0;34m)\u001b[0m\u001b[0;34m\u001b[0m\u001b[0;34m\u001b[0m\u001b[0m\n\u001b[0m\u001b[1;32m    208\u001b[0m         return safe_sparse_dot(X, self.coef_.T,\n\u001b[1;32m    209\u001b[0m                                dense_output=True) + self.intercept_\n",
      "\u001b[0;32m~/opt/anaconda3/lib/python3.7/site-packages/sklearn/utils/validation.py\u001b[0m in \u001b[0;36mcheck_array\u001b[0;34m(array, accept_sparse, accept_large_sparse, dtype, order, copy, force_all_finite, ensure_2d, allow_nd, ensure_min_samples, ensure_min_features, warn_on_dtype, estimator)\u001b[0m\n\u001b[1;32m    554\u001b[0m                     \u001b[0;34m\"Reshape your data either using array.reshape(-1, 1) if \"\u001b[0m\u001b[0;34m\u001b[0m\u001b[0;34m\u001b[0m\u001b[0m\n\u001b[1;32m    555\u001b[0m                     \u001b[0;34m\"your data has a single feature or array.reshape(1, -1) \"\u001b[0m\u001b[0;34m\u001b[0m\u001b[0;34m\u001b[0m\u001b[0m\n\u001b[0;32m--> 556\u001b[0;31m                     \"if it contains a single sample.\".format(array))\n\u001b[0m\u001b[1;32m    557\u001b[0m \u001b[0;34m\u001b[0m\u001b[0m\n\u001b[1;32m    558\u001b[0m         \u001b[0;31m# in the future np.flexible dtypes will be handled like object dtypes\u001b[0m\u001b[0;34m\u001b[0m\u001b[0;34m\u001b[0m\u001b[0;34m\u001b[0m\u001b[0m\n",
      "\u001b[0;31mValueError\u001b[0m: Expected 2D array, got 1D array instead:\narray=[3].\nReshape your data either using array.reshape(-1, 1) if your data has a single feature or array.reshape(1, -1) if it contains a single sample."
     ]
    }
   ],
   "source": [
    "## Example 4.2\n",
    "print(\"Example 4.1\\n\")\n",
    "X = [[0], [1], [2], [3], [4]]\n",
    "y = [0, 0.3, 0.75, 1, 2]\n",
    "\n",
    "train = list(zip(X, y))\n",
    "test = np.array([3])\n",
    "\n",
    "## Predict using self implemented function\n",
    "predictor_function = lin_reg(train, test)\n",
    "print(\"Result from self implementation:\")\n",
    "print(\"Intercept: \", predictor_function[0])\n",
    "print(\"Coefficient: \", predictor_function[1:])\n",
    "\n",
    "print(\"-x-x-x-x-x-x-x-x-x-x-x-x-x-x-x-x-x-x-x-x-x-x-x-x-x-\")\n",
    "\n",
    "## Library to check\n",
    "lin_reg_library = linear_model.LinearRegression()\n",
    "lin_reg_library.fit(X, y)\n",
    "lib_pred = lin_reg_library.predict(test)\n",
    "print(\"Result from library:\")\n",
    "print(\"Intercept: \", lin_reg_library.intercept_)\n",
    "print(\"Coefficient: \", lin_reg_library.coef_)"
   ]
  },
  {
   "cell_type": "code",
   "execution_count": 61,
   "metadata": {},
   "outputs": [
    {
     "name": "stdout",
     "output_type": "stream",
     "text": [
      "[[1.]\n",
      " [1.]\n",
      " [1.]\n",
      " [1.]\n",
      " [1.]]\n",
      "[[0 0]\n",
      " [1 2]\n",
      " [2 4]\n",
      " [3 0]\n",
      " [4 1]]\n",
      "Result from self implementation:\n",
      "Intercept:  -0.12125000000000065\n",
      "Coefficient:  [ 0.47    -0.00625]\n",
      "-x-x-x-x-x-x-x-x-x-x-x-x-x-x-x-x-x-x-x-x-x-x-x-x-x-\n",
      "Result from library:\n",
      "Intercept:  -0.12125000000000008\n",
      "Coefficient:  [ 0.47    -0.00625]\n"
     ]
    }
   ],
   "source": [
    "\n",
    "\n",
    "X = np.array([[0, 0], [1,2], [2,4], [3,0], [4,1]])\n",
    "y = np.array([0, 0.3, 0.75, 1, 2])\n",
    "\n",
    "train = list(zip(X, y))\n",
    "test = (np.array([[-1, -1, 5, 5], [-1, 5, -1, 5]]).T)\n",
    "\n",
    "## Predict using self implemented function\n",
    "predictor_function = lin_reg(train, test)\n",
    "print(\"Result from self implementation:\")\n",
    "print(\"Intercept: \", predictor_function[0])\n",
    "print(\"Coefficient: \", predictor_function[1:])\n",
    "\n",
    "print(\"-x-x-x-x-x-x-x-x-x-x-x-x-x-x-x-x-x-x-x-x-x-x-x-x-x-\")\n",
    "\n",
    "## Library to check\n",
    "lin_reg_library = linear_model.LinearRegression()\n",
    "lin_reg_library.fit(X, y)\n",
    "lib_pred = lin_reg_library.predict(test)\n",
    "print(\"Result from library:\")\n",
    "print(\"Intercept: \", lin_reg_library.intercept_)\n",
    "print(\"Coefficient: \", lin_reg_library.coef_)"
   ]
  },
  {
   "cell_type": "code",
   "execution_count": 14,
   "metadata": {},
   "outputs": [
    {
     "data": {
      "text/plain": [
       "'1X_0 + 2X_1 + 4X_2'"
      ]
     },
     "execution_count": 14,
     "metadata": {},
     "output_type": "execute_result"
    }
   ],
   "source": [
    "def get_function_of_line(a):\n",
    "    length = len(a)\n",
    "    fn = \"\"\n",
    "    for i in range(0, len(a)):\n",
    "        if (i==len(a)-1):\n",
    "            fn = fn + str(a[i]) + \"X_\" + str(i)\n",
    "        else:\n",
    "            fn = fn + str(a[i]) + \"X_\" + str(i) + ' + '\n",
    "    return (fn)\n",
    "\n",
    "tes = np.array([1, 2, 4])\n",
    "get_function_of_line(tes)"
   ]
  },
  {
   "cell_type": "code",
   "execution_count": null,
   "metadata": {},
   "outputs": [],
   "source": []
  }
 ],
 "metadata": {
  "kernelspec": {
   "display_name": "Python 3",
   "language": "python",
   "name": "python3"
  },
  "language_info": {
   "codemirror_mode": {
    "name": "ipython",
    "version": 3
   },
   "file_extension": ".py",
   "mimetype": "text/x-python",
   "name": "python",
   "nbconvert_exporter": "python",
   "pygments_lexer": "ipython3",
   "version": "3.7.6"
  }
 },
 "nbformat": 4,
 "nbformat_minor": 4
}
