{
 "cells": [
  {
   "cell_type": "markdown",
   "metadata": {},
   "source": [
    "# Assignment Sheet 5\n",
    "## Done by Nayan Man Singh Pradhan"
   ]
  },
  {
   "cell_type": "code",
   "execution_count": 371,
   "metadata": {},
   "outputs": [],
   "source": [
    "import numpy as np\n",
    "import pandas as pd\n",
    "import matplotlib.pyplot as plt\n",
    "from mpl_toolkits.mplot3d import Axes3D\n",
    "import scipy.linalg as linalg\n",
    "from sklearn import linear_model"
   ]
  },
  {
   "cell_type": "code",
   "execution_count": 335,
   "metadata": {},
   "outputs": [],
   "source": [
    "## y = mx + c"
   ]
  },
  {
   "cell_type": "code",
   "execution_count": 113,
   "metadata": {},
   "outputs": [],
   "source": [
    "# ## Covariance\n",
    "# def get_cov(x, y):\n",
    "#     mean_x = np.mean(x)\n",
    "#     mean_y = np.mean(y)\n",
    "#     covar = 0.0\n",
    "#     for i in range(len(x)):\n",
    "#         covar += (x[i] - mean_x) * (y[i] - mean_y)\n",
    "#     return covar\n",
    "\n",
    "# ## Variance\n",
    "# def get_var(a):\n",
    "#     mean = np.mean(a)\n",
    "#     return sum([(x - mean)**2 for x in a])\n",
    "\n",
    "# ## For coefficients m and c\n",
    "# def get_coeff(data):\n",
    "#     x = [row[0] for row in data]\n",
    "#     y = [row[1] for row in data]\n",
    "# #     print (\"x=\",x)\n",
    "# #     print (\"y=\",y)\n",
    "#     x_mean, y_mean = np.mean(x), np.mean(y)\n",
    "# #     print(x_mean)\n",
    "#     m = get_cov(x, y)/ get_var(x)\n",
    "#     c = y_mean - m * x_mean\n",
    "#     return [m, c]\n",
    "\n",
    "# ## Linear Regression\n",
    "# def linear_reg(train, test):\n",
    "# #     output_pred = []\n",
    "#     m, c = get_coeff(train)\n",
    "#     print (m, c)\n",
    "# #     for t in test:\n",
    "# #         y_pred = m * t[0] + c\n",
    "# #         output_pred.append(y_pred)\n",
    "# #     return output_pred\n",
    "#     return m*test + c"
   ]
  },
  {
   "cell_type": "code",
   "execution_count": 114,
   "metadata": {},
   "outputs": [],
   "source": [
    "# test_X = ([1,2,4,4])\n",
    "# test_Y = ([4,6,7,8])\n",
    "\n",
    "# mean_x = get_mean(test_X)\n",
    "# mean_y = get_mean(test_Y)\n",
    "\n",
    "# print(get_var(test_X))\n",
    "\n",
    "# dataset = [[1, 1], [2, 3], [4, 3], [3, 2], [5, 5]]\n",
    "# print(linear_reg(dataset))"
   ]
  },
  {
   "cell_type": "code",
   "execution_count": 115,
   "metadata": {},
   "outputs": [
    {
     "name": "stdout",
     "output_type": "stream",
     "text": [
      "[ 0.44976077 -0.00600858] [0.0454067  0.82021459]\n",
      "[[0.0454067  0.79618026]]\n"
     ]
    }
   ],
   "source": [
    "# X = np.array([[0, 0], [1,2], [2,4], [3,0], [4,1]])\n",
    "# y = np.array([0, 0.3, 0.75, 1, 2])\n",
    "\n",
    "# ziped = list(zip(X,y))\n",
    "\n",
    "# # coef = get_coeff(ziped)\n",
    "# # print(coef)\n",
    "\n",
    "# # test = (np.array([[-1, -1, 5, 5], [-1, 5, -1, 5]]).T).reshape((2,2))\n",
    "# # test = (np.array([[-1, -1, 5, 5], [-1, 5, -1, 5]]).T).reshape((2, 2))\n",
    "# test = np.array([[0,4]])\n",
    "\n",
    "# predictor = linear_reg(ziped, test)\n",
    "\n",
    "# print(predictor)"
   ]
  },
  {
   "cell_type": "code",
   "execution_count": 284,
   "metadata": {},
   "outputs": [],
   "source": [
    "# fig = plt.figure(figsize=(6, 5))\n",
    "# ax = Axes3D(fig, elev=45, azim=-120)\n",
    "# ax.scatter(X[:, 0], X[:, 1], y, c='r', marker='o', label='training set')\n",
    "# # ax.plot_surface(np.array([[-1, -1], [5, 5]]), np.array([[-1, 5], [-1, 5]]), lin_regr.predict(np.array([[-1, -1, 5, 5], [-1, 5, -1, 5]]).T).reshape((2, 2)), alpha=.5, label='linear regression predictor')\n",
    "# # ax.plot_surface(X[:, 0], X[:, 1], predictor)\n",
    "# ax.set_xlabel('input X_1')\n",
    "# ax.set_ylabel('input X_2')\n",
    "# ax.set_zlabel('output Y')\n",
    "# plt.title(\"Simplistic test of linear regression on 2d input\")\n",
    "# plt.show()\n",
    "\n",
    "\n",
    "\n",
    "\n",
    "#     ## z\n",
    "#     temp_1 = np.ones((1,1))\n",
    "#     z = np.vstack((temp_1, B_hat))\n",
    "#     print(\"z=\", z)\n",
    "    \n",
    "#     ## y_pred <-- zT B_hat\n",
    "#     print(z.T.shape)\n",
    "#     print(B_hat.shape)\n",
    "    \n",
    "#     y_pred = np.dot(z.T, B_hat)\n",
    "#     print(y_pred)"
   ]
  },
  {
   "cell_type": "code",
   "execution_count": null,
   "metadata": {},
   "outputs": [],
   "source": []
  },
  {
   "cell_type": "code",
   "execution_count": 375,
   "metadata": {},
   "outputs": [],
   "source": [
    "def Cholesky_solver(M, b):\n",
    "    c, low = linalg.cho_factor(M)\n",
    "    return (linalg.cho_solve((c, low), b))\n",
    "\n",
    "def lin_reg(train, test):\n",
    "    x = [i[0] for i in train]\n",
    "    y = [i[1] for i in train]\n",
    "    \n",
    "    ## Build matrix X\n",
    "    x = np.array(x)\n",
    "    y = np.array(y)\n",
    "    \n",
    "    x_of1 = np.ones((x.shape[0], 1))\n",
    "    print(x_of1)\n",
    "    print(x)\n",
    "    X = np.hstack((x_of1, x))\n",
    "#     print(\"X=\", X)\n",
    "    \n",
    "    ## b <-- X.T y\n",
    "    b = np.dot(X.T, y)\n",
    "\n",
    "#     print(\"b=\", b)\n",
    "    \n",
    "    ## A <-- X.T X\n",
    "    A = np.dot(X.T, X)\n",
    "#     print(\"A=\", A)\n",
    "    \n",
    "    ## Solve AB = b using Cholesky factorization\n",
    "    B_hat = Cholesky_solver(A, b)\n",
    "#     B_hat = B_hat[np.newaxis, :].T\n",
    "#     print(\"B_hat=\", B_hat)\n",
    "    \n",
    "    return B_hat"
   ]
  },
  {
   "cell_type": "code",
   "execution_count": 350,
   "metadata": {},
   "outputs": [
    {
     "name": "stdout",
     "output_type": "stream",
     "text": [
      "[[1.]\n",
      " [1.]\n",
      " [1.]\n",
      " [1.]]\n",
      "[[1 0]\n",
      " [1 1]\n",
      " [2 1]\n",
      " [4 2]]\n",
      "Prediction of coefficients by self implementation: [0.66666667 0.66666667 1.        ]\n",
      "Prediction of coefficients by library: 0.6666666666666674 [0.66666667 1.        ]\n"
     ]
    }
   ],
   "source": [
    "## Example 4.1\n",
    "X = np.array([[1,0],[1,1],[2,1],[4,2]])\n",
    "y = np.array([1,2,4,5])\n",
    "\n",
    "train = list(zip(X, y))\n",
    "test = np.array([[0,4]])\n",
    "\n",
    "predictor_function = lin_reg(train, test)\n",
    "print(\"Prediction of coefficients by self implementation:\", predictor_function)\n",
    "\n",
    "\n",
    "## Library to check\n",
    "lin_reg_library = linear_model.LinearRegression()\n",
    "lin_reg_library.fit(X, y)\n",
    "lib_pred = lin_reg_library.predict(test)\n",
    "print('Prediction of coefficients by library:',lin_reg_library.intercept_, lin_reg_library.coef_)"
   ]
  },
  {
   "cell_type": "code",
   "execution_count": 352,
   "metadata": {},
   "outputs": [
    {
     "name": "stdout",
     "output_type": "stream",
     "text": [
      "[[1.]\n",
      " [1.]\n",
      " [1.]\n",
      " [1.]\n",
      " [1.]]\n",
      "[0 1 2 3 4]\n"
     ]
    },
    {
     "ename": "ValueError",
     "evalue": "all the input arrays must have same number of dimensions, but the array at index 0 has 2 dimension(s) and the array at index 1 has 1 dimension(s)",
     "output_type": "error",
     "traceback": [
      "\u001b[0;31m---------------------------------------------------------------------------\u001b[0m",
      "\u001b[0;31mValueError\u001b[0m                                Traceback (most recent call last)",
      "\u001b[0;32m<ipython-input-352-a72c8f1ff927>\u001b[0m in \u001b[0;36m<module>\u001b[0;34m()\u001b[0m\n\u001b[1;32m      7\u001b[0m \u001b[0mtest\u001b[0m \u001b[0;34m=\u001b[0m \u001b[0mnp\u001b[0m\u001b[0;34m.\u001b[0m\u001b[0marray\u001b[0m\u001b[0;34m(\u001b[0m\u001b[0;34m[\u001b[0m\u001b[0;36m3\u001b[0m\u001b[0;34m]\u001b[0m\u001b[0;34m)\u001b[0m\u001b[0;34m\u001b[0m\u001b[0;34m\u001b[0m\u001b[0m\n\u001b[1;32m      8\u001b[0m \u001b[0;34m\u001b[0m\u001b[0m\n\u001b[0;32m----> 9\u001b[0;31m \u001b[0mlin_reg_predictor\u001b[0m \u001b[0;34m=\u001b[0m \u001b[0mlin_reg\u001b[0m\u001b[0;34m(\u001b[0m\u001b[0mtrain\u001b[0m\u001b[0;34m,\u001b[0m \u001b[0mtest\u001b[0m\u001b[0;34m)\u001b[0m\u001b[0;34m\u001b[0m\u001b[0;34m\u001b[0m\u001b[0m\n\u001b[0m\u001b[1;32m     10\u001b[0m \u001b[0mprint\u001b[0m\u001b[0;34m(\u001b[0m\u001b[0mlin_reg_predictor\u001b[0m\u001b[0;34m)\u001b[0m\u001b[0;34m\u001b[0m\u001b[0;34m\u001b[0m\u001b[0m\n",
      "\u001b[0;32m<ipython-input-340-57914a6597b1>\u001b[0m in \u001b[0;36mlin_reg\u001b[0;34m(train, test)\u001b[0m\n\u001b[1;32m     15\u001b[0m     \u001b[0mprint\u001b[0m\u001b[0;34m(\u001b[0m\u001b[0mx_of1\u001b[0m\u001b[0;34m)\u001b[0m\u001b[0;34m\u001b[0m\u001b[0;34m\u001b[0m\u001b[0m\n\u001b[1;32m     16\u001b[0m     \u001b[0mprint\u001b[0m\u001b[0;34m(\u001b[0m\u001b[0mx\u001b[0m\u001b[0;34m)\u001b[0m\u001b[0;34m\u001b[0m\u001b[0;34m\u001b[0m\u001b[0m\n\u001b[0;32m---> 17\u001b[0;31m     \u001b[0mX\u001b[0m \u001b[0;34m=\u001b[0m \u001b[0mnp\u001b[0m\u001b[0;34m.\u001b[0m\u001b[0mhstack\u001b[0m\u001b[0;34m(\u001b[0m\u001b[0;34m(\u001b[0m\u001b[0mx_of1\u001b[0m\u001b[0;34m,\u001b[0m \u001b[0mx\u001b[0m\u001b[0;34m)\u001b[0m\u001b[0;34m)\u001b[0m\u001b[0;34m\u001b[0m\u001b[0;34m\u001b[0m\u001b[0m\n\u001b[0m\u001b[1;32m     18\u001b[0m \u001b[0;31m#     print(\"X=\", X)\u001b[0m\u001b[0;34m\u001b[0m\u001b[0;34m\u001b[0m\u001b[0;34m\u001b[0m\u001b[0m\n\u001b[1;32m     19\u001b[0m \u001b[0;34m\u001b[0m\u001b[0m\n",
      "\u001b[0;32m<__array_function__ internals>\u001b[0m in \u001b[0;36mhstack\u001b[0;34m(*args, **kwargs)\u001b[0m\n",
      "\u001b[0;32m~/opt/anaconda3/lib/python3.7/site-packages/numpy/core/shape_base.py\u001b[0m in \u001b[0;36mhstack\u001b[0;34m(tup)\u001b[0m\n\u001b[1;32m    343\u001b[0m         \u001b[0;32mreturn\u001b[0m \u001b[0m_nx\u001b[0m\u001b[0;34m.\u001b[0m\u001b[0mconcatenate\u001b[0m\u001b[0;34m(\u001b[0m\u001b[0marrs\u001b[0m\u001b[0;34m,\u001b[0m \u001b[0;36m0\u001b[0m\u001b[0;34m)\u001b[0m\u001b[0;34m\u001b[0m\u001b[0;34m\u001b[0m\u001b[0m\n\u001b[1;32m    344\u001b[0m     \u001b[0;32melse\u001b[0m\u001b[0;34m:\u001b[0m\u001b[0;34m\u001b[0m\u001b[0;34m\u001b[0m\u001b[0m\n\u001b[0;32m--> 345\u001b[0;31m         \u001b[0;32mreturn\u001b[0m \u001b[0m_nx\u001b[0m\u001b[0;34m.\u001b[0m\u001b[0mconcatenate\u001b[0m\u001b[0;34m(\u001b[0m\u001b[0marrs\u001b[0m\u001b[0;34m,\u001b[0m \u001b[0;36m1\u001b[0m\u001b[0;34m)\u001b[0m\u001b[0;34m\u001b[0m\u001b[0;34m\u001b[0m\u001b[0m\n\u001b[0m\u001b[1;32m    346\u001b[0m \u001b[0;34m\u001b[0m\u001b[0m\n\u001b[1;32m    347\u001b[0m \u001b[0;34m\u001b[0m\u001b[0m\n",
      "\u001b[0;32m<__array_function__ internals>\u001b[0m in \u001b[0;36mconcatenate\u001b[0;34m(*args, **kwargs)\u001b[0m\n",
      "\u001b[0;31mValueError\u001b[0m: all the input arrays must have same number of dimensions, but the array at index 0 has 2 dimension(s) and the array at index 1 has 1 dimension(s)"
     ]
    }
   ],
   "source": [
    "## Example 4.2\n",
    "\n",
    "X = np.array([0,1,2,3,4])\n",
    "y = np.array([0,0.3,0.75,1,2])\n",
    "\n",
    "train = list(zip(X, y))\n",
    "test = np.array([3])\n",
    "\n",
    "lin_reg_predictor = lin_reg(train, test) \n",
    "print(lin_reg_predictor)"
   ]
  },
  {
   "cell_type": "code",
   "execution_count": 353,
   "metadata": {},
   "outputs": [
    {
     "name": "stdout",
     "output_type": "stream",
     "text": [
      "[[1.]\n",
      " [1.]\n",
      " [1.]\n",
      " [1.]\n",
      " [1.]]\n",
      "[[0 0]\n",
      " [1 2]\n",
      " [2 4]\n",
      " [3 0]\n",
      " [4 1]]\n",
      "Prediction of coefficients by self implementation: [-0.12125  0.47    -0.00625]\n",
      "Prediction of coefficients by library: -0.12125000000000008 [ 0.47    -0.00625]\n"
     ]
    }
   ],
   "source": [
    "X = np.array([[0, 0], [1,2], [2,4], [3,0], [4,1]])\n",
    "y = np.array([0, 0.3, 0.75, 1, 2])\n",
    "\n",
    "train = list(zip(X, y))\n",
    "test = (np.array([[-1, -1, 5, 5], [-1, 5, -1, 5]]).T)\n",
    "\n",
    "predictor_function = lin_reg(train, test)\n",
    "print(\"Prediction of coefficients by self implementation:\", predictor_function)\n",
    "\n",
    "## Library to check\n",
    "lin_reg_library = linear_model.LinearRegression()\n",
    "lin_reg_library.fit(X, y)\n",
    "lib_pred = lin_reg_library.predict(test)\n",
    "print('Prediction of coefficients by library:',lin_reg_library.intercept_, lin_reg_library.coef_)"
   ]
  },
  {
   "cell_type": "code",
   "execution_count": 378,
   "metadata": {},
   "outputs": [
    {
     "name": "stdout",
     "output_type": "stream",
     "text": [
      "3\n"
     ]
    },
    {
     "ename": "UFuncTypeError",
     "evalue": "ufunc 'add' did not contain a loop with signature matching types (dtype('<U21'), dtype('<U21')) -> dtype('<U21')",
     "output_type": "error",
     "traceback": [
      "\u001b[0;31m---------------------------------------------------------------------------\u001b[0m",
      "\u001b[0;31mUFuncTypeError\u001b[0m                            Traceback (most recent call last)",
      "\u001b[0;32m<ipython-input-378-aa639af85202>\u001b[0m in \u001b[0;36m<module>\u001b[0;34m()\u001b[0m\n\u001b[1;32m      1\u001b[0m \u001b[0mtes\u001b[0m \u001b[0;34m=\u001b[0m \u001b[0mnp\u001b[0m\u001b[0;34m.\u001b[0m\u001b[0marray\u001b[0m\u001b[0;34m(\u001b[0m\u001b[0;34m[\u001b[0m\u001b[0;36m1\u001b[0m\u001b[0;34m,\u001b[0m \u001b[0;36m2\u001b[0m\u001b[0;34m,\u001b[0m \u001b[0;36m4\u001b[0m\u001b[0;34m]\u001b[0m\u001b[0;34m)\u001b[0m\u001b[0;34m\u001b[0m\u001b[0;34m\u001b[0m\u001b[0m\n\u001b[0;32m----> 2\u001b[0;31m \u001b[0mget_function_of_line\u001b[0m\u001b[0;34m(\u001b[0m\u001b[0mtes\u001b[0m\u001b[0;34m)\u001b[0m\u001b[0;34m\u001b[0m\u001b[0;34m\u001b[0m\u001b[0m\n\u001b[0m\u001b[1;32m      3\u001b[0m \u001b[0;34m\u001b[0m\u001b[0m\n\u001b[1;32m      4\u001b[0m \u001b[0;32mdef\u001b[0m \u001b[0mget_function_of_line\u001b[0m\u001b[0;34m(\u001b[0m\u001b[0mvec\u001b[0m\u001b[0;34m)\u001b[0m\u001b[0;34m:\u001b[0m\u001b[0;34m\u001b[0m\u001b[0;34m\u001b[0m\u001b[0m\n\u001b[1;32m      5\u001b[0m     \u001b[0mlength\u001b[0m \u001b[0;34m=\u001b[0m \u001b[0mlen\u001b[0m\u001b[0;34m(\u001b[0m\u001b[0mvec\u001b[0m\u001b[0;34m)\u001b[0m\u001b[0;34m\u001b[0m\u001b[0;34m\u001b[0m\u001b[0m\n",
      "\u001b[0;32m<ipython-input-363-50602aad7431>\u001b[0m in \u001b[0;36mget_function_of_line\u001b[0;34m(vec)\u001b[0m\n\u001b[1;32m     42\u001b[0m     \u001b[0mfn\u001b[0m \u001b[0;34m=\u001b[0m \u001b[0;34m\"\"\u001b[0m\u001b[0;34m\u001b[0m\u001b[0;34m\u001b[0m\u001b[0m\n\u001b[1;32m     43\u001b[0m     \u001b[0;32mfor\u001b[0m \u001b[0mi\u001b[0m \u001b[0;32min\u001b[0m \u001b[0mrange\u001b[0m\u001b[0;34m(\u001b[0m\u001b[0;36m0\u001b[0m\u001b[0;34m,\u001b[0m \u001b[0mlen\u001b[0m\u001b[0;34m(\u001b[0m\u001b[0mvec\u001b[0m\u001b[0;34m)\u001b[0m\u001b[0;34m)\u001b[0m\u001b[0;34m:\u001b[0m\u001b[0;34m\u001b[0m\u001b[0;34m\u001b[0m\u001b[0m\n\u001b[0;32m---> 44\u001b[0;31m         \u001b[0mfn\u001b[0m \u001b[0;34m+=\u001b[0m \u001b[0mvec\u001b[0m\u001b[0;34m[\u001b[0m\u001b[0mi\u001b[0m\u001b[0;34m]\u001b[0m \u001b[0;34m+\u001b[0m \u001b[0;34m\"x^\"\u001b[0m \u001b[0;34m+\u001b[0m \u001b[0mi\u001b[0m\u001b[0;34m\u001b[0m\u001b[0;34m\u001b[0m\u001b[0m\n\u001b[0m\u001b[1;32m     45\u001b[0m     \u001b[0mprint\u001b[0m\u001b[0;34m(\u001b[0m\u001b[0mfn\u001b[0m\u001b[0;34m)\u001b[0m\u001b[0;34m\u001b[0m\u001b[0;34m\u001b[0m\u001b[0m\n",
      "\u001b[0;31mUFuncTypeError\u001b[0m: ufunc 'add' did not contain a loop with signature matching types (dtype('<U21'), dtype('<U21')) -> dtype('<U21')"
     ]
    }
   ],
   "source": [
    "tes = np.array([1, 2, 4])\n",
    "get_function_of_line(tes)\n",
    "\n",
    "def get_function_of_line(vec):\n",
    "    length = len(vec)\n",
    "    print(length)\n",
    "    fn = \"\"\n",
    "    for i in range(0, len(vec)):\n",
    "        print(vec[i])\n",
    "#         fn = fn + str(vec[i]) + \"x^\" + str(i)\n",
    "    print(fn)"
   ]
  },
  {
   "cell_type": "code",
   "execution_count": null,
   "metadata": {},
   "outputs": [],
   "source": []
  }
 ],
 "metadata": {
  "kernelspec": {
   "display_name": "Python 3",
   "language": "python",
   "name": "python3"
  },
  "language_info": {
   "codemirror_mode": {
    "name": "ipython",
    "version": 3
   },
   "file_extension": ".py",
   "mimetype": "text/x-python",
   "name": "python",
   "nbconvert_exporter": "python",
   "pygments_lexer": "ipython3",
   "version": "3.7.6"
  }
 },
 "nbformat": 4,
 "nbformat_minor": 4
}
