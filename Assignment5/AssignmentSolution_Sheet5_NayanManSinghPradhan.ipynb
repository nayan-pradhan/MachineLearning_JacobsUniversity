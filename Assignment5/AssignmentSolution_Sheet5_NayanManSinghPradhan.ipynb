{
 "cells": [
  {
   "cell_type": "markdown",
   "metadata": {},
   "source": [
    "# Assignment Sheet 5\n",
    "## Done by Nayan Man Singh Pradhan"
   ]
  },
  {
   "cell_type": "code",
   "execution_count": 16,
   "metadata": {},
   "outputs": [],
   "source": [
    "## Importing\n",
    "\n",
    "import numpy as np\n",
    "import pandas as pd\n",
    "import matplotlib.pyplot as plt\n",
    "from mpl_toolkits.mplot3d import Axes3D\n",
    "import scipy.linalg as linalg\n",
    "from sklearn import linear_model"
   ]
  },
  {
   "cell_type": "code",
   "execution_count": 63,
   "metadata": {},
   "outputs": [],
   "source": [
    "# Functions\n",
    "\n",
    "def Cholesky_solver(M, b):\n",
    "    c, low = linalg.cho_factor(M)\n",
    "    return (linalg.cho_solve((c, low), b))\n",
    "\n",
    "def lin_reg(train, test):\n",
    "    x = [i[0] for i in train]\n",
    "    y = [i[1] for i in train]\n",
    "    \n",
    "    ## Build matrix X\n",
    "    x = np.array(x)\n",
    "    y = np.array(y)\n",
    "    \n",
    "    x_of1 = np.ones((x.shape[0], 1))\n",
    "    X = np.hstack((x_of1, x))\n",
    "    \n",
    "    ## b <-- X.T y\n",
    "    b = np.dot(X.T, y)\n",
    "    \n",
    "    ## A <-- X.T X\n",
    "    A = np.dot(X.T, X)\n",
    "    \n",
    "    ## Solve AB = b using Cholesky factorization\n",
    "    B_hat = Cholesky_solver(A, b)\n",
    "    \n",
    "    return B_hat"
   ]
  },
  {
   "cell_type": "code",
   "execution_count": 64,
   "metadata": {},
   "outputs": [
    {
     "name": "stdout",
     "output_type": "stream",
     "text": [
      "Example 4.1\n",
      "\n",
      "Result from self implementation:\n",
      "Intercept:  0.6666666666666665\n",
      "Coefficient:  [0.66666667 1.        ]\n",
      "-x-x-x-x-x-x-x-x-x-x-x-x-x-x-x-x-x-x-x-x-x-x-x-x-x-\n",
      "Result from library:\n",
      "Intercept:  0.6666666666666674\n",
      "Coefficient:  [0.66666667 1.        ]\n"
     ]
    }
   ],
   "source": [
    "## Example 4.1\n",
    "print(\"Example 4.1\\n\")\n",
    "X = np.array([[1,0],[1,1],[2,1],[4,2]])\n",
    "y = np.array([1,2,4,5])\n",
    "\n",
    "train = list(zip(X, y))\n",
    "test = np.array([[0,4]])\n",
    "\n",
    "## Predict using self implemented function\n",
    "predictor_function = lin_reg(train, test)\n",
    "print(\"Result from self implementation:\")\n",
    "print(\"Intercept: \", predictor_function[0])\n",
    "print(\"Coefficient: \", predictor_function[1:])\n",
    "\n",
    "print(\"-x-x-x-x-x-x-x-x-x-x-x-x-x-x-x-x-x-x-x-x-x-x-x-x-x-\")\n",
    "\n",
    "## Library to check\n",
    "lin_reg_library = linear_model.LinearRegression()\n",
    "lin_reg_library.fit(X, y)\n",
    "lib_pred = lin_reg_library.predict(test)\n",
    "print(\"Result from library:\")\n",
    "print(\"Intercept: \", lin_reg_library.intercept_)\n",
    "print(\"Coefficient: \", lin_reg_library.coef_)"
   ]
  },
  {
   "cell_type": "code",
   "execution_count": 69,
   "metadata": {},
   "outputs": [
    {
     "name": "stdout",
     "output_type": "stream",
     "text": [
      "Example 4.1\n",
      "\n",
      "Result from self implementation:\n",
      "Intercept:  -0.1300000000000005\n",
      "Coefficient:  [0.47]\n",
      "-x-x-x-x-x-x-x-x-x-x-x-x-x-x-x-x-x-x-x-x-x-x-x-x-x-\n",
      "Result from library:\n",
      "Intercept:  -0.13000000000000012\n",
      "Coefficient:  [0.47]\n"
     ]
    }
   ],
   "source": [
    "## Example 4.2\n",
    "print(\"Example 4.2\\n\")\n",
    "X = [[0], [1], [2], [3], [4]]\n",
    "y = [0, 0.3, 0.75, 1, 2]\n",
    "\n",
    "train = list(zip(X, y))\n",
    "test = np.array([3])\n",
    "test = test.reshape(-1, 1)\n",
    "\n",
    "## Predict using self implemented function\n",
    "predictor_function = lin_reg(train, test)\n",
    "print(\"Result from self implementation:\")\n",
    "print(\"Intercept: \", predictor_function[0])\n",
    "print(\"Coefficient: \", predictor_function[1:])\n",
    "\n",
    "print(\"-x-x-x-x-x-x-x-x-x-x-x-x-x-x-x-x-x-x-x-x-x-x-x-x-x-\")\n",
    "\n",
    "## Library to check\n",
    "lin_reg_library = linear_model.LinearRegression()\n",
    "lin_reg_library.fit(X, y)\n",
    "lib_pred = lin_reg_library.predict(test)\n",
    "print(\"Result from library:\")\n",
    "print(\"Intercept: \", lin_reg_library.intercept_)\n",
    "print(\"Coefficient: \", lin_reg_library.coef_)"
   ]
  },
  {
   "cell_type": "code",
   "execution_count": 74,
   "metadata": {},
   "outputs": [
    {
     "name": "stdout",
     "output_type": "stream",
     "text": [
      "Example 4.3\n",
      "\n",
      "Result from self implementation:\n",
      "Intercept:  -0.12125000000000065\n",
      "Coefficient:  [ 0.47    -0.00625]\n",
      "-x-x-x-x-x-x-x-x-x-x-x-x-x-x-x-x-x-x-x-x-x-x-x-x-x-\n",
      "Result from library:\n",
      "Intercept:  -0.12125000000000008\n",
      "Coefficient:  [ 0.47    -0.00625]\n"
     ]
    }
   ],
   "source": [
    "## Example 4.3\n",
    "print(\"Example 4.3\\n\")\n",
    "X = np.array([[0, 0], [1,2], [2,4], [3,0], [4,1]])\n",
    "y = np.array([0, 0.3, 0.75, 1, 2])\n",
    "\n",
    "train = list(zip(X, y))\n",
    "test = (np.array([[-1, -1, 5, 5], [-1, 5, -1, 5]]).T)\n",
    "\n",
    "## Predict using self implemented function\n",
    "predictor_function = lin_reg(train, test)\n",
    "print(\"Result from self implementation:\")\n",
    "print(\"Intercept: \", predictor_function[0])\n",
    "print(\"Coefficient: \", predictor_function[1:])\n",
    "\n",
    "print(\"-x-x-x-x-x-x-x-x-x-x-x-x-x-x-x-x-x-x-x-x-x-x-x-x-x-\")\n",
    "\n",
    "## Library to check\n",
    "lin_reg_library = linear_model.LinearRegression()\n",
    "lin_reg_library.fit(X, y)\n",
    "lib_pred = lin_reg_library.predict(test)\n",
    "print(\"Result from library:\")\n",
    "print(\"Intercept: \", lin_reg_library.intercept_)\n",
    "print(\"Coefficient: \", lin_reg_library.coef_)"
   ]
  },
  {
   "cell_type": "code",
   "execution_count": null,
   "metadata": {},
   "outputs": [],
   "source": []
  }
 ],
 "metadata": {
  "kernelspec": {
   "display_name": "Python 3",
   "language": "python",
   "name": "python3"
  },
  "language_info": {
   "codemirror_mode": {
    "name": "ipython",
    "version": 3
   },
   "file_extension": ".py",
   "mimetype": "text/x-python",
   "name": "python",
   "nbconvert_exporter": "python",
   "pygments_lexer": "ipython3",
   "version": "3.7.6"
  }
 },
 "nbformat": 4,
 "nbformat_minor": 4
}
