{
 "cells": [
  {
   "cell_type": "markdown",
   "metadata": {},
   "source": [
    "# Assignment Sheet 5\n",
    "## Done by Nayan Man Singh Pradhan"
   ]
  },
  {
   "cell_type": "code",
   "execution_count": 40,
   "metadata": {},
   "outputs": [],
   "source": [
    "import numpy as np\n",
    "import pandas as pd\n",
    "import matplotlib.pyplot as plt\n",
    "from mpl_toolkits.mplot3d import Axes3D"
   ]
  },
  {
   "cell_type": "code",
   "execution_count": 70,
   "metadata": {},
   "outputs": [],
   "source": [
    "## y = mx + c"
   ]
  },
  {
   "cell_type": "code",
   "execution_count": 113,
   "metadata": {},
   "outputs": [],
   "source": [
    "## Covariance\n",
    "def get_cov(x, y):\n",
    "    mean_x = np.mean(x)\n",
    "    mean_y = np.mean(y)\n",
    "    covar = 0.0\n",
    "    for i in range(len(x)):\n",
    "        covar += (x[i] - mean_x) * (y[i] - mean_y)\n",
    "    return covar\n",
    "\n",
    "## Variance\n",
    "def get_var(a):\n",
    "    mean = np.mean(a)\n",
    "    return sum([(x - mean)**2 for x in a])\n",
    "\n",
    "## For coefficients m and c\n",
    "def get_coeff(data):\n",
    "    x = [row[0] for row in data]\n",
    "    y = [row[1] for row in data]\n",
    "#     print (\"x=\",x)\n",
    "#     print (\"y=\",y)\n",
    "    x_mean, y_mean = np.mean(x), np.mean(y)\n",
    "#     print(x_mean)\n",
    "    m = get_cov(x, y)/ get_var(x)\n",
    "    c = y_mean - m * x_mean\n",
    "    return [m, c]\n",
    "\n",
    "## Linear Regression\n",
    "def linear_reg(train, test):\n",
    "#     output_pred = []\n",
    "    m, c = get_coeff(train)\n",
    "    print (m, c)\n",
    "#     for t in test:\n",
    "#         y_pred = m * t[0] + c\n",
    "#         output_pred.append(y_pred)\n",
    "#     return output_pred\n",
    "    return m*test + c"
   ]
  },
  {
   "cell_type": "code",
   "execution_count": 114,
   "metadata": {},
   "outputs": [],
   "source": [
    "# test_X = ([1,2,4,4])\n",
    "# test_Y = ([4,6,7,8])\n",
    "\n",
    "# mean_x = get_mean(test_X)\n",
    "# mean_y = get_mean(test_Y)\n",
    "\n",
    "# print(get_var(test_X))\n",
    "\n",
    "# dataset = [[1, 1], [2, 3], [4, 3], [3, 2], [5, 5]]\n",
    "# print(linear_reg(dataset))"
   ]
  },
  {
   "cell_type": "code",
   "execution_count": 115,
   "metadata": {},
   "outputs": [
    {
     "name": "stdout",
     "output_type": "stream",
     "text": [
      "[ 0.44976077 -0.00600858] [0.0454067  0.82021459]\n",
      "[[0.0454067  0.79618026]]\n"
     ]
    }
   ],
   "source": [
    "X = np.array([[0, 0], [1,2], [2,4], [3,0], [4,1]])\n",
    "y = np.array([0, 0.3, 0.75, 1, 2])\n",
    "\n",
    "ziped = list(zip(X,y))\n",
    "\n",
    "# coef = get_coeff(ziped)\n",
    "# print(coef)\n",
    "\n",
    "# test = (np.array([[-1, -1, 5, 5], [-1, 5, -1, 5]]).T).reshape((2,2))\n",
    "# test = (np.array([[-1, -1, 5, 5], [-1, 5, -1, 5]]).T).reshape((2, 2))\n",
    "test = np.array([[0,4]])\n",
    "\n",
    "predictor = linear_reg(ziped, test)\n",
    "\n",
    "print(predictor)"
   ]
  },
  {
   "cell_type": "code",
   "execution_count": 103,
   "metadata": {},
   "outputs": [],
   "source": [
    "# fig = plt.figure(figsize=(6, 5))\n",
    "# ax = Axes3D(fig, elev=45, azim=-120)\n",
    "# ax.scatter(X[:, 0], X[:, 1], y, c='r', marker='o', label='training set')\n",
    "# # ax.plot_surface(np.array([[-1, -1], [5, 5]]), np.array([[-1, 5], [-1, 5]]), lin_regr.predict(np.array([[-1, -1, 5, 5], [-1, 5, -1, 5]]).T).reshape((2, 2)), alpha=.5, label='linear regression predictor')\n",
    "# # ax.plot_surface(X[:, 0], X[:, 1], predictor)\n",
    "# ax.set_xlabel('input X_1')\n",
    "# ax.set_ylabel('input X_2')\n",
    "# ax.set_zlabel('output Y')\n",
    "# plt.title(\"Simplistic test of linear regression on 2d input\")\n",
    "# plt.show()"
   ]
  },
  {
   "cell_type": "code",
   "execution_count": null,
   "metadata": {},
   "outputs": [],
   "source": []
  }
 ],
 "metadata": {
  "kernelspec": {
   "display_name": "Python 3",
   "language": "python",
   "name": "python3"
  },
  "language_info": {
   "codemirror_mode": {
    "name": "ipython",
    "version": 3
   },
   "file_extension": ".py",
   "mimetype": "text/x-python",
   "name": "python",
   "nbconvert_exporter": "python",
   "pygments_lexer": "ipython3",
   "version": "3.7.6"
  }
 },
 "nbformat": 4,
 "nbformat_minor": 4
}
