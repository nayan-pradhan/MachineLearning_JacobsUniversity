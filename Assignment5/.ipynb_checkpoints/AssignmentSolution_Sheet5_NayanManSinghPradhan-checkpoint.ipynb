{
 "cells": [
  {
   "cell_type": "markdown",
   "metadata": {},
   "source": [
    "# Assignment Sheet 5\n",
    "## Done by Nayan Man Singh Pradhan"
   ]
  },
  {
   "cell_type": "code",
   "execution_count": 16,
   "metadata": {},
   "outputs": [],
   "source": [
    "## Importing\n",
    "\n",
    "import numpy as np\n",
    "import pandas as pd\n",
    "import matplotlib.pyplot as plt\n",
    "from mpl_toolkits.mplot3d import Axes3D\n",
    "import scipy.linalg as linalg\n",
    "from sklearn import linear_model"
   ]
  },
  {
   "cell_type": "code",
   "execution_count": 63,
   "metadata": {},
   "outputs": [],
   "source": [
    "# Functions\n",
    "\n",
    "def Cholesky_solver(M, b):\n",
    "    c, low = linalg.cho_factor(M)\n",
    "    return (linalg.cho_solve((c, low), b))\n",
    "\n",
    "def lin_reg(train, test):\n",
    "    x = [i[0] for i in train]\n",
    "    y = [i[1] for i in train]\n",
    "    \n",
    "    ## Build matrix X\n",
    "    x = np.array(x)\n",
    "    y = np.array(y)\n",
    "    \n",
    "    x_of1 = np.ones((x.shape[0], 1))\n",
    "    X = np.hstack((x_of1, x))\n",
    "    \n",
    "    ## b <-- X.T y\n",
    "    b = np.dot(X.T, y)\n",
    "    \n",
    "    ## A <-- X.T X\n",
    "    A = np.dot(X.T, X)\n",
    "    \n",
    "    ## Solve AB = b using Cholesky factorization\n",
    "    B_hat = Cholesky_solver(A, b)\n",
    "    \n",
    "    return B_hat"
   ]
  },
  {
   "cell_type": "code",
   "execution_count": 79,
   "metadata": {},
   "outputs": [
    {
     "name": "stdout",
     "output_type": "stream",
     "text": [
      "Example 4.1\n",
      "\n",
      "Result from self implementation:\n",
      "Intercept:  0.6666666666666665\n",
      "Coefficient:  [0.66666667 1.        ]\n",
      "-x-x-x-x-x-x-x-x-x-x-x-x-x-x-x-x-x-x-x-x-x-x-x-x-x-\n",
      "Result from library:\n",
      "Intercept:  0.6666666666666674\n",
      "Coefficient:  [0.66666667 1.        ]\n"
     ]
    }
   ],
   "source": [
    "## Example 4.1\n",
    "\n",
    "print(\"Example 4.1\\n\")\n",
    "X = np.array([[1,0],[1,1],[2,1],[4,2]])\n",
    "y = np.array([1,2,4,5])\n",
    "\n",
    "train = list(zip(X, y))\n",
    "test = np.array([[0,4]])\n",
    "\n",
    "## Predict using self implemented function\n",
    "predictor_function = lin_reg(train, test)\n",
    "print(\"Result from self implementation:\")\n",
    "print(\"Intercept: \", predictor_function[0])\n",
    "print(\"Coefficient: \", predictor_function[1:])\n",
    "\n",
    "print(\"-x-x-x-x-x-x-x-x-x-x-x-x-x-x-x-x-x-x-x-x-x-x-x-x-x-\")\n",
    "\n",
    "## Library to check\n",
    "lin_reg_library = linear_model.LinearRegression()\n",
    "lin_reg_library.fit(X, y)\n",
    "lib_pred = lin_reg_library.predict(test)\n",
    "print(\"Result from library:\")\n",
    "print(\"Intercept: \", lin_reg_library.intercept_)\n",
    "print(\"Coefficient: \", lin_reg_library.coef_)"
   ]
  },
  {
   "cell_type": "code",
   "execution_count": 82,
   "metadata": {},
   "outputs": [
    {
     "name": "stdout",
     "output_type": "stream",
     "text": [
      "Example 4.2\n",
      "\n",
      "Result from self implementation:\n",
      "Intercept:  -0.1300000000000005\n",
      "Coefficient:  [0.47]\n",
      "-x-x-x-x-x-x-x-x-x-x-x-x-x-x-x-x-x-x-x-x-x-x-x-x-x-\n",
      "Result from library:\n",
      "Intercept:  -0.13000000000000012\n",
      "Coefficient:  [0.47]\n"
     ]
    }
   ],
   "source": [
    "## Example 4.2\n",
    "\n",
    "print(\"Example 4.2\\n\")\n",
    "X = [[0], [1], [2], [3], [4]]\n",
    "y = [0, 0.3, 0.75, 1, 2]\n",
    "\n",
    "train = list(zip(X, y))\n",
    "test = np.array([3])\n",
    "test = test.reshape(-1, 1)\n",
    "\n",
    "## Predict using self implemented function\n",
    "predictor_function = lin_reg(train, test)\n",
    "print(\"Result from self implementation:\")\n",
    "print(\"Intercept: \", predictor_function[0])\n",
    "print(\"Coefficient: \", predictor_function[1:])\n",
    "\n",
    "print(\"-x-x-x-x-x-x-x-x-x-x-x-x-x-x-x-x-x-x-x-x-x-x-x-x-x-\")\n",
    "\n",
    "## Library to check\n",
    "lin_reg_library = linear_model.LinearRegression()\n",
    "lin_reg_library.fit(X, y)\n",
    "lib_pred = lin_reg_library.predict(test)\n",
    "print(\"Result from library:\")\n",
    "print(\"Intercept: \", lin_reg_library.intercept_)\n",
    "print(\"Coefficient: \", lin_reg_library.coef_)"
   ]
  },
  {
   "cell_type": "code",
   "execution_count": 81,
   "metadata": {},
   "outputs": [
    {
     "name": "stdout",
     "output_type": "stream",
     "text": [
      "Example 4.3\n",
      "\n",
      "Result from self implementation:\n",
      "Intercept:  -0.12125000000000065\n",
      "Coefficient:  [ 0.47    -0.00625]\n",
      "-x-x-x-x-x-x-x-x-x-x-x-x-x-x-x-x-x-x-x-x-x-x-x-x-x-\n",
      "Result from library:\n",
      "Intercept:  -0.12125000000000008\n",
      "Coefficient:  [ 0.47    -0.00625]\n"
     ]
    }
   ],
   "source": [
    "## Example 4.3\n",
    "\n",
    "print(\"Example 4.3\\n\")\n",
    "X = np.array([[0, 0], [1,2], [2,4], [3,0], [4,1]])\n",
    "y = np.array([0, 0.3, 0.75, 1, 2])\n",
    "\n",
    "train = list(zip(X, y))\n",
    "test = (np.array([[-1, -1, 5, 5], [-1, 5, -1, 5]]).T)\n",
    "\n",
    "## Predict using self implemented function\n",
    "predictor_function = lin_reg(train, test)\n",
    "print(\"Result from self implementation:\")\n",
    "print(\"Intercept: \", predictor_function[0])\n",
    "print(\"Coefficient: \", predictor_function[1:])\n",
    "\n",
    "print(\"-x-x-x-x-x-x-x-x-x-x-x-x-x-x-x-x-x-x-x-x-x-x-x-x-x-\")\n",
    "\n",
    "## Library to check\n",
    "lin_reg_library = linear_model.LinearRegression()\n",
    "lin_reg_library.fit(X, y)\n",
    "lib_pred = lin_reg_library.predict(test)\n",
    "print(\"Result from library:\")\n",
    "print(\"Intercept: \", lin_reg_library.intercept_)\n",
    "print(\"Coefficient: \", lin_reg_library.coef_)"
   ]
  },
  {
   "cell_type": "code",
   "execution_count": 145,
   "metadata": {},
   "outputs": [
    {
     "name": "stdout",
     "output_type": "stream",
     "text": [
      "       X1     X2     X3      X4   X5  X6   X7  X8\n",
      "0    0.98  514.5  294.0  110.25  7.0   2  0.0   0\n",
      "1    0.98  514.5  294.0  110.25  7.0   3  0.0   0\n",
      "2    0.98  514.5  294.0  110.25  7.0   4  0.0   0\n",
      "3    0.98  514.5  294.0  110.25  7.0   5  0.0   0\n",
      "4    0.90  563.5  318.5  122.50  7.0   2  0.0   0\n",
      "..    ...    ...    ...     ...  ...  ..  ...  ..\n",
      "763  0.64  784.0  343.0  220.50  3.5   5  0.4   5\n",
      "764  0.62  808.5  367.5  220.50  3.5   2  0.4   5\n",
      "765  0.62  808.5  367.5  220.50  3.5   3  0.4   5\n",
      "766  0.62  808.5  367.5  220.50  3.5   4  0.4   5\n",
      "767  0.62  808.5  367.5  220.50  3.5   5  0.4   5\n",
      "\n",
      "[768 rows x 8 columns]\n",
      "        Y1     Y2\n",
      "0    15.55  21.33\n",
      "1    15.55  21.33\n",
      "2    15.55  21.33\n",
      "3    15.55  21.33\n",
      "4    20.84  28.28\n",
      "..     ...    ...\n",
      "763  17.88  21.40\n",
      "764  16.54  16.88\n",
      "765  16.44  17.11\n",
      "766  16.48  16.61\n",
      "767  16.64  16.03\n",
      "\n",
      "[768 rows x 2 columns]\n"
     ]
    }
   ],
   "source": [
    "# Energy Efficiency Data Set from UCI Machine Learning\n",
    "df = pd.read_excel('ENB2012_data.xlsx')\n",
    "\n",
    "# df.columns = df.iloc[0]\n",
    "# df = df[1:]\n",
    "\n",
    "# print(df.head)\n",
    "\n",
    "# print(data.row[0])\n",
    "# print(data[0:'X8'])\n",
    "# print(data.drop(data[Y1]))\n",
    "\n",
    "train = df.iloc[:,:-2]\n",
    "test = df.iloc[:,-2:]\n",
    "print(train)\n",
    "print(test)\n",
    "\n",
    "# X = np.array(data.drop(data.columns[57], 1))\n",
    "# y = np.array(data[57])\n",
    "# train = data[]"
   ]
  },
  {
   "cell_type": "code",
   "execution_count": null,
   "metadata": {},
   "outputs": [],
   "source": []
  }
 ],
 "metadata": {
  "kernelspec": {
   "display_name": "Python 3",
   "language": "python",
   "name": "python3"
  },
  "language_info": {
   "codemirror_mode": {
    "name": "ipython",
    "version": 3
   },
   "file_extension": ".py",
   "mimetype": "text/x-python",
   "name": "python",
   "nbconvert_exporter": "python",
   "pygments_lexer": "ipython3",
   "version": "3.7.6"
  }
 },
 "nbformat": 4,
 "nbformat_minor": 4
}
