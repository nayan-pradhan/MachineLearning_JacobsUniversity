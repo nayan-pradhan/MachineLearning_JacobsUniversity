{
 "cells": [
  {
   "cell_type": "markdown",
   "metadata": {},
   "source": [
    "# Assignment Sheet 5\n",
    "## Done by Nayan Man Singh Pradhan"
   ]
  },
  {
   "cell_type": "code",
   "execution_count": 16,
   "metadata": {},
   "outputs": [],
   "source": [
    "## Importing\n",
    "\n",
    "import numpy as np\n",
    "import pandas as pd\n",
    "import matplotlib.pyplot as plt\n",
    "from mpl_toolkits.mplot3d import Axes3D\n",
    "import scipy.linalg as linalg\n",
    "from sklearn import linear_model"
   ]
  },
  {
   "cell_type": "code",
   "execution_count": 173,
   "metadata": {},
   "outputs": [],
   "source": [
    "# Functions\n",
    "\n",
    "def Cholesky_solver(M, b):\n",
    "    c, low = linalg.cho_factor(M)\n",
    "    return (linalg.cho_solve((c, low), b))\n",
    "\n",
    "def lin_reg(x, y, test):\n",
    "#     x = [i[0] for i in train]\n",
    "#     y = [i[1] for i in train]\n",
    "    \n",
    "    ## Build matrix X\n",
    "    x = np.array(x)\n",
    "    y = np.array(y)\n",
    "    \n",
    "    x_of1 = np.ones((x.shape[0], 1))\n",
    "    X = np.hstack((x_of1, x))\n",
    "    \n",
    "    ## b <-- X.T y\n",
    "    b = np.dot(X.T, y)\n",
    "    \n",
    "    ## A <-- X.T X\n",
    "    A = np.dot(X.T, X)\n",
    "    \n",
    "    ## Solve AB = b using Cholesky factorization\n",
    "    B_hat = Cholesky_solver(A, b)\n",
    "    \n",
    "    ## Predict\n",
    "    temp = np.dot(test, B_hat[1:]) + c\n",
    "    \n",
    "    return B_hat, temp\n",
    "\n",
    "# def linear_predict(test, B_hat):\n",
    "#     m = B_hat[1:]\n",
    "#     c = B_hat[0]\n",
    "#     temp = np.dot(test, B_hat[1:]) + c\n",
    "#     return(temp+c)"
   ]
  },
  {
   "cell_type": "code",
   "execution_count": 174,
   "metadata": {},
   "outputs": [
    {
     "name": "stdout",
     "output_type": "stream",
     "text": [
      "Example 4.1\n",
      "\n",
      "Result from self implementation:\n",
      "Intercept:  [0.66666667 0.66666667 1.        ]\n",
      "Coefficient:  (array([4.66666667]),)\n",
      "-x-x-x-x-x-x-x-x-x-x-x-x-x-x-x-x-x-x-x-x-x-x-x-x-x-\n",
      "Result from library:\n",
      "Prediction:  [4.66666667]\n",
      "Intercept:  0.6666666666666674\n",
      "Coefficient:  [0.66666667 1.        ]\n"
     ]
    }
   ],
   "source": [
    "## Example 4.1\n",
    "\n",
    "print(\"Example 4.1\\n\")\n",
    "X = np.array([[1,0],[1,1],[2,1],[4,2]])\n",
    "y = np.array([1,2,4,5])\n",
    "\n",
    "train = list(zip(X, y))\n",
    "test = np.array([[0,4]])\n",
    "\n",
    "## Predict using self implemented function\n",
    "# predictor_function = lin_reg(train, test)\n",
    "predictor_function = lin_reg(X, y, test)\n",
    "print(\"Result from self implementation:\")\n",
    "print(\"Intercept: \", predictor_function[0])\n",
    "print(\"Coefficient: \", predictor_function[1:])\n",
    "\n",
    "print(\"-x-x-x-x-x-x-x-x-x-x-x-x-x-x-x-x-x-x-x-x-x-x-x-x-x-\")\n",
    "\n",
    "## Library to check\n",
    "lin_reg_library = linear_model.LinearRegression()\n",
    "lin_reg_library.fit(X, y)\n",
    "lib_pred = lin_reg_library.predict(test)\n",
    "print(\"Result from library:\")\n",
    "print(\"Prediction: \", lib_pred)\n",
    "print(\"Intercept: \", lin_reg_library.intercept_)\n",
    "print(\"Coefficient: \", lin_reg_library.coef_)"
   ]
  },
  {
   "cell_type": "code",
   "execution_count": 175,
   "metadata": {},
   "outputs": [
    {
     "name": "stdout",
     "output_type": "stream",
     "text": [
      "Example 4.2\n",
      "\n",
      "Result from self implementation:\n",
      "Intercept:  [-0.13  0.47]\n",
      "Coefficient:  (array([1.28]),)\n",
      "-x-x-x-x-x-x-x-x-x-x-x-x-x-x-x-x-x-x-x-x-x-x-x-x-x-\n",
      "Result from library:\n",
      "Prediction:  [1.28]\n",
      "Intercept:  -0.13000000000000012\n",
      "Coefficient:  [0.47]\n"
     ]
    }
   ],
   "source": [
    "## Example 4.2\n",
    "\n",
    "print(\"Example 4.2\\n\")\n",
    "X = [[0], [1], [2], [3], [4]]\n",
    "y = [0, 0.3, 0.75, 1, 2]\n",
    "\n",
    "train = list(zip(X, y))\n",
    "test = np.array([3])\n",
    "test = test.reshape(-1, 1)\n",
    "\n",
    "## Predict using self implemented function\n",
    "# predictor_function = lin_reg(train, test)\n",
    "predictor_function = lin_reg(X, y, test)\n",
    "print(\"Result from self implementation:\")\n",
    "print(\"Intercept: \", predictor_function[0])\n",
    "print(\"Coefficient: \", predictor_function[1:])\n",
    "\n",
    "print(\"-x-x-x-x-x-x-x-x-x-x-x-x-x-x-x-x-x-x-x-x-x-x-x-x-x-\")\n",
    "\n",
    "## Library to check\n",
    "lin_reg_library = linear_model.LinearRegression()\n",
    "lin_reg_library.fit(X, y)\n",
    "lib_pred = lin_reg_library.predict(test)\n",
    "print(\"Result from library:\")\n",
    "print(\"Prediction: \", lib_pred)\n",
    "print(\"Intercept: \", lin_reg_library.intercept_)\n",
    "print(\"Coefficient: \", lin_reg_library.coef_)"
   ]
  },
  {
   "cell_type": "code",
   "execution_count": 176,
   "metadata": {},
   "outputs": [
    {
     "name": "stdout",
     "output_type": "stream",
     "text": [
      "Example 4.3\n",
      "\n",
      "Result from self implementation:\n",
      "Intercept:  [-0.12125  0.47    -0.00625]\n",
      "Coefficient:  (array([-0.585 , -0.6225,  2.235 ,  2.1975]),)\n",
      "-x-x-x-x-x-x-x-x-x-x-x-x-x-x-x-x-x-x-x-x-x-x-x-x-x-\n",
      "Result from library:\n",
      "Prediction:  [-0.585  -0.6225  2.235   2.1975]\n",
      "Intercept:  -0.12125000000000008\n",
      "Coefficient:  [ 0.47    -0.00625]\n"
     ]
    }
   ],
   "source": [
    "## Example 4.3\n",
    "\n",
    "print(\"Example 4.3\\n\")\n",
    "X = np.array([[0, 0], [1,2], [2,4], [3,0], [4,1]])\n",
    "y = np.array([0, 0.3, 0.75, 1, 2])\n",
    "\n",
    "train = list(zip(X, y))\n",
    "test = (np.array([[-1, -1, 5, 5], [-1, 5, -1, 5]]).T)\n",
    "\n",
    "## Predict using self implemented function\n",
    "predictor_function = lin_reg(X, y, test)\n",
    "print(\"Result from self implementation:\")\n",
    "print(\"Intercept: \", predictor_function[0])\n",
    "print(\"Coefficient: \", predictor_function[1:])\n",
    "\n",
    "print(\"-x-x-x-x-x-x-x-x-x-x-x-x-x-x-x-x-x-x-x-x-x-x-x-x-x-\")\n",
    "\n",
    "## Library to check\n",
    "lin_reg_library = linear_model.LinearRegression()\n",
    "lin_reg_library.fit(X, y)\n",
    "lib_pred = lin_reg_library.predict(test)\n",
    "print(\"Result from library:\")\n",
    "print(\"Prediction: \", lib_pred)\n",
    "print(\"Intercept: \", lin_reg_library.intercept_)\n",
    "print(\"Coefficient: \", lin_reg_library.coef_)"
   ]
  },
  {
   "cell_type": "code",
   "execution_count": 177,
   "metadata": {},
   "outputs": [
    {
     "name": "stdout",
     "output_type": "stream",
     "text": [
      "(2, 8)\n",
      "(764, 8)\n",
      "(764, 2)\n",
      "Result from self implementation:\n",
      "Intercept:  [[ 7.85279647e+01  9.35999606e+01]\n",
      " [-6.01070761e+01 -6.76884496e+01]\n",
      " [ 4.30656705e-01  3.59780017e-01]\n",
      " [-4.52471154e-01 -4.00246705e-01]\n",
      " [-1.02952949e+00 -8.91824051e-01]\n",
      " [ 4.08632680e+00  4.22830077e+00]\n",
      " [-2.34523560e-02  1.22146597e-01]\n",
      " [ 1.95027836e+01  1.44315061e+01]\n",
      " [ 1.65081078e-01  1.49966636e-02]]\n",
      "Coefficient:  (array([[23.19768981, 26.340511  ],\n",
      "       [23.17423746, 26.4626576 ]]),)\n",
      "-x-x-x-x-x-x-x-x-x-x-x-x-x-x-x-x-x-x-x-x-x-x-x-x-x-\n",
      "Result from library:\n",
      "Prediction:  [[23.19768981 26.340511  ]\n",
      " [23.17423746 26.4626576 ]]\n",
      "Intercept:  [78.52796473 93.59996062]\n",
      "Coefficient:  [[-6.01070761e+01 -5.97077682e-02  3.78933190e-02 -4.88005435e-02\n",
      "   4.08632680e+00 -2.34523560e-02  1.95027836e+01  1.65081078e-01]\n",
      " [-6.76884496e+01 -6.41657868e-02  2.36990985e-02 -4.39324427e-02\n",
      "   4.22830077e+00  1.22146597e-01  1.44315061e+01  1.49966636e-02]]\n"
     ]
    }
   ],
   "source": [
    "# Energy Efficiency Data Set from UCI Machine Learning\n",
    "df = pd.read_excel('ENB2012_data.xlsx')\n",
    "\n",
    "df.columns = df.iloc[0]\n",
    "df = df[1:]\n",
    "\n",
    "x_train = df.iloc[3:,:-2]\n",
    "y_train = df.iloc[3:,-2:]\n",
    "\n",
    "x_test = df.iloc[:2,:-2]\n",
    "\n",
    "# print(df.head)\n",
    "print(x_test.shape)\n",
    "print(x_train.shape)\n",
    "print(y_train.shape)\n",
    "\n",
    "## Predict using self implemented function\n",
    "predictor_function = lin_reg(x_train, y_train, x_test)\n",
    "print(\"Result from self implementation:\")\n",
    "print(\"Intercept: \", predictor_function[0])\n",
    "print(\"Coefficient: \", predictor_function[1:])\n",
    "\n",
    "print(\"-x-x-x-x-x-x-x-x-x-x-x-x-x-x-x-x-x-x-x-x-x-x-x-x-x-\")\n",
    "\n",
    "## Library to check\n",
    "lin_reg_library = linear_model.LinearRegression()\n",
    "lin_reg_library.fit(x_train, y_train)\n",
    "lib_pred = lin_reg_library.predict(x_test)\n",
    "print(\"Result from library:\")\n",
    "print(\"Prediction: \", lib_pred)\n",
    "print(\"Intercept: \", lin_reg_library.intercept_)\n",
    "print(\"Coefficient: \", lin_reg_library.coef_)\n",
    "\n",
    "# X = np.array(data.drop(data.columns[57], 1))\n",
    "# y = np.array(data[57])\n",
    "# train = data[]"
   ]
  },
  {
   "cell_type": "code",
   "execution_count": null,
   "metadata": {},
   "outputs": [],
   "source": []
  },
  {
   "cell_type": "code",
   "execution_count": null,
   "metadata": {},
   "outputs": [],
   "source": []
  }
 ],
 "metadata": {
  "kernelspec": {
   "display_name": "Python 3",
   "language": "python",
   "name": "python3"
  },
  "language_info": {
   "codemirror_mode": {
    "name": "ipython",
    "version": 3
   },
   "file_extension": ".py",
   "mimetype": "text/x-python",
   "name": "python",
   "nbconvert_exporter": "python",
   "pygments_lexer": "ipython3",
   "version": "3.7.6"
  }
 },
 "nbformat": 4,
 "nbformat_minor": 4
}
