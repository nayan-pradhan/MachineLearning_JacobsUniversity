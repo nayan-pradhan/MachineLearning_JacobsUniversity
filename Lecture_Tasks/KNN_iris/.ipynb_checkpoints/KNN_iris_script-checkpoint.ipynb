{
 "cells": [
  {
   "cell_type": "markdown",
   "metadata": {},
   "source": [
    "Load necessary modules"
   ]
  },
  {
   "cell_type": "code",
   "execution_count": 4,
   "metadata": {},
   "outputs": [],
   "source": [
    "import numpy as np\n",
    "from sklearn.neighbors import KNeighborsClassifier"
   ]
  },
  {
   "cell_type": "markdown",
   "metadata": {},
   "source": [
    "Load the iris data set"
   ]
  },
  {
   "cell_type": "code",
   "execution_count": 10,
   "metadata": {},
   "outputs": [
    {
     "name": "stdout",
     "output_type": "stream",
     "text": [
      "[5.  3.4 1.5 0.2 1. ]\n"
     ]
    }
   ],
   "source": [
    "irisTypes=dict()\n",
    "irisTypes[b'Iris-setosa']=1\n",
    "irisTypes[b'Iris-versicolor']=2\n",
    "irisTypes[b'Iris-virginica']=3\n",
    "\n",
    "def conv(inputString):\n",
    "    return irisTypes[inputString]\n",
    "\n",
    "data = np.loadtxt('iris.data', delimiter=',', converters={4: conv})\n",
    "print(data[7,:])\n",
    "# print(data)"
   ]
  },
  {
   "cell_type": "code",
   "execution_count": 16,
   "metadata": {},
   "outputs": [
    {
     "data": {
      "text/plain": [
       "KNeighborsClassifier(algorithm='auto', leaf_size=30, metric='minkowski',\n",
       "                     metric_params=None, n_jobs=None, n_neighbors=3, p=2,\n",
       "                     weights='uniform')"
      ]
     },
     "execution_count": 16,
     "metadata": {},
     "output_type": "execute_result"
    }
   ],
   "source": [
    "X=data[:,:4]\n",
    "Y=data[:,4]\n",
    "k = 3\n",
    "neigh = KNeighborsClassifier(n_neighbors=k)\n",
    "neigh.fit(X,Y)"
   ]
  },
  {
   "cell_type": "code",
   "execution_count": null,
   "metadata": {},
   "outputs": [],
   "source": []
  }
 ],
 "metadata": {
  "kernelspec": {
   "display_name": "Python 3",
   "language": "python",
   "name": "python3"
  },
  "language_info": {
   "codemirror_mode": {
    "name": "ipython",
    "version": 3
   },
   "file_extension": ".py",
   "mimetype": "text/x-python",
   "name": "python",
   "nbconvert_exporter": "python",
   "pygments_lexer": "ipython3",
   "version": "3.7.6"
  }
 },
 "nbformat": 4,
 "nbformat_minor": 2
}
