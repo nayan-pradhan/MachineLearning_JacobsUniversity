{
 "cells": [
  {
   "cell_type": "markdown",
   "metadata": {},
   "source": [
    "# Assignment Sheet 8\n",
    "## Done by Nayan Man Singh Pradhan"
   ]
  },
  {
   "cell_type": "code",
   "execution_count": 20,
   "metadata": {},
   "outputs": [],
   "source": [
    "## Importing\n",
    "import numpy as np\n",
    "import pandas as pd\n",
    "import random"
   ]
  },
  {
   "cell_type": "code",
   "execution_count": 18,
   "metadata": {},
   "outputs": [],
   "source": [
    "# Exercise 2\n",
    "\n",
    "# def f_exact(x_i):\n",
    "#     return (x_i)**3\n",
    "\n",
    "# def y_i(x_i, e):\n",
    "#     return (f_exact(x_i)+e)"
   ]
  },
  {
   "cell_type": "code",
   "execution_count": 19,
   "metadata": {},
   "outputs": [],
   "source": [
    "# x_in = -1\n",
    "# e_in = 0.2\n",
    "\n",
    "# ans = y_i(x_in, e_in)\n",
    "# print(ans)"
   ]
  },
  {
   "cell_type": "code",
   "execution_count": 35,
   "metadata": {},
   "outputs": [],
   "source": [
    "sigma = 1.15\n",
    "\n",
    "def f_exact(x):\n",
    "    return (x)**2\n",
    "\n",
    "def f_exact_with_noise(x):\n",
    "    noise = sigma**2\n",
    "    return (f_exact(x)+noise)"
   ]
  },
  {
   "cell_type": "code",
   "execution_count": 41,
   "metadata": {},
   "outputs": [
    {
     "name": "stdout",
     "output_type": "stream",
     "text": [
      "[-1.9516552069294324, 5.131458046734766]\n"
     ]
    }
   ],
   "source": [
    "# Random x from [-4,4] x 51\n",
    "\n",
    "# Generate 100 Training Data Set of 51 training samples\n",
    "data_set = []\n",
    "for i in range(100):\n",
    "    training_samples = []\n",
    "    for j in range(51):\n",
    "        x = random.uniform(-4,4)\n",
    "        y = f_exact_with_noise(x)\n",
    "        training_sample = [x,y]\n",
    "        training_samples.append(training_sample)\n",
    "    data_set.append(training_samples)\n",
    "\n",
    "# print(data_set[3][1]) ## testing"
   ]
  },
  {
   "cell_type": "code",
   "execution_count": null,
   "metadata": {},
   "outputs": [],
   "source": []
  }
 ],
 "metadata": {
  "kernelspec": {
   "display_name": "Python 3",
   "language": "python",
   "name": "python3"
  },
  "language_info": {
   "codemirror_mode": {
    "name": "ipython",
    "version": 3
   },
   "file_extension": ".py",
   "mimetype": "text/x-python",
   "name": "python",
   "nbconvert_exporter": "python",
   "pygments_lexer": "ipython3",
   "version": "3.7.6"
  }
 },
 "nbformat": 4,
 "nbformat_minor": 4
}
