{
 "cells": [
  {
   "cell_type": "code",
   "execution_count": 1,
   "metadata": {},
   "outputs": [],
   "source": [
    "import numpy as np\n",
    "import pandas as pd"
   ]
  },
  {
   "cell_type": "code",
   "execution_count": 6,
   "metadata": {},
   "outputs": [],
   "source": [
    "## function to calculate euclidean distance\n",
    "def euclidean_distance(a, b):\n",
    "    return np.linalg.norm(a-b)\n",
    "\n",
    "## get nearest neighbor\n",
    "def get_neighbor(train, test_set, n_neigh):\n",
    "    dist_list = list()\n",
    "    for train_set in train:\n",
    "        dist = euclidean_distance(test_set, train_set)\n",
    "        dist_list.append((train_set, dist))\n",
    "        dist_list.sort(key=lambda tup: tup[1])\n",
    "    neigh_list = list()\n",
    "    for i in range(n_neigh):\n",
    "        neigh_list.append(dist_list[i][0])\n",
    "    return neigh_list"
   ]
  },
  {
   "cell_type": "code",
   "execution_count": null,
   "metadata": {},
   "outputs": [],
   "source": []
  }
 ],
 "metadata": {
  "kernelspec": {
   "display_name": "Python 3",
   "language": "python",
   "name": "python3"
  },
  "language_info": {
   "codemirror_mode": {
    "name": "ipython",
    "version": 3
   },
   "file_extension": ".py",
   "mimetype": "text/x-python",
   "name": "python",
   "nbconvert_exporter": "python",
   "pygments_lexer": "ipython3",
   "version": "3.7.6"
  }
 },
 "nbformat": 4,
 "nbformat_minor": 4
}
