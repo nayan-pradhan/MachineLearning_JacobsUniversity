{
 "cells": [
  {
   "cell_type": "markdown",
   "metadata": {},
   "source": [
    "# Assignment Sheet 4\n",
    "## Done by Nayan Man Singh Pradhan"
   ]
  },
  {
   "cell_type": "code",
   "execution_count": 595,
   "metadata": {},
   "outputs": [],
   "source": [
    "import numpy as np\n",
    "import pandas as pd\n",
    "from scipy.spatial import distance\n",
    "from collections import Counter\n",
    "import matplotlib.pyplot as plt\n",
    "from matplotlib.colors import ListedColormap"
   ]
  },
  {
   "cell_type": "markdown",
   "metadata": {},
   "source": [
    "## For Theory Exercise 3\n",
    "#### *Not part of programming homework"
   ]
  },
  {
   "cell_type": "code",
   "execution_count": 596,
   "metadata": {},
   "outputs": [
    {
     "name": "stdout",
     "output_type": "stream",
     "text": [
      "[7.280109889280518, 6.0, 5.830951894845301, 3.0, 4.242640687119285, 2.23606797749979]\n",
      "[0.0, 2.23606797749979, 2.23606797749979, 4.47213595499958, 6.4031242374328485, 9.486832980505138]\n"
     ]
    }
   ],
   "source": [
    "## For Exercise 3 \n",
    "\n",
    "## Defining input variables\n",
    "A=np.array([1,3])\n",
    "B=np.array([2,5])\n",
    "C=np.array([3,2])\n",
    "D=np.array([5,5])\n",
    "E=np.array([5,8])\n",
    "F=np.array([10,6])\n",
    "\n",
    "input_arr = [A,B,C,D,E,F]\n",
    "# print(input_arr)\n",
    "\n",
    "## Defining points that need to be classified\n",
    "x1=np.array([8,5])\n",
    "x2=np.array([1,3])\n",
    "    \n",
    "def euc(a, b):\n",
    "    return distance.euclidean(a,b)\n",
    "\n",
    "## Computing distance\n",
    "dist_x1 = []\n",
    "dist_x2 = []\n",
    "for elem in input_arr:\n",
    "    dist1 = euc(elem,x1)\n",
    "    dist2 = euc(elem,x2)\n",
    "    dist_x1.append(dist1)\n",
    "    dist_x2.append(dist2)\n",
    "\n",
    "print(dist_x1)\n",
    "print(dist_x2)"
   ]
  },
  {
   "cell_type": "markdown",
   "metadata": {},
   "source": [
    "# Programming Homework"
   ]
  },
  {
   "cell_type": "code",
   "execution_count": 597,
   "metadata": {},
   "outputs": [],
   "source": [
    "## computes euclidean distance\n",
    "def euc(a, b):\n",
    "    return distance.euclidean(a,b)\n",
    "\n",
    "## for functions:\n",
    "    ## X = X_train\n",
    "    ## Y = Y_train\n",
    "    ## x = x_test\n",
    "    ## k = number of neighbors\n",
    "\n",
    "## returns tuple of (distance, corresponding Y_train val)\n",
    "def neigh_dist(X, Y, x, k):\n",
    "    distance = [] \n",
    "    for i in range(len(X)): ## for all input \n",
    "        distance.append(euc(X[i], x)) ## distance between test point and all other input points\n",
    "    tup = list(zip(distance, Y)) ## tuple of distance and Y_train val\n",
    "    return tup\n",
    "\n",
    "## returns KNN Regression value\n",
    "def KNN_reg(X, Y, x, k):\n",
    "    dist_tup = neigh_dist(X, Y, x, k) ## distance, corresponding Y_train value\n",
    "    only_sorted_dist = sorted(dist_tup, key=lambda x:x[0]) ## sort based on distance\n",
    "    reg_arr = (list(only_sorted_dist[j][1] for j in range(len(X)))) ## array of Y_train value sorted based on distance\n",
    "    reg_val = (sum(reg_arr[0:k]))/k ## average of Y_train values until kth term\n",
    "    return reg_val ## return\n",
    "\n",
    "## returns KNN Classification value\n",
    "def KNN_clas(X, Y, x, k):\n",
    "    dist_tup = neigh_dist(X, Y, x, k) ## distance, corresponding Y_train value\n",
    "    only_sorted_dist = sorted(dist_tup, key=lambda x:x[0]) ## sort based on distance\n",
    "    clas_arr = np.array((list(only_sorted_dist[j][1] for j in range(len(X))))) ## array of Y_train value sorted based on distance\n",
    "    key = (Counter(clas_arr[0:k]).keys()) ## list of unique keys up till kth term\n",
    "    val = (Counter(clas_arr[0:k]).values()) ## list of frequency of uniqe key values up till kth term\n",
    "    clas_freq_tuple = list(zip(key, val)) ## making list of key value pair\n",
    "#     print(clas_freq_tuple) ## print class frequency tuple to check\n",
    "    knn_val = max(clas_freq_tuple, key=lambda x:x[1]) ## key value pair of term with largest value (frequency)\n",
    "    return knn_val[0] ## return only key"
   ]
  },
  {
   "cell_type": "code",
   "execution_count": 598,
   "metadata": {},
   "outputs": [
    {
     "name": "stdout",
     "output_type": "stream",
     "text": [
      "63.666666666666664\n",
      "59.666666666666664\n"
     ]
    }
   ],
   "source": [
    "## testing KNN regression\n",
    "input_x = [(1,3),(2,5),(3,2),(5,5),(5,8),(10,6)]\n",
    "input_y = [77, 47, 55, 59, 72, 60]\n",
    "test_x1 = (8,5)\n",
    "test_x2 = (1,3)\n",
    "k = 3 ## IMPORTANT\n",
    "print(KNN_reg(input_x, input_y, test_x1, k))\n",
    "print(KNN_reg(input_x, input_y, test_x2, k))"
   ]
  },
  {
   "cell_type": "code",
   "execution_count": 599,
   "metadata": {},
   "outputs": [
    {
     "name": "stdout",
     "output_type": "stream",
     "text": [
      "a\n",
      "b\n",
      "c\n"
     ]
    }
   ],
   "source": [
    "## testing KNN classification\n",
    "input_x = [(1,1),(-10,-10),(2,2),(10,12),(3,2),(10,14),(12,15),(-14,-12)]\n",
    "input_y = ['a', 'c', 'a', 'b', 'a', 'b', 'b', 'c']\n",
    "test_x1 = [(1,3)]\n",
    "test_x2 = [(12,12)]\n",
    "test_x3 = [(-13, -15)]\n",
    "k = 3 ## IMPORTANT\n",
    "print(KNN_clas(input_x, input_y, test_x1, k))\n",
    "print(KNN_clas(input_x, input_y, test_x2, k))\n",
    "print(KNN_clas(input_x, input_y, test_x3, k))"
   ]
  },
  {
   "cell_type": "code",
   "execution_count": 600,
   "metadata": {},
   "outputs": [
    {
     "name": "stdout",
     "output_type": "stream",
     "text": [
      "1.0\n",
      "1.5\n",
      "1.25\n"
     ]
    }
   ],
   "source": [
    "## verify correctness of KNN regression with Example 3.4\n",
    "input_x = [0,1,2,3,4]\n",
    "input_y = [0,0.3,0.75,1,2]\n",
    "test_x1 = 3.5\n",
    "k1 = 1\n",
    "k2 = 2\n",
    "k3 = 3\n",
    "print(KNN_reg(input_x, input_y, test_x1, k1))\n",
    "print(KNN_reg(input_x, input_y, test_x1, k2))\n",
    "print(KNN_reg(input_x, input_y, test_x1, k3))"
   ]
  },
  {
   "cell_type": "code",
   "execution_count": 601,
   "metadata": {},
   "outputs": [],
   "source": [
    "## loading data\n",
    "# raw_data = pd.read_excel('ENB2012_data.xlsx')\n",
    "# raw_data.head()\n",
    "# X1 = raw_data['X1']\n",
    "# X2 = raw_data['X2']\n",
    "# X3 = raw_data['X3']\n",
    "# X4 = raw_data['X4']\n",
    "# X5 = raw_data['X5']\n",
    "# X6 = raw_data['X6']\n",
    "# X7 = raw_data['X7']\n",
    "# X8 = raw_data['X8']\n",
    "# Y1 = raw_data['Y1']\n",
    "# Y2 = raw_data['Y2']"
   ]
  },
  {
   "cell_type": "code",
   "execution_count": 602,
   "metadata": {},
   "outputs": [],
   "source": [
    "# X = np.concatenate((X1,X2,X3,X4,X5,X6,X7,X8))\n",
    "# Y = np.concatenate((Y1,Y2))\n",
    "# k = 1"
   ]
  },
  {
   "cell_type": "code",
   "execution_count": null,
   "metadata": {},
   "outputs": [],
   "source": []
  }
 ],
 "metadata": {
  "kernelspec": {
   "display_name": "Python 3",
   "language": "python",
   "name": "python3"
  },
  "language_info": {
   "codemirror_mode": {
    "name": "ipython",
    "version": 3
   },
   "file_extension": ".py",
   "mimetype": "text/x-python",
   "name": "python",
   "nbconvert_exporter": "python",
   "pygments_lexer": "ipython3",
   "version": "3.7.6"
  }
 },
 "nbformat": 4,
 "nbformat_minor": 4
}
