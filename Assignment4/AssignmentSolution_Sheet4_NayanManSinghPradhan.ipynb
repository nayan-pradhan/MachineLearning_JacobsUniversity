{
 "cells": [
  {
   "cell_type": "code",
   "execution_count": 483,
   "metadata": {},
   "outputs": [],
   "source": [
    "import numpy as np\n",
    "import pandas as pd\n",
    "from scipy.spatial import distance"
   ]
  },
  {
   "cell_type": "markdown",
   "metadata": {},
   "source": [
    "#### *Not part of programming homework"
   ]
  },
  {
   "cell_type": "code",
   "execution_count": 351,
   "metadata": {},
   "outputs": [
    {
     "name": "stdout",
     "output_type": "stream",
     "text": [
      "[7.280109889280518, 6.0, 5.830951894845301, 3.0, 4.242640687119285, 2.23606797749979]\n",
      "[0.0, 2.23606797749979, 2.23606797749979, 4.47213595499958, 6.4031242374328485, 9.486832980505138]\n"
     ]
    }
   ],
   "source": [
    "## For Exercise 3 \n",
    "\n",
    "## Defining input variables\n",
    "A=np.array([1,3])\n",
    "B=np.array([2,5])\n",
    "C=np.array([3,2])\n",
    "D=np.array([5,5])\n",
    "E=np.array([5,8])\n",
    "F=np.array([10,6])\n",
    "\n",
    "input_arr = [A,B,C,D,E,F]\n",
    "# print(input_arr)\n",
    "\n",
    "## Defining points that need to be classified\n",
    "x1=np.array([8,5])\n",
    "x2=np.array([1,3])\n",
    "    \n",
    "def euc(a, b):\n",
    "    return distance.euclidean(a,b)\n",
    "\n",
    "## Computing distance\n",
    "dist_x1 = []\n",
    "dist_x2 = []\n",
    "for elem in input_arr:\n",
    "    dist1 = euc(elem,x1)\n",
    "    dist2 = euc(elem,x2)\n",
    "    dist_x1.append(dist1)\n",
    "    dist_x2.append(dist2)\n",
    "\n",
    "print(dist_x1)\n",
    "print(dist_x2)"
   ]
  },
  {
   "cell_type": "markdown",
   "metadata": {},
   "source": [
    "## Programming Homework"
   ]
  },
  {
   "cell_type": "code",
   "execution_count": 512,
   "metadata": {},
   "outputs": [],
   "source": [
    "## computes euclidean distance\n",
    "def euc(a, b):\n",
    "    return distance.euclidean(a,b)\n",
    "\n",
    "## for functions:\n",
    "    ## X = X_train\n",
    "    ## Y = Y_train\n",
    "    ## x = x_test\n",
    "    ## k = number of neighbors\n",
    "\n",
    "## returns tuple of (distance, corresponding Y_train val)\n",
    "def neigh_dist(X, Y, x, k):\n",
    "    distance = [] \n",
    "    for i in range(len(X)): ## for all input \n",
    "        distance.append(euc(X[i], x)) ## distance between test point and all other input points\n",
    "    tup = list(zip(distance, Y)) ## tuple of distance and Y_train val\n",
    "    return tup\n",
    "\n",
    "## returns KNN Regression value\n",
    "def KNN_reg(X, Y, x, k):\n",
    "    ## X = X_train\n",
    "    ## Y = Y_train\n",
    "    ## x = x_test\n",
    "    ## k = number of neighbor\n",
    "    dist_tup = neigh_dist(X, Y, x, k)\n",
    "    only_sorted_dist = sorted(dist_tup, key=lambda x:x[0])\n",
    "    reg_arr = (list(only_sorted_dist[j][1] for j in range(len(X))))\n",
    "    reg_val = (sum(reg_arr[0:k]))/k\n",
    "    return reg_val\n",
    "\n",
    "## returns KNN Classification value\n",
    "def KNN_clas(X, Y, x, k):\n",
    "    dist_tup = neigh_dist(X, Y, x, k)\n",
    "    only_sorted_dist = sorted(dist_tup, key=lambda x:x[0])\n",
    "    clas_arr = np.array((list(only_sorted_dist[j][1] for j in range(len(X)))))\n",
    "    \n",
    "#     print(clas_arr)\n",
    "    \n",
    "#     (unique, counts) = np.unique(clas_arr[0:k], return_counts=True)\n",
    "#     freq_of_elem_until_k = np.asarray((unique, counts)).T\n",
    "#     print(freq_of_elem_until_k)\n",
    "    \n",
    "    key = (Counter(clas_arr[0:k]).keys())\n",
    "    val = (Counter(clas_arr[0:k]).values())\n",
    "    clas_freq_tuple = list(zip(key, val))\n",
    "    \n",
    "    print(clas_freq_tuple)\n",
    "    \n",
    "    knn_val = max(clas_freq_tuple, key=lambda x:x[1])\n",
    "#     print(set(clas_arr))\n",
    "    \n",
    "#     print(set(clas_arr[0:k]))\n",
    "#     print(len(set(clas_arr[0:k])))\n",
    "    \n",
    "#     print(set(clas_arr))\n",
    "    return knn_val[0]"
   ]
  },
  {
   "cell_type": "code",
   "execution_count": 513,
   "metadata": {},
   "outputs": [
    {
     "name": "stdout",
     "output_type": "stream",
     "text": [
      "63.666666666666664\n",
      "59.666666666666664\n"
     ]
    }
   ],
   "source": [
    "## testing KNN regression\n",
    "input_x = [(1,3),(2,5),(3,2),(5,5),(5,8),(10,6)]\n",
    "input_y = [77, 47, 55, 59, 72, 60]\n",
    "test_x1 = (8,5)\n",
    "test_x2 = (1,3)\n",
    "k = 3\n",
    "print(KNN_reg(input_x, input_y, test_x1, k))\n",
    "print(KNN_reg(input_x, input_y, test_x2, k))"
   ]
  },
  {
   "cell_type": "code",
   "execution_count": 520,
   "metadata": {},
   "outputs": [
    {
     "name": "stdout",
     "output_type": "stream",
     "text": [
      "[('a', 3)]\n",
      "a\n",
      "[('b', 3)]\n",
      "b\n",
      "[('c', 2), ('a', 1)]\n",
      "c\n"
     ]
    }
   ],
   "source": [
    "## testing KNN classification\n",
    "input_x = [(1,1),(-10,-10),(2,2),(10,12),(3,2),(10,14),(12,15),(-14,-12)]\n",
    "input_y = ['a', 'c', 'a', 'b', 'a', 'b', 'b', 'c']\n",
    "test_x1 = [(1,3)]\n",
    "test_x2 = [(12,12)]\n",
    "test_x3 = [(-13, -15)]\n",
    "k = 3\n",
    "\n",
    "print(KNN_clas(input_x, input_y, test_x1, k))\n",
    "print(KNN_clas(input_x, input_y, test_x2, k))\n",
    "print(KNN_clas(input_x, input_y, test_x3, k))\n"
   ]
  },
  {
   "cell_type": "code",
   "execution_count": null,
   "metadata": {},
   "outputs": [],
   "source": []
  },
  {
   "cell_type": "code",
   "execution_count": null,
   "metadata": {},
   "outputs": [],
   "source": []
  }
 ],
 "metadata": {
  "kernelspec": {
   "display_name": "Python 3",
   "language": "python",
   "name": "python3"
  },
  "language_info": {
   "codemirror_mode": {
    "name": "ipython",
    "version": 3
   },
   "file_extension": ".py",
   "mimetype": "text/x-python",
   "name": "python",
   "nbconvert_exporter": "python",
   "pygments_lexer": "ipython3",
   "version": "3.7.6"
  }
 },
 "nbformat": 4,
 "nbformat_minor": 4
}
