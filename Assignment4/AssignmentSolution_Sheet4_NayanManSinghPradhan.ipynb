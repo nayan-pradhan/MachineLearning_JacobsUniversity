{
 "cells": [
  {
   "cell_type": "code",
   "execution_count": 27,
   "metadata": {},
   "outputs": [],
   "source": [
    "import numpy as np\n",
    "import pandas as pd\n",
    "from scipy.spatial import distance"
   ]
  },
  {
   "cell_type": "markdown",
   "metadata": {},
   "source": [
    "#### *Not part of programming homework"
   ]
  },
  {
   "cell_type": "code",
   "execution_count": 26,
   "metadata": {},
   "outputs": [
    {
     "name": "stdout",
     "output_type": "stream",
     "text": [
      "[7.280109889280518, 6.0, 5.830951894845301, 3.0, 4.242640687119285, 2.23606797749979]\n",
      "[0.0, 2.23606797749979, 2.23606797749979, 4.47213595499958, 6.4031242374328485, 9.486832980505138]\n"
     ]
    }
   ],
   "source": [
    "## For Exercise 3 \n",
    "\n",
    "## Defining input variables\n",
    "A=np.array([1,3])\n",
    "B=np.array([2,5])\n",
    "C=np.array([3,2])\n",
    "D=np.array([5,5])\n",
    "E=np.array([5,8])\n",
    "F=np.array([10,6])\n",
    "\n",
    "input_arr = [A,B,C,D,E,F]\n",
    "# print(input_arr)\n",
    "\n",
    "## Defining points that need to be classified\n",
    "x1=np.array([8,5])\n",
    "x2=np.array([1,3])\n",
    "    \n",
    "def euc(a, b):\n",
    "    return distance.euclidean(a,b)\n",
    "\n",
    "## Computing distance\n",
    "dist_x1 = []\n",
    "dist_x2 = []\n",
    "for elem in input_arr:\n",
    "    dist1 = euc(elem,x1)\n",
    "    dist2 = euc(elem,x2)\n",
    "    dist_x1.append(dist1)\n",
    "    dist_x2.append(dist2)\n",
    "\n",
    "print(dist_x1)\n",
    "print(dist_x2)"
   ]
  },
  {
   "cell_type": "markdown",
   "metadata": {},
   "source": [
    "## Programming Homework"
   ]
  },
  {
   "cell_type": "code",
   "execution_count": 6,
   "metadata": {},
   "outputs": [],
   "source": [
    "## function to calculate euclidean distance\n",
    "def euclidean_distance(a, b):\n",
    "    return np.linalg.norm(a-b)\n",
    "\n",
    "## get nearest neighbor\n",
    "def get_neighbor(train, test_set, n_neigh):\n",
    "    dist_list = list()\n",
    "    for train_set in train:\n",
    "        dist = euclidean_distance(test_set, train_set)\n",
    "        dist_list.append((train_set, dist))\n",
    "        dist_list.sort(key=lambda tup: tup[1])\n",
    "    neigh_list = list()\n",
    "    for i in range(n_neigh):\n",
    "        neigh_list.append(dist_list[i][0])\n",
    "    return neigh_list"
   ]
  },
  {
   "cell_type": "code",
   "execution_count": null,
   "metadata": {},
   "outputs": [],
   "source": [
    "## computes euclidean distance\n",
    "def euc(a, b):\n",
    "    return distance.euclidean(a,b)\n",
    "\n",
    "##\n",
    "def neigh_dist(X, Y, x, k):\n",
    "    ## X = X_train\n",
    "    ## Y = Y_train\n",
    "    ## x = x_test\n",
    "    ## k = number of neighbors\n",
    "    \n",
    "\n",
    "## computes KNN Regression\n",
    "def KNN_reg():\n",
    "    pass\n",
    "\n",
    "## computes KNN Classification\n",
    "def KNN_clas():\n",
    "    pass"
   ]
  }
 ],
 "metadata": {
  "kernelspec": {
   "display_name": "Python 3",
   "language": "python",
   "name": "python3"
  },
  "language_info": {
   "codemirror_mode": {
    "name": "ipython",
    "version": 3
   },
   "file_extension": ".py",
   "mimetype": "text/x-python",
   "name": "python",
   "nbconvert_exporter": "python",
   "pygments_lexer": "ipython3",
   "version": "3.7.6"
  }
 },
 "nbformat": 4,
 "nbformat_minor": 4
}
