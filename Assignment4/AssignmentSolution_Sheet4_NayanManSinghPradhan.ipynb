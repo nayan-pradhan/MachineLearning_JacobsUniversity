{
 "cells": [
  {
   "cell_type": "code",
   "execution_count": 27,
   "metadata": {},
   "outputs": [],
   "source": [
    "import numpy as np\n",
    "import pandas as pd\n",
    "from scipy.spatial import distance"
   ]
  },
  {
   "cell_type": "markdown",
   "metadata": {},
   "source": [
    "#### *Not part of programming homework"
   ]
  },
  {
   "cell_type": "code",
   "execution_count": 192,
   "metadata": {},
   "outputs": [
    {
     "name": "stdout",
     "output_type": "stream",
     "text": [
      "59.666666666666664\n"
     ]
    }
   ],
   "source": [
    "## For Exercise 3 \n",
    "\n",
    "## Defining input variables\n",
    "A=np.array([1,3])\n",
    "B=np.array([2,5])\n",
    "C=np.array([3,2])\n",
    "D=np.array([5,5])\n",
    "E=np.array([5,8])\n",
    "F=np.array([10,6])\n",
    "\n",
    "input_arr = [A,B,C,D,E,F]\n",
    "# print(input_arr)\n",
    "\n",
    "## Defining points that need to be classified\n",
    "x1=np.array([8,5])\n",
    "x2=np.array([1,3])\n",
    "    \n",
    "def euc(a, b):\n",
    "    return distance.euclidean(a,b)\n",
    "\n",
    "## Computing distance\n",
    "dist_x1 = []\n",
    "dist_x2 = []\n",
    "for elem in input_arr:\n",
    "    dist1 = euc(elem,x1)\n",
    "    dist2 = euc(elem,x2)\n",
    "    dist_x1.append(dist1)\n",
    "    dist_x2.append(dist2)\n",
    "\n",
    "# print(dist_x1)\n",
    "# print(dist_x2)\n",
    "\n",
    "input_x = [(1,3),(2,5),(3,2),(5,5),(5,8),(10,6)]\n",
    "input_y = [77, 47, 55, 59, 72, 60]\n",
    "test_x1 = (8,5)\n",
    "test_x2 = (1,3)\n",
    "k = 3\n",
    "neigh_dist(input_x, input_y, test_x2, k)\n",
    "print(KNN_reg(input_x, input_y, test_x2, k))"
   ]
  },
  {
   "cell_type": "markdown",
   "metadata": {},
   "source": [
    "## Programming Homework"
   ]
  },
  {
   "cell_type": "code",
   "execution_count": 6,
   "metadata": {},
   "outputs": [],
   "source": [
    "## function to calculate euclidean distance\n",
    "def euclidean_distance(a, b):\n",
    "    return np.linalg.norm(a-b)\n",
    "\n",
    "## get nearest neighbor\n",
    "def get_neighbor(train, test_set, n_neigh):\n",
    "    dist_list = list()\n",
    "    for train_set in train:\n",
    "        dist = euclidean_distance(test_set, train_set)\n",
    "        dist_list.append((train_set, dist))\n",
    "        dist_list.sort(key=lambda tup: tup[1])\n",
    "    neigh_list = list()\n",
    "    for i in range(n_neigh):\n",
    "        neigh_list.append(dist_list[i][0])\n",
    "    return neigh_list"
   ]
  },
  {
   "cell_type": "code",
   "execution_count": 191,
   "metadata": {},
   "outputs": [],
   "source": [
    "## computes euclidean distance\n",
    "def euc(a, b):\n",
    "    return distance.euclidean(a,b)\n",
    "\n",
    "def neigh_dist(X, Y, x, k):\n",
    "    ## X = X_train\n",
    "    ## Y = Y_train\n",
    "    ## x = x_test\n",
    "    ## k = number of neighbors\n",
    "    distance = [] \n",
    "    for i in range(len(X)): ## for all input \n",
    "        distance.append(euc(X[i], x)) ## distance between test point and all other input points\n",
    "    tup = list(zip(distance, Y)) ## tuple of distance and Y_train val\n",
    "    return tup\n",
    "\n",
    "## computes KNN Regression\n",
    "def KNN_reg(X, Y, x, k):\n",
    "    ## X = X_train\n",
    "    ## Y = Y_train\n",
    "    ## x = x_test\n",
    "    ## k = number of neighbor\n",
    "    dist_tup = neigh_dist(X, Y, x, k)\n",
    "    only_sorted_dist = sorted(dist_tup, key=lambda x:x[0])\n",
    "    reg_arr = (list(only_sorted_dist[j][1] for j in range(len(X))))\n",
    "    reg_val = (sum(reg_arr[0:k]))/k\n",
    "    return reg_val\n",
    "\n",
    "## computes KNN Classification\n",
    "def KNN_clas(X, Y, x, k):\n",
    "    dist_tup = neigh_dist(X, Y, x, k)"
   ]
  },
  {
   "cell_type": "code",
   "execution_count": 158,
   "metadata": {},
   "outputs": [
    {
     "name": "stdout",
     "output_type": "stream",
     "text": [
      "77\n",
      "47\n",
      "55\n",
      "59\n",
      "72\n",
      "60\n"
     ]
    }
   ],
   "source": [
    "input_x = [(1,1),(-10,-10),(2,2),(10,12),(3,2),(10,14),(12,15),(-14,-12)]\n",
    "input_y = ['a', 'c', 'a', 'b', 'a', 'b', 'b', 'c']"
   ]
  },
  {
   "cell_type": "code",
   "execution_count": null,
   "metadata": {},
   "outputs": [],
   "source": []
  }
 ],
 "metadata": {
  "kernelspec": {
   "display_name": "Python 3",
   "language": "python",
   "name": "python3"
  },
  "language_info": {
   "codemirror_mode": {
    "name": "ipython",
    "version": 3
   },
   "file_extension": ".py",
   "mimetype": "text/x-python",
   "name": "python",
   "nbconvert_exporter": "python",
   "pygments_lexer": "ipython3",
   "version": "3.7.6"
  }
 },
 "nbformat": 4,
 "nbformat_minor": 4
}
