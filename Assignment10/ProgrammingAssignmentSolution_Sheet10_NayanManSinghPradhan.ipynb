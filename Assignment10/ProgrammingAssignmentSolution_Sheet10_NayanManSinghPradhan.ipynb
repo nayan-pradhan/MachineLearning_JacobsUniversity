{
 "cells": [
  {
   "cell_type": "code",
   "execution_count": 9,
   "metadata": {},
   "outputs": [],
   "source": [
    "from tensorflow.keras.datasets import mnist\n",
    "import numpy as np\n",
    "import matplotlib.pyplot as plt"
   ]
  },
  {
   "cell_type": "code",
   "execution_count": 10,
   "metadata": {},
   "outputs": [
    {
     "name": "stdout",
     "output_type": "stream",
     "text": [
      "Downloading data from https://storage.googleapis.com/tensorflow/tf-keras-datasets/mnist.npz\n",
      "11493376/11490434 [==============================] - 14s 1us/step\n"
     ]
    },
    {
     "data": {
      "image/png": "[encoded data removed]",
      "text/plain": [
       "<Figure size 432x288 with 4 Axes>"
      ]
     },
     "metadata": {
      "needs_background": "light"
     },
     "output_type": "display_data"
    }
   ],
   "source": [
    "(X_train,G_train),(X_test,G_test) = mnist.load_data()\n",
    "idx_4 = np.where(G_train==8)\n",
    "X = X_train[idx_4,:,:]\n",
    "X = X[0,:,:,:]\n",
    "X = X.reshape(X.shape[0],28*28)\n",
    "\n",
    "fig, axs = plt.subplots(1, 4,sharex=True, sharey=True)\n",
    "for i in range(4):\n",
    "    axs[i].imshow(X[i,:].reshape((28,28)), cmap=\"gray\")"
   ]
  },
  {
   "cell_type": "code",
   "execution_count": 11,
   "metadata": {},
   "outputs": [
    {
     "data": {
      "image/png": "[encoded data removed]",
      "text/plain": [
       "<Figure size 432x288 with 3 Axes>"
      ]
     },
     "metadata": {
      "needs_background": "light"
     },
     "output_type": "display_data"
    }
   ],
   "source": [
    "x_bar = X.sum(axis=0)/X.shape[0]\n",
    "U,D,V_transp = np.linalg.svd(X-x_bar,full_matrices=False)\n",
    "V=V_transp.T\n",
    "\n",
    "fig, axs = plt.subplots(1, 3,sharex=True, sharey=True)\n",
    "axs[0].imshow(x_bar.reshape((28,28)),cmap=\"gray\")\n",
    "axs[1].imshow(V[:,0].reshape((28,28)),cmap=\"gray\")\n",
    "axs[2].imshow(V[:,1].reshape((28,28)),cmap=\"gray\")\n",
    "axs[0].set_title(\"$\\overline{\\mathbf{x}}$\")\n",
    "axs[1].set_title(\"$\\mathbf{v}_1$\")\n",
    "axs[2].set_title(\"$\\mathbf{v}_2$\")\n",
    "plt.show()"
   ]
  },
  {
   "cell_type": "code",
   "execution_count": null,
   "metadata": {},
   "outputs": [],
   "source": []
  }
 ],
 "metadata": {
  "kernelspec": {
   "display_name": "Python 3",
   "language": "python",
   "name": "python3"
  },
  "language_info": {
   "codemirror_mode": {
    "name": "ipython",
    "version": 3
   },
   "file_extension": ".py",
   "mimetype": "text/x-python",
   "name": "python",
   "nbconvert_exporter": "python",
   "pygments_lexer": "ipython3",
   "version": "3.7.6"
  }
 },
 "nbformat": 4,
 "nbformat_minor": 4
}
